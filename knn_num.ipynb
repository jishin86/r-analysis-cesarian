{
 "cells": [
  {
   "cell_type": "code",
   "execution_count": 1,
   "metadata": {},
   "outputs": [
    {
     "name": "stdout",
     "output_type": "stream",
     "text": [
      "'data.frame':\t80 obs. of  6 variables:\n",
      " $ Age: Factor w/ 22 levels \"17\",\"18\",\"19\",..: 6 10 10 12 6 10 11 16 12 11 ...\n",
      " $ DN : Factor w/ 4 levels \"1\",\"2\",\"3\",\"4\": 1 2 2 1 2 1 2 3 2 1 ...\n",
      " $ DT : Factor w/ 3 levels \"0\",\"1\",\"2\": 1 1 2 1 1 2 1 1 1 2 ...\n",
      " $ BP : Factor w/ 3 levels \"0\",\"1\",\"2\": 3 2 2 3 2 1 2 2 2 2 ...\n",
      " $ HP : Factor w/ 2 levels \"0\",\"1\": 1 1 1 1 1 1 1 1 1 1 ...\n",
      " $ CS : Factor w/ 2 levels \"0\",\"1\": 1 2 1 1 2 1 1 2 1 2 ...\n"
     ]
    }
   ],
   "source": [
    "library(\"foreign\")\n",
    "rawdata=read.arff(\"./caesarian.csv.arff\")\n",
    "colnames(rawdata) = c(\"Age\",\"DN\",\"DT\",\"BP\",\"HP\",\"CS\")\n",
    "str(rawdata)"
   ]
  },
  {
   "cell_type": "code",
   "execution_count": 2,
   "metadata": {},
   "outputs": [
    {
     "name": "stdout",
     "output_type": "stream",
     "text": [
      "[1] \"No rows containging missing value\"\n"
     ]
    }
   ],
   "source": [
    "## check missing value\n",
    "norg=length(rawdata[,1])\n",
    "## remove rows containing missing values  \n",
    "rawdata=na.omit(rawdata)\n",
    "morg=length(rawdata[,1])\n",
    "if( norg == morg ){ print(\"No rows containging missing value\")}\n",
    "if( norg != morg ){ print(\"Number of missing value=\"); print(norg-morg)}"
   ]
  },
  {
   "cell_type": "code",
   "execution_count": 3,
   "metadata": {},
   "outputs": [
    {
     "name": "stdout",
     "output_type": "stream",
     "text": [
      "'data.frame':\t56 obs. of  6 variables:\n",
      " $ Age: num  6 10 10 11 12 11 17 7 4 13 ...\n",
      " $ DN : Factor w/ 4 levels \"1\",\"2\",\"3\",\"4\": 1 2 1 2 2 1 1 1 1 1 ...\n",
      " $ DT : Factor w/ 3 levels \"0\",\"1\",\"2\": 1 2 2 1 1 2 2 2 1 3 ...\n",
      " $ BP : Factor w/ 3 levels \"0\",\"1\",\"2\": 3 2 1 2 2 2 1 2 2 1 ...\n",
      " $ HP : Factor w/ 2 levels \"0\",\"1\": 1 1 1 1 1 1 1 1 2 2 ...\n",
      " $ CS : Factor w/ 2 levels \"0\",\"1\": 1 1 1 1 1 2 2 1 1 2 ...\n",
      "'data.frame':\t24 obs. of  6 variables:\n",
      " $ Age: num  10 12 6 16 19 9 8 10 11 2 ...\n",
      " $ DN : Factor w/ 4 levels \"1\",\"2\",\"3\",\"4\": 2 1 2 3 1 1 1 1 1 1 ...\n",
      " $ DT : Factor w/ 3 levels \"0\",\"1\",\"2\": 1 1 1 1 1 3 3 2 1 1 ...\n",
      " $ BP : Factor w/ 3 levels \"0\",\"1\",\"2\": 2 3 2 2 2 1 1 2 1 2 ...\n",
      " $ HP : Factor w/ 2 levels \"0\",\"1\": 1 1 1 1 1 1 2 1 2 1 ...\n",
      " $ CS : Factor w/ 2 levels \"0\",\"1\": 2 1 2 2 1 1 2 1 2 1 ...\n"
     ]
    }
   ],
   "source": [
    "\n",
    "##sample from category data\n",
    "\n",
    "## dividing orginal data by ratio for tran, test\n",
    "\n",
    "#fix random seed\n",
    "set.seed(123)\n",
    "\n",
    "\n",
    "# make index vector(row number) for two type(x=2 : train, test) of samples \n",
    "# with probability weight : train:test = 7:3  \n",
    "# in number of sample=nrow(rawdata3)=80 )\n",
    "# replace : If TRUE, same data from orginal can be repeat in new sample\n",
    "ind = sample(2, nrow(rawdata), replace=TRUE, prob=c(0.7,0.3))\n",
    "\n",
    "\n",
    "# log reg from only numeric about Age\n",
    "\n",
    "#copy data for pre-processing \n",
    "rawdata.num_age=rawdata\n",
    "\n",
    "#change type for numeric data column=Age,DN(Delivery Number)\n",
    "rawdata.num_age$Age=as.numeric(rawdata$Age)\n",
    "#rawdata2$DN=as.numeric(rawdata$DN)\n",
    "\n",
    "traindata.num_age = rawdata.num_age[ind==1,] \n",
    "str(traindata.num_age) ## 80datas * 70% = 56datas\n",
    "testdata.num_age = rawdata.num_age[ind==2,] \n",
    "str(testdata.num_age)\n"
   ]
  },
  {
   "cell_type": "code",
   "execution_count": null,
   "metadata": {},
   "outputs": [],
   "source": []
  }
 ],
 "metadata": {
  "kernelspec": {
   "display_name": "R",
   "language": "R",
   "name": "ir"
  },
  "language_info": {
   "codemirror_mode": "r",
   "file_extension": ".r",
   "mimetype": "text/x-r-source",
   "name": "R",
   "pygments_lexer": "r",
   "version": "3.6.0"
  },
  "varInspector": {
   "cols": {
    "lenName": 16,
    "lenType": 16,
    "lenVar": 40
   },
   "kernels_config": {
    "python": {
     "delete_cmd_postfix": "",
     "delete_cmd_prefix": "del ",
     "library": "var_list.py",
     "varRefreshCmd": "print(var_dic_list())"
    },
    "r": {
     "delete_cmd_postfix": ") ",
     "delete_cmd_prefix": "rm(",
     "library": "var_list.r",
     "varRefreshCmd": "cat(var_dic_list()) "
    }
   },
   "types_to_exclude": [
    "module",
    "function",
    "builtin_function_or_method",
    "instance",
    "_Feature"
   ],
   "window_display": false
  }
 },
 "nbformat": 4,
 "nbformat_minor": 2
}
