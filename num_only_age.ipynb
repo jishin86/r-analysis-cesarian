{
 "cells": [
  {
   "cell_type": "code",
   "execution_count": 1,
   "metadata": {},
   "outputs": [
    {
     "name": "stdout",
     "output_type": "stream",
     "text": [
      "'data.frame':\t80 obs. of  6 variables:\n",
      " $ Age: Factor w/ 22 levels \"17\",\"18\",\"19\",..: 6 10 10 12 6 10 11 16 12 11 ...\n",
      " $ DN : Factor w/ 4 levels \"1\",\"2\",\"3\",\"4\": 1 2 2 1 2 1 2 3 2 1 ...\n",
      " $ DT : Factor w/ 3 levels \"0\",\"1\",\"2\": 1 1 2 1 1 2 1 1 1 2 ...\n",
      " $ BP : Factor w/ 3 levels \"0\",\"1\",\"2\": 3 2 2 3 2 1 2 2 2 2 ...\n",
      " $ HP : Factor w/ 2 levels \"0\",\"1\": 1 1 1 1 1 1 1 1 1 1 ...\n",
      " $ CS : Factor w/ 2 levels \"0\",\"1\": 1 2 1 1 2 1 1 2 1 2 ...\n"
     ]
    }
   ],
   "source": [
    "library(\"foreign\")\n",
    "rawdata=read.arff(\"./caesarian.csv.arff\")\n",
    "colnames(rawdata) = c(\"Age\",\"DN\",\"DT\",\"BP\",\"HP\",\"CS\")\n",
    "str(rawdata)"
   ]
  },
  {
   "cell_type": "code",
   "execution_count": 2,
   "metadata": {},
   "outputs": [
    {
     "name": "stdout",
     "output_type": "stream",
     "text": [
      "[1] \"No rows containging missing value\"\n"
     ]
    }
   ],
   "source": [
    "## check missing value\n",
    "norg=length(rawdata[,1])\n",
    "## remove rows containing missing values  \n",
    "rawdata=na.omit(rawdata)\n",
    "morg=length(rawdata[,1])\n",
    "if( norg == morg ){ print(\"No rows containging missing value\")}\n",
    "if( norg != morg ){ print(\"Number of missing value=\"); print(norg-morg)}"
   ]
  },
  {
   "cell_type": "code",
   "execution_count": 3,
   "metadata": {},
   "outputs": [
    {
     "name": "stdout",
     "output_type": "stream",
     "text": [
      "\n",
      " \n",
      "   Cell Contents\n",
      "|-------------------------|\n",
      "|                       N |\n",
      "| Chi-square contribution |\n",
      "|           N / Row Total |\n",
      "|           N / Col Total |\n",
      "|         N / Table Total |\n",
      "|-------------------------|\n",
      "\n",
      " \n",
      "Total Observations in Table:  80 \n",
      "\n",
      " \n",
      "             | rawdata$CS \n",
      "  rawdata$DN |         0 |         1 | Row Total | \n",
      "-------------|-----------|-----------|-----------|\n",
      "           1 |        19 |        22 |        41 | \n",
      "             |     0.142 |     0.105 |           | \n",
      "             |     0.463 |     0.537 |     0.512 | \n",
      "             |     0.559 |     0.478 |           | \n",
      "             |     0.237 |     0.275 |           | \n",
      "-------------|-----------|-----------|-----------|\n",
      "           2 |        12 |        15 |        27 | \n",
      "             |     0.024 |     0.018 |           | \n",
      "             |     0.444 |     0.556 |     0.338 | \n",
      "             |     0.353 |     0.326 |           | \n",
      "             |     0.150 |     0.188 |           | \n",
      "-------------|-----------|-----------|-----------|\n",
      "           3 |         3 |         7 |        10 | \n",
      "             |     0.368 |     0.272 |           | \n",
      "             |     0.300 |     0.700 |     0.125 | \n",
      "             |     0.088 |     0.152 |           | \n",
      "             |     0.037 |     0.087 |           | \n",
      "-------------|-----------|-----------|-----------|\n",
      "           4 |         0 |         2 |         2 | \n",
      "             |     0.850 |     0.628 |           | \n",
      "             |     0.000 |     1.000 |     0.025 | \n",
      "             |     0.000 |     0.043 |           | \n",
      "             |     0.000 |     0.025 |           | \n",
      "-------------|-----------|-----------|-----------|\n",
      "Column Total |        34 |        46 |        80 | \n",
      "             |     0.425 |     0.575 |           | \n",
      "-------------|-----------|-----------|-----------|\n",
      "\n",
      " \n",
      "\n",
      " \n",
      "   Cell Contents\n",
      "|-------------------------|\n",
      "|                       N |\n",
      "| Chi-square contribution |\n",
      "|           N / Row Total |\n",
      "|           N / Col Total |\n",
      "|         N / Table Total |\n",
      "|-------------------------|\n",
      "\n",
      " \n",
      "Total Observations in Table:  80 \n",
      "\n",
      " \n",
      "             | rawdata$CS \n",
      "  rawdata$DT |         0 |         1 | Row Total | \n",
      "-------------|-----------|-----------|-----------|\n",
      "           0 |        16 |        30 |        46 | \n",
      "             |     0.645 |     0.476 |           | \n",
      "             |     0.348 |     0.652 |     0.575 | \n",
      "             |     0.471 |     0.652 |           | \n",
      "             |     0.200 |     0.375 |           | \n",
      "-------------|-----------|-----------|-----------|\n",
      "           1 |         9 |         8 |        17 | \n",
      "             |     0.436 |     0.322 |           | \n",
      "             |     0.529 |     0.471 |     0.212 | \n",
      "             |     0.265 |     0.174 |           | \n",
      "             |     0.113 |     0.100 |           | \n",
      "-------------|-----------|-----------|-----------|\n",
      "           2 |         9 |         8 |        17 | \n",
      "             |     0.436 |     0.322 |           | \n",
      "             |     0.529 |     0.471 |     0.212 | \n",
      "             |     0.265 |     0.174 |           | \n",
      "             |     0.113 |     0.100 |           | \n",
      "-------------|-----------|-----------|-----------|\n",
      "Column Total |        34 |        46 |        80 | \n",
      "             |     0.425 |     0.575 |           | \n",
      "-------------|-----------|-----------|-----------|\n",
      "\n",
      " \n",
      "\n",
      " \n",
      "   Cell Contents\n",
      "|-------------------------|\n",
      "|                       N |\n",
      "| Chi-square contribution |\n",
      "|           N / Row Total |\n",
      "|           N / Col Total |\n",
      "|         N / Table Total |\n",
      "|-------------------------|\n",
      "\n",
      " \n",
      "Total Observations in Table:  80 \n",
      "\n",
      " \n",
      "             | rawdata$CS \n",
      "  rawdata$BP |         0 |         1 | Row Total | \n",
      "-------------|-----------|-----------|-----------|\n",
      "           0 |         5 |        15 |        20 | \n",
      "             |     1.441 |     1.065 |           | \n",
      "             |     0.250 |     0.750 |     0.250 | \n",
      "             |     0.147 |     0.326 |           | \n",
      "             |     0.062 |     0.188 |           | \n",
      "-------------|-----------|-----------|-----------|\n",
      "           1 |        23 |        17 |        40 | \n",
      "             |     2.118 |     1.565 |           | \n",
      "             |     0.575 |     0.425 |     0.500 | \n",
      "             |     0.676 |     0.370 |           | \n",
      "             |     0.287 |     0.212 |           | \n",
      "-------------|-----------|-----------|-----------|\n",
      "           2 |         6 |        14 |        20 | \n",
      "             |     0.735 |     0.543 |           | \n",
      "             |     0.300 |     0.700 |     0.250 | \n",
      "             |     0.176 |     0.304 |           | \n",
      "             |     0.075 |     0.175 |           | \n",
      "-------------|-----------|-----------|-----------|\n",
      "Column Total |        34 |        46 |        80 | \n",
      "             |     0.425 |     0.575 |           | \n",
      "-------------|-----------|-----------|-----------|\n",
      "\n",
      " \n",
      "\n",
      " \n",
      "   Cell Contents\n",
      "|-------------------------|\n",
      "|                       N |\n",
      "| Chi-square contribution |\n",
      "|           N / Row Total |\n",
      "|           N / Col Total |\n",
      "|         N / Table Total |\n",
      "|-------------------------|\n",
      "\n",
      " \n",
      "Total Observations in Table:  80 \n",
      "\n",
      " \n",
      "             | rawdata$CS \n",
      "  rawdata$HP |         0 |         1 | Row Total | \n",
      "-------------|-----------|-----------|-----------|\n",
      "           0 |        28 |        22 |        50 | \n",
      "             |     2.144 |     1.585 |           | \n",
      "             |     0.560 |     0.440 |     0.625 | \n",
      "             |     0.824 |     0.478 |           | \n",
      "             |     0.350 |     0.275 |           | \n",
      "-------------|-----------|-----------|-----------|\n",
      "           1 |         6 |        24 |        30 | \n",
      "             |     3.574 |     2.641 |           | \n",
      "             |     0.200 |     0.800 |     0.375 | \n",
      "             |     0.176 |     0.522 |           | \n",
      "             |     0.075 |     0.300 |           | \n",
      "-------------|-----------|-----------|-----------|\n",
      "Column Total |        34 |        46 |        80 | \n",
      "             |     0.425 |     0.575 |           | \n",
      "-------------|-----------|-----------|-----------|\n",
      "\n",
      " \n"
     ]
    }
   ],
   "source": [
    "## cross-tab except Age(numeric)\n",
    "#install.packages(\"gmodels\")\n",
    "library(gmodels)\n",
    "CrossTable(x=rawdata$DN, y=rawdata$CS)\n",
    "CrossTable(x=rawdata$DT, y=rawdata$CS)\n",
    "CrossTable(x=rawdata$BP, y=rawdata$CS)\n",
    "CrossTable(x=rawdata$HP, y=rawdata$CS)\n"
   ]
  },
  {
   "cell_type": "code",
   "execution_count": 7,
   "metadata": {},
   "outputs": [
    {
     "name": "stdout",
     "output_type": "stream",
     "text": [
      "'data.frame':\t56 obs. of  6 variables:\n",
      " $ Age: num  6 10 10 11 12 11 17 7 4 13 ...\n",
      " $ DN : Factor w/ 4 levels \"1\",\"2\",\"3\",\"4\": 1 2 1 2 2 1 1 1 1 1 ...\n",
      " $ DT : Factor w/ 3 levels \"0\",\"1\",\"2\": 1 2 2 1 1 2 2 2 1 3 ...\n",
      " $ BP : Factor w/ 3 levels \"0\",\"1\",\"2\": 3 2 1 2 2 2 1 2 2 1 ...\n",
      " $ HP : Factor w/ 2 levels \"0\",\"1\": 1 1 1 1 1 1 1 1 2 2 ...\n",
      " $ CS : Factor w/ 2 levels \"0\",\"1\": 1 1 1 1 1 2 2 1 1 2 ...\n",
      "'data.frame':\t24 obs. of  6 variables:\n",
      " $ Age: num  10 12 6 16 19 9 8 10 11 2 ...\n",
      " $ DN : Factor w/ 4 levels \"1\",\"2\",\"3\",\"4\": 2 1 2 3 1 1 1 1 1 1 ...\n",
      " $ DT : Factor w/ 3 levels \"0\",\"1\",\"2\": 1 1 1 1 1 3 3 2 1 1 ...\n",
      " $ BP : Factor w/ 3 levels \"0\",\"1\",\"2\": 2 3 2 2 2 1 1 2 1 2 ...\n",
      " $ HP : Factor w/ 2 levels \"0\",\"1\": 1 1 1 1 1 1 2 1 2 1 ...\n",
      " $ CS : Factor w/ 2 levels \"0\",\"1\": 2 1 2 2 1 1 2 1 2 1 ...\n"
     ]
    }
   ],
   "source": [
    "\n",
    "##sample from category data\n",
    "\n",
    "## dividing orginal data by ratio for tran, test\n",
    "\n",
    "#fix random seed\n",
    "set.seed(123)\n",
    "\n",
    "\n",
    "# make index vector(row number) for two type(x=2 : train, test) of samples \n",
    "# with probability weight : train:test = 7:3  \n",
    "# in number of sample=nrow(rawdata3)=80 )\n",
    "# replace : If TRUE, same data from orginal can be repeat in new sample\n",
    "ind = sample(2, nrow(rawdata), replace=TRUE, prob=c(0.7,0.3))\n",
    "\n",
    "\n",
    "# log reg from only numeric about Age\n",
    "\n",
    "#copy data for pre-processing \n",
    "rawdata.num_age=rawdata\n",
    "\n",
    "#change type for numeric data column=Age,DN(Delivery Number)\n",
    "rawdata.num_age$Age=as.numeric(rawdata$Age)\n",
    "#rawdata2$DN=as.numeric(rawdata$DN)\n",
    "\n",
    "traindata.num_age = rawdata.num_age[ind==1,] \n",
    "str(traindata.num_age) ## 80datas * 70% = 56datas\n",
    "testdata.num_age = rawdata.num_age[ind==2,] \n",
    "str(testdata.num_age)\n"
   ]
  },
  {
   "cell_type": "code",
   "execution_count": 9,
   "metadata": {},
   "outputs": [
    {
     "data": {
      "text/plain": [
       "\n",
       "Call:\n",
       "glm(formula = CS ~ ., family = binomial, data = traindata.num_age)\n",
       "\n",
       "Deviance Residuals: \n",
       "    Min       1Q   Median       3Q      Max  \n",
       "-1.7656  -0.8930   0.2696   0.7518   1.9929  \n",
       "\n",
       "Coefficients:\n",
       "              Estimate Std. Error z value Pr(>|z|)  \n",
       "(Intercept)    0.95446    1.44035   0.663   0.5075  \n",
       "Age            0.03012    0.08426   0.357   0.7208  \n",
       "DN2            0.04250    0.80266   0.053   0.9578  \n",
       "DN3           -0.39535    1.33656  -0.296   0.7674  \n",
       "DN4           16.89548 2150.24360   0.008   0.9937  \n",
       "DT1           -1.12722    0.91685  -1.229   0.2189  \n",
       "DT2           -0.96034    0.93098  -1.032   0.3023  \n",
       "BP1           -1.99671    1.02044  -1.957   0.0504 .\n",
       "BP2            0.18724    1.04530   0.179   0.8578  \n",
       "HP1            1.73123    0.83863   2.064   0.0390 *\n",
       "---\n",
       "Signif. codes:  0 ‘***’ 0.001 ‘**’ 0.01 ‘*’ 0.05 ‘.’ 0.1 ‘ ’ 1\n",
       "\n",
       "(Dispersion parameter for binomial family taken to be 1)\n",
       "\n",
       "    Null deviance: 75.837  on 55  degrees of freedom\n",
       "Residual deviance: 54.993  on 46  degrees of freedom\n",
       "AIC: 74.993\n",
       "\n",
       "Number of Fisher Scoring iterations: 16\n"
      ]
     },
     "metadata": {},
     "output_type": "display_data"
    }
   ],
   "source": [
    "## logistic reg. for category data (numeric type about age only)\n",
    "full.fit_num_age = glm(CS~., family=binomial, data=traindata.num_age)\n",
    "summary(full.fit_num_age)"
   ]
  },
  {
   "cell_type": "code",
   "execution_count": 10,
   "metadata": {},
   "outputs": [
    {
     "name": "stderr",
     "output_type": "stream",
     "text": [
      "Waiting for profiling to be done...\n",
      "Warning message:\n",
      "“glm.fit: fitted probabilities numerically 0 or 1 occurred”Warning message:\n",
      "“glm.fit: fitted probabilities numerically 0 or 1 occurred”Warning message:\n",
      "“glm.fit: fitted probabilities numerically 0 or 1 occurred”Warning message:\n",
      "“glm.fit: fitted probabilities numerically 0 or 1 occurred”Warning message:\n",
      "“glm.fit: fitted probabilities numerically 0 or 1 occurred”Warning message:\n",
      "“glm.fit: fitted probabilities numerically 0 or 1 occurred”Warning message:\n",
      "“glm.fit: fitted probabilities numerically 0 or 1 occurred”Warning message:\n",
      "“glm.fit: fitted probabilities numerically 0 or 1 occurred”Warning message:\n",
      "“glm.fit: fitted probabilities numerically 0 or 1 occurred”Warning message:\n",
      "“glm.fit: fitted probabilities numerically 0 or 1 occurred”Warning message:\n",
      "“glm.fit: fitted probabilities numerically 0 or 1 occurred”Warning message:\n",
      "“glm.fit: fitted probabilities numerically 0 or 1 occurred”Warning message:\n",
      "“glm.fit: fitted probabilities numerically 0 or 1 occurred”Warning message:\n",
      "“glm.fit: fitted probabilities numerically 0 or 1 occurred”Warning message:\n",
      "“glm.fit: fitted probabilities numerically 0 or 1 occurred”Warning message:\n",
      "“glm.fit: fitted probabilities numerically 0 or 1 occurred”Warning message:\n",
      "“glm.fit: fitted probabilities numerically 0 or 1 occurred”Warning message:\n",
      "“glm.fit: fitted probabilities numerically 0 or 1 occurred”Warning message:\n",
      "“glm.fit: fitted probabilities numerically 0 or 1 occurred”Warning message:\n",
      "“glm.fit: fitted probabilities numerically 0 or 1 occurred”Warning message:\n",
      "“glm.fit: fitted probabilities numerically 0 or 1 occurred”Warning message:\n",
      "“glm.fit: fitted probabilities numerically 0 or 1 occurred”Warning message:\n",
      "“glm.fit: fitted probabilities numerically 0 or 1 occurred”Warning message:\n",
      "“glm.fit: fitted probabilities numerically 0 or 1 occurred”Warning message:\n",
      "“glm.fit: fitted probabilities numerically 0 or 1 occurred”Warning message:\n",
      "“glm.fit: fitted probabilities numerically 0 or 1 occurred”Warning message:\n",
      "“glm.fit: fitted probabilities numerically 0 or 1 occurred”Warning message:\n",
      "“glm.fit: fitted probabilities numerically 0 or 1 occurred”Warning message:\n",
      "“glm.fit: fitted probabilities numerically 0 or 1 occurred”Warning message:\n",
      "“glm.fit: fitted probabilities numerically 0 or 1 occurred”Warning message:\n",
      "“glm.fit: fitted probabilities numerically 0 or 1 occurred”Warning message:\n",
      "“glm.fit: fitted probabilities numerically 0 or 1 occurred”Warning message:\n",
      "“glm.fit: fitted probabilities numerically 0 or 1 occurred”Warning message:\n",
      "“glm.fit: fitted probabilities numerically 0 or 1 occurred”Warning message:\n",
      "“glm.fit: fitted probabilities numerically 0 or 1 occurred”Warning message:\n",
      "“glm.fit: fitted probabilities numerically 0 or 1 occurred”Warning message:\n",
      "“glm.fit: fitted probabilities numerically 0 or 1 occurred”Warning message:\n",
      "“glm.fit: fitted probabilities numerically 0 or 1 occurred”Warning message:\n",
      "“glm.fit: fitted probabilities numerically 0 or 1 occurred”Warning message:\n",
      "“glm.fit: fitted probabilities numerically 0 or 1 occurred”Warning message:\n",
      "“glm.fit: fitted probabilities numerically 0 or 1 occurred”Warning message:\n",
      "“glm.fit: fitted probabilities numerically 0 or 1 occurred”Warning message:\n",
      "“glm.fit: fitted probabilities numerically 0 or 1 occurred”Warning message:\n",
      "“glm.fit: fitted probabilities numerically 0 or 1 occurred”Warning message:\n",
      "“glm.fit: fitted probabilities numerically 0 or 1 occurred”Warning message:\n",
      "“glm.fit: fitted probabilities numerically 0 or 1 occurred”Warning message:\n",
      "“glm.fit: fitted probabilities numerically 0 or 1 occurred”Warning message:\n",
      "“glm.fit: fitted probabilities numerically 0 or 1 occurred”Warning message:\n",
      "“glm.fit: fitted probabilities numerically 0 or 1 occurred”Warning message:\n",
      "“glm.fit: fitted probabilities numerically 0 or 1 occurred”Warning message:\n",
      "“glm.fit: fitted probabilities numerically 0 or 1 occurred”Warning message:\n",
      "“glm.fit: fitted probabilities numerically 0 or 1 occurred”Warning message:\n",
      "“glm.fit: fitted probabilities numerically 0 or 1 occurred”Warning message:\n",
      "“glm.fit: fitted probabilities numerically 0 or 1 occurred”Warning message:\n",
      "“glm.fit: fitted probabilities numerically 0 or 1 occurred”Warning message:\n",
      "“glm.fit: fitted probabilities numerically 0 or 1 occurred”Warning message:\n",
      "“glm.fit: fitted probabilities numerically 0 or 1 occurred”Warning message:\n",
      "“glm.fit: fitted probabilities numerically 0 or 1 occurred”Warning message:\n",
      "“glm.fit: fitted probabilities numerically 0 or 1 occurred”Warning message:\n",
      "“glm.fit: fitted probabilities numerically 0 or 1 occurred”Warning message:\n",
      "“glm.fit: fitted probabilities numerically 0 or 1 occurred”Warning message:\n",
      "“glm.fit: fitted probabilities numerically 0 or 1 occurred”Warning message:\n",
      "“glm.fit: fitted probabilities numerically 0 or 1 occurred”Warning message:\n",
      "“glm.fit: fitted probabilities numerically 0 or 1 occurred”"
     ]
    },
    {
     "data": {
      "text/html": [
       "<table>\n",
       "<thead><tr><th></th><th scope=col>2.5 %</th><th scope=col>97.5 %</th></tr></thead>\n",
       "<tbody>\n",
       "\t<tr><th scope=row>(Intercept)</th><td>  -1.864947</td><td> 3.8934781 </td></tr>\n",
       "\t<tr><th scope=row>Age</th><td>  -0.138677</td><td> 0.1990255 </td></tr>\n",
       "\t<tr><th scope=row>DN2</th><td>  -1.536625</td><td> 1.6710164 </td></tr>\n",
       "\t<tr><th scope=row>DN3</th><td>  -3.011753</td><td> 2.4101886 </td></tr>\n",
       "\t<tr><th scope=row>DN4</th><td>-312.833520</td><td>        NA </td></tr>\n",
       "\t<tr><th scope=row>DT1</th><td>  -3.095064</td><td> 0.5863972 </td></tr>\n",
       "\t<tr><th scope=row>DT2</th><td>  -2.929587</td><td> 0.8162830 </td></tr>\n",
       "\t<tr><th scope=row>BP1</th><td>  -4.206230</td><td>-0.1195749 </td></tr>\n",
       "\t<tr><th scope=row>BP2</th><td>  -1.908930</td><td> 2.3035984 </td></tr>\n",
       "\t<tr><th scope=row>HP1</th><td>   0.173105</td><td> 3.5623229 </td></tr>\n",
       "</tbody>\n",
       "</table>\n"
      ],
      "text/latex": [
       "\\begin{tabular}{r|ll}\n",
       "  & 2.5 \\% & 97.5 \\%\\\\\n",
       "\\hline\n",
       "\t(Intercept) &   -1.864947 &  3.8934781 \\\\\n",
       "\tAge &   -0.138677 &  0.1990255 \\\\\n",
       "\tDN2 &   -1.536625 &  1.6710164 \\\\\n",
       "\tDN3 &   -3.011753 &  2.4101886 \\\\\n",
       "\tDN4 & -312.833520 &         NA \\\\\n",
       "\tDT1 &   -3.095064 &  0.5863972 \\\\\n",
       "\tDT2 &   -2.929587 &  0.8162830 \\\\\n",
       "\tBP1 &   -4.206230 & -0.1195749 \\\\\n",
       "\tBP2 &   -1.908930 &  2.3035984 \\\\\n",
       "\tHP1 &    0.173105 &  3.5623229 \\\\\n",
       "\\end{tabular}\n"
      ],
      "text/markdown": [
       "\n",
       "| <!--/--> | 2.5 % | 97.5 % | \n",
       "|---|---|---|---|---|---|---|---|---|---|\n",
       "| (Intercept) |   -1.864947 |  3.8934781  | \n",
       "| Age |   -0.138677 |  0.1990255  | \n",
       "| DN2 |   -1.536625 |  1.6710164  | \n",
       "| DN3 |   -3.011753 |  2.4101886  | \n",
       "| DN4 | -312.833520 |         NA  | \n",
       "| DT1 |   -3.095064 |  0.5863972  | \n",
       "| DT2 |   -2.929587 |  0.8162830  | \n",
       "| BP1 |   -4.206230 | -0.1195749  | \n",
       "| BP2 |   -1.908930 |  2.3035984  | \n",
       "| HP1 |    0.173105 |  3.5623229  | \n",
       "\n",
       "\n"
      ],
      "text/plain": [
       "            2.5 %       97.5 %    \n",
       "(Intercept)   -1.864947  3.8934781\n",
       "Age           -0.138677  0.1990255\n",
       "DN2           -1.536625  1.6710164\n",
       "DN3           -3.011753  2.4101886\n",
       "DN4         -312.833520         NA\n",
       "DT1           -3.095064  0.5863972\n",
       "DT2           -2.929587  0.8162830\n",
       "BP1           -4.206230 -0.1195749\n",
       "BP2           -1.908930  2.3035984\n",
       "HP1            0.173105  3.5623229"
      ]
     },
     "metadata": {},
     "output_type": "display_data"
    },
    {
     "data": {
      "text/html": [
       "<dl class=dl-horizontal>\n",
       "\t<dt>(Intercept)</dt>\n",
       "\t\t<dd>2.59727932142367</dd>\n",
       "\t<dt>Age</dt>\n",
       "\t\t<dd>1.03057801610931</dd>\n",
       "\t<dt>DN2</dt>\n",
       "\t\t<dd>1.04341982905049</dd>\n",
       "\t<dt>DN3</dt>\n",
       "\t\t<dd>0.67344505167936</dd>\n",
       "\t<dt>DN4</dt>\n",
       "\t\t<dd>21757735.95799</dd>\n",
       "\t<dt>DT1</dt>\n",
       "\t\t<dd>0.323932875959093</dd>\n",
       "\t<dt>DT2</dt>\n",
       "\t\t<dd>0.382762339351219</dd>\n",
       "\t<dt>BP1</dt>\n",
       "\t\t<dd>0.135781042414399</dd>\n",
       "\t<dt>BP2</dt>\n",
       "\t\t<dd>1.20591971587793</dd>\n",
       "\t<dt>HP1</dt>\n",
       "\t\t<dd>5.64759518640079</dd>\n",
       "</dl>\n"
      ],
      "text/latex": [
       "\\begin{description*}\n",
       "\\item[(Intercept)] 2.59727932142367\n",
       "\\item[Age] 1.03057801610931\n",
       "\\item[DN2] 1.04341982905049\n",
       "\\item[DN3] 0.67344505167936\n",
       "\\item[DN4] 21757735.95799\n",
       "\\item[DT1] 0.323932875959093\n",
       "\\item[DT2] 0.382762339351219\n",
       "\\item[BP1] 0.135781042414399\n",
       "\\item[BP2] 1.20591971587793\n",
       "\\item[HP1] 5.64759518640079\n",
       "\\end{description*}\n"
      ],
      "text/markdown": [
       "(Intercept)\n",
       ":   2.59727932142367Age\n",
       ":   1.03057801610931DN2\n",
       ":   1.04341982905049DN3\n",
       ":   0.67344505167936DN4\n",
       ":   21757735.95799DT1\n",
       ":   0.323932875959093DT2\n",
       ":   0.382762339351219BP1\n",
       ":   0.135781042414399BP2\n",
       ":   1.20591971587793HP1\n",
       ":   5.64759518640079\n",
       "\n"
      ],
      "text/plain": [
       " (Intercept)          Age          DN2          DN3          DN4          DT1 \n",
       "2.597279e+00 1.030578e+00 1.043420e+00 6.734451e-01 2.175774e+07 3.239329e-01 \n",
       "         DT2          BP1          BP2          HP1 \n",
       "3.827623e-01 1.357810e-01 1.205920e+00 5.647595e+00 "
      ]
     },
     "metadata": {},
     "output_type": "display_data"
    }
   ],
   "source": [
    "#confidence interval\n",
    "confint(full.fit_num_age)\n",
    "#odd's ratio\n",
    "exp(coef(full.fit_num_age))"
   ]
  },
  {
   "cell_type": "code",
   "execution_count": 13,
   "metadata": {},
   "outputs": [
    {
     "name": "stderr",
     "output_type": "stream",
     "text": [
      "Loading required package: carData\n"
     ]
    },
    {
     "data": {
      "text/html": [
       "<table>\n",
       "<thead><tr><th></th><th scope=col>GVIF</th><th scope=col>Df</th><th scope=col>GVIF^(1/(2*Df))</th></tr></thead>\n",
       "<tbody>\n",
       "\t<tr><th scope=row>Age</th><td>1.426585</td><td>1       </td><td>1.194397</td></tr>\n",
       "\t<tr><th scope=row>DN</th><td>1.997602</td><td>3       </td><td>1.122238</td></tr>\n",
       "\t<tr><th scope=row>DT</th><td>1.529604</td><td>2       </td><td>1.112102</td></tr>\n",
       "\t<tr><th scope=row>BP</th><td>1.671006</td><td>2       </td><td>1.136958</td></tr>\n",
       "\t<tr><th scope=row>HP</th><td>1.364476</td><td>1       </td><td>1.168108</td></tr>\n",
       "</tbody>\n",
       "</table>\n"
      ],
      "text/latex": [
       "\\begin{tabular}{r|lll}\n",
       "  & GVIF & Df & GVIF\\textasciicircum{}(1/(2*Df))\\\\\n",
       "\\hline\n",
       "\tAge & 1.426585 & 1        & 1.194397\\\\\n",
       "\tDN & 1.997602 & 3        & 1.122238\\\\\n",
       "\tDT & 1.529604 & 2        & 1.112102\\\\\n",
       "\tBP & 1.671006 & 2        & 1.136958\\\\\n",
       "\tHP & 1.364476 & 1        & 1.168108\\\\\n",
       "\\end{tabular}\n"
      ],
      "text/markdown": [
       "\n",
       "| <!--/--> | GVIF | Df | GVIF^(1/(2*Df)) | \n",
       "|---|---|---|---|---|\n",
       "| Age | 1.426585 | 1        | 1.194397 | \n",
       "| DN | 1.997602 | 3        | 1.122238 | \n",
       "| DT | 1.529604 | 2        | 1.112102 | \n",
       "| BP | 1.671006 | 2        | 1.136958 | \n",
       "| HP | 1.364476 | 1        | 1.168108 | \n",
       "\n",
       "\n"
      ],
      "text/plain": [
       "    GVIF     Df GVIF^(1/(2*Df))\n",
       "Age 1.426585 1  1.194397       \n",
       "DN  1.997602 3  1.122238       \n",
       "DT  1.529604 2  1.112102       \n",
       "BP  1.671006 2  1.136958       \n",
       "HP  1.364476 1  1.168108       "
      ]
     },
     "metadata": {},
     "output_type": "display_data"
    }
   ],
   "source": [
    "# variance inflation factor\n",
    "library(car)\n",
    "vif(full.fit_num_age)"
   ]
  },
  {
   "cell_type": "code",
   "execution_count": 21,
   "metadata": {},
   "outputs": [
    {
     "data": {
      "text/plain": [
       "   \n",
       "     0  1\n",
       "  0 15  6\n",
       "  1  8 27"
      ]
     },
     "metadata": {},
     "output_type": "display_data"
    }
   ],
   "source": [
    "#prediction in the range 0~1 (rseponse)\n",
    "traindata.num_age$prob = predict(full.fit_num_age, type=\"response\")\n",
    "traindata.num_age$predict = rep(0, length(traindata.num_age$prob)) # make empty vector as 0 (False)\n",
    "traindata.num_age$predict[traindata.num_age$prob>0.5] = 1 #fill vector if true (prob>0.5)\n",
    "confm=table(traindata.num_age$predict, traindata.num_age$CS)\n",
    "confm"
   ]
  },
  {
   "cell_type": "code",
   "execution_count": 23,
   "metadata": {},
   "outputs": [
    {
     "data": {
      "text/plain": [
       "Confusion Matrix and Statistics\n",
       "\n",
       "          Reference\n",
       "Prediction  0  1\n",
       "         0 15  6\n",
       "         1  8 27\n",
       "                                          \n",
       "               Accuracy : 0.75            \n",
       "                 95% CI : (0.6163, 0.8561)\n",
       "    No Information Rate : 0.5893          \n",
       "    P-Value [Acc > NIR] : 0.009055        \n",
       "                                          \n",
       "                  Kappa : 0.4766          \n",
       " Mcnemar's Test P-Value : 0.789268        \n",
       "                                          \n",
       "            Sensitivity : 0.8182          \n",
       "            Specificity : 0.6522          \n",
       "         Pos Pred Value : 0.7714          \n",
       "         Neg Pred Value : 0.7143          \n",
       "             Prevalence : 0.5893          \n",
       "         Detection Rate : 0.4821          \n",
       "   Detection Prevalence : 0.6250          \n",
       "      Balanced Accuracy : 0.7352          \n",
       "                                          \n",
       "       'Positive' Class : 1               \n",
       "                                          "
      ]
     },
     "metadata": {},
     "output_type": "display_data"
    },
    {
     "name": "stdout",
     "output_type": "stream",
     "text": [
      "List of 6\n",
      " $ positive: chr \"1\"\n",
      " $ table   : 'table' int [1:2, 1:2] 15 8 6 27\n",
      "  ..- attr(*, \"dimnames\")=List of 2\n",
      "  .. ..$ Prediction: chr [1:2] \"0\" \"1\"\n",
      "  .. ..$ Reference : chr [1:2] \"0\" \"1\"\n",
      " $ overall : Named num [1:7] 0.75 0.477 0.616 0.856 0.589 ...\n",
      "  ..- attr(*, \"names\")= chr [1:7] \"Accuracy\" \"Kappa\" \"AccuracyLower\" \"AccuracyUpper\" ...\n",
      " $ byClass : Named num [1:11] 0.818 0.652 0.771 0.714 0.771 ...\n",
      "  ..- attr(*, \"names\")= chr [1:11] \"Sensitivity\" \"Specificity\" \"Pos Pred Value\" \"Neg Pred Value\" ...\n",
      " $ mode    : chr \"sens_spec\"\n",
      " $ dots    : list()\n",
      " - attr(*, \"class\")= chr \"confusionMatrix\"\n",
      "Sensitivity \n",
      "  0.8181818 \n",
      "Pos Pred Value \n",
      "     0.7714286 \n",
      "Accuracy \n",
      "    0.75 \n"
     ]
    }
   ],
   "source": [
    "#confusion matrix for train sample\n",
    "library(caret)\n",
    "confm=confusionMatrix(as.factor(traindata.num_age$predict), as.factor(traindata.num_age$CS), positive=\"1\")\n",
    "confm\n",
    "str(confm)\n",
    "# Sensitivity = Precision\n",
    "Precision=confm$byClass[\"Sensitivity\"]\n",
    "print(Precision)\n",
    "# Pos Pred Value = Recall\n",
    "Recall=confm$byClass[\"Pos Pred Value\"]\n",
    "print(Recall)\n",
    "# Accuracy\n",
    "Accuracy = confm$overall[\"Accuracy\"]\n",
    "print(Accuracy)"
   ]
  },
  {
   "cell_type": "code",
   "execution_count": 24,
   "metadata": {},
   "outputs": [
    {
     "data": {
      "text/plain": [
       "   \n",
       "    0 1\n",
       "  0 5 4\n",
       "  1 6 9"
      ]
     },
     "metadata": {},
     "output_type": "display_data"
    },
    {
     "data": {
      "text/html": [
       "0.583333333333333"
      ],
      "text/latex": [
       "0.583333333333333"
      ],
      "text/markdown": [
       "0.583333333333333"
      ],
      "text/plain": [
       "[1] 0.5833333"
      ]
     },
     "metadata": {},
     "output_type": "display_data"
    }
   ],
   "source": [
    "# test sample\n",
    "testdata.num_age$prob = predict(full.fit_num_age, newdata=testdata.num_age, type=\"response\")\n",
    "testdata.num_age$predict = rep(0, length(testdata.num_age$prob))\n",
    "testdata.num_age$predict[testdata.num_age$prob>0.5] = 1\n",
    "table(testdata.num_age$predict, testdata.num_age$CS)\n",
    "mean(testdata.num_age$predict == testdata.num_age$CS)"
   ]
  },
  {
   "cell_type": "code",
   "execution_count": 26,
   "metadata": {},
   "outputs": [
    {
     "data": {
      "text/plain": [
       "Confusion Matrix and Statistics\n",
       "\n",
       "          Reference\n",
       "Prediction 0 1\n",
       "         0 5 4\n",
       "         1 6 9\n",
       "                                          \n",
       "               Accuracy : 0.5833          \n",
       "                 95% CI : (0.3664, 0.7789)\n",
       "    No Information Rate : 0.5417          \n",
       "    P-Value [Acc > NIR] : 0.4213          \n",
       "                                          \n",
       "                  Kappa : 0.1489          \n",
       " Mcnemar's Test P-Value : 0.7518          \n",
       "                                          \n",
       "            Sensitivity : 0.6923          \n",
       "            Specificity : 0.4545          \n",
       "         Pos Pred Value : 0.6000          \n",
       "         Neg Pred Value : 0.5556          \n",
       "             Prevalence : 0.5417          \n",
       "         Detection Rate : 0.3750          \n",
       "   Detection Prevalence : 0.6250          \n",
       "      Balanced Accuracy : 0.5734          \n",
       "                                          \n",
       "       'Positive' Class : 1               \n",
       "                                          "
      ]
     },
     "metadata": {},
     "output_type": "display_data"
    },
    {
     "name": "stdout",
     "output_type": "stream",
     "text": [
      "List of 6\n",
      " $ positive: chr \"1\"\n",
      " $ table   : 'table' int [1:2, 1:2] 5 6 4 9\n",
      "  ..- attr(*, \"dimnames\")=List of 2\n",
      "  .. ..$ Prediction: chr [1:2] \"0\" \"1\"\n",
      "  .. ..$ Reference : chr [1:2] \"0\" \"1\"\n",
      " $ overall : Named num [1:7] 0.583 0.149 0.366 0.779 0.542 ...\n",
      "  ..- attr(*, \"names\")= chr [1:7] \"Accuracy\" \"Kappa\" \"AccuracyLower\" \"AccuracyUpper\" ...\n",
      " $ byClass : Named num [1:11] 0.692 0.455 0.6 0.556 0.6 ...\n",
      "  ..- attr(*, \"names\")= chr [1:11] \"Sensitivity\" \"Specificity\" \"Pos Pred Value\" \"Neg Pred Value\" ...\n",
      " $ mode    : chr \"sens_spec\"\n",
      " $ dots    : list()\n",
      " - attr(*, \"class\")= chr \"confusionMatrix\"\n",
      "Sensitivity \n",
      "  0.6923077 \n",
      "Pos Pred Value \n",
      "           0.6 \n",
      " Accuracy \n",
      "0.5833333 \n"
     ]
    }
   ],
   "source": [
    "#confusion matrix for test sample\n",
    "library(caret)\n",
    "confm=confusionMatrix(as.factor(testdata.num_age$predict), as.factor(testdata.num_age$CS), positive=\"1\")\n",
    "# Sensitivity = Precision\n",
    "# Pos Pred Value = Recall\n",
    "# Accuracy\n",
    "confm\n",
    "str(confm)\n",
    "# Sensitivity = Precision\n",
    "Precision=confm$byClass[\"Sensitivity\"]\n",
    "print(Precision)\n",
    "# Pos Pred Value = Recall\n",
    "Recall=confm$byClass[\"Pos Pred Value\"]\n",
    "print(Recall)\n",
    "# Accuracy\n",
    "Accuracy = confm$overall[\"Accuracy\"]\n",
    "print(Accuracy)"
   ]
  },
  {
   "cell_type": "code",
   "execution_count": 27,
   "metadata": {},
   "outputs": [
    {
     "name": "stderr",
     "output_type": "stream",
     "text": [
      "Loading required package: leaps\n"
     ]
    },
    {
     "data": {
      "text/html": [
       "<ol class=list-inline>\n",
       "\t<li>'Age'</li>\n",
       "\t<li>'DN'</li>\n",
       "\t<li>'DT'</li>\n",
       "\t<li>'BP'</li>\n",
       "\t<li>'HP'</li>\n",
       "\t<li>'y'</li>\n",
       "</ol>\n"
      ],
      "text/latex": [
       "\\begin{enumerate*}\n",
       "\\item 'Age'\n",
       "\\item 'DN'\n",
       "\\item 'DT'\n",
       "\\item 'BP'\n",
       "\\item 'HP'\n",
       "\\item 'y'\n",
       "\\end{enumerate*}\n"
      ],
      "text/markdown": [
       "1. 'Age'\n",
       "2. 'DN'\n",
       "3. 'DT'\n",
       "4. 'BP'\n",
       "5. 'HP'\n",
       "6. 'y'\n",
       "\n",
       "\n"
      ],
      "text/plain": [
       "[1] \"Age\" \"DN\"  \"DT\"  \"BP\"  \"HP\"  \"y\"  "
      ]
     },
     "metadata": {},
     "output_type": "display_data"
    },
    {
     "data": {
      "text/html": [
       "<table>\n",
       "<thead><tr><th></th><th scope=col>Age</th><th scope=col>DN</th><th scope=col>DT</th><th scope=col>BP</th><th scope=col>HP</th><th scope=col>y</th></tr></thead>\n",
       "<tbody>\n",
       "\t<tr><th scope=row>1</th><td> 6</td><td>1 </td><td>0 </td><td>2 </td><td>0 </td><td>0 </td></tr>\n",
       "\t<tr><th scope=row>3</th><td>10</td><td>2 </td><td>1 </td><td>1 </td><td>0 </td><td>0 </td></tr>\n",
       "\t<tr><th scope=row>6</th><td>10</td><td>1 </td><td>1 </td><td>0 </td><td>0 </td><td>0 </td></tr>\n",
       "\t<tr><th scope=row>7</th><td>11</td><td>2 </td><td>0 </td><td>1 </td><td>0 </td><td>0 </td></tr>\n",
       "\t<tr><th scope=row>9</th><td>12</td><td>2 </td><td>0 </td><td>1 </td><td>0 </td><td>0 </td></tr>\n",
       "\t<tr><th scope=row>10</th><td>11</td><td>1 </td><td>1 </td><td>1 </td><td>0 </td><td>1 </td></tr>\n",
       "</tbody>\n",
       "</table>\n"
      ],
      "text/latex": [
       "\\begin{tabular}{r|llllll}\n",
       "  & Age & DN & DT & BP & HP & y\\\\\n",
       "\\hline\n",
       "\t1 &  6 & 1  & 0  & 2  & 0  & 0 \\\\\n",
       "\t3 & 10 & 2  & 1  & 1  & 0  & 0 \\\\\n",
       "\t6 & 10 & 1  & 1  & 0  & 0  & 0 \\\\\n",
       "\t7 & 11 & 2  & 0  & 1  & 0  & 0 \\\\\n",
       "\t9 & 12 & 2  & 0  & 1  & 0  & 0 \\\\\n",
       "\t10 & 11 & 1  & 1  & 1  & 0  & 1 \\\\\n",
       "\\end{tabular}\n"
      ],
      "text/markdown": [
       "\n",
       "| <!--/--> | Age | DN | DT | BP | HP | y | \n",
       "|---|---|---|---|---|---|\n",
       "| 1 |  6 | 1  | 0  | 2  | 0  | 0  | \n",
       "| 3 | 10 | 2  | 1  | 1  | 0  | 0  | \n",
       "| 6 | 10 | 1  | 1  | 0  | 0  | 0  | \n",
       "| 7 | 11 | 2  | 0  | 1  | 0  | 0  | \n",
       "| 9 | 12 | 2  | 0  | 1  | 0  | 0  | \n",
       "| 10 | 11 | 1  | 1  | 1  | 0  | 1  | \n",
       "\n",
       "\n"
      ],
      "text/plain": [
       "   Age DN DT BP HP y\n",
       "1   6  1  0  2  0  0\n",
       "3  10  2  1  1  0  0\n",
       "6  10  1  1  0  0  0\n",
       "7  11  2  0  1  0  0\n",
       "9  12  2  0  1  0  0\n",
       "10 11  1  1  1  0  1"
      ]
     },
     "metadata": {},
     "output_type": "display_data"
    },
    {
     "name": "stdout",
     "output_type": "stream",
     "text": [
      "'data.frame':\t56 obs. of  6 variables:\n",
      " $ Age: num  6 10 10 11 12 11 17 7 4 13 ...\n",
      " $ DN : Factor w/ 4 levels \"1\",\"2\",\"3\",\"4\": 1 2 1 2 2 1 1 1 1 1 ...\n",
      " $ DT : Factor w/ 3 levels \"0\",\"1\",\"2\": 1 2 2 1 1 2 2 2 1 3 ...\n",
      " $ BP : Factor w/ 3 levels \"0\",\"1\",\"2\": 3 2 1 2 2 2 1 2 2 1 ...\n",
      " $ HP : Factor w/ 2 levels \"0\",\"1\": 1 1 1 1 1 1 1 1 2 2 ...\n",
      " $ y  : Factor w/ 2 levels \"0\",\"1\": 1 1 1 1 1 2 2 1 1 2 ...\n"
     ]
    }
   ],
   "source": [
    "#best subset reg.\n",
    "library(bestglm)\n",
    "cvdata = traindata.num_age[,-7:-8]\n",
    "orgcolname=colnames(rawdata)\n",
    "orgcolname[6]=\"y\"\n",
    "orgcolname\n",
    "colnames(cvdata)=orgcolname\n",
    "head(cvdata)\n",
    "#cvdata$y= as.numeric(traindata$CS)\n",
    "str(cvdata)"
   ]
  },
  {
   "cell_type": "code",
   "execution_count": 73,
   "metadata": {},
   "outputs": [
    {
     "ename": "ERROR",
     "evalue": "Error in bestglm(Xy = cvdata, IC = \"CV\", CVArgs = list(Method = \"HTF\", : Cross-validation not available when there are categorical variables with more than 2 levels!\n",
     "output_type": "error",
     "traceback": [
      "Error in bestglm(Xy = cvdata, IC = \"CV\", CVArgs = list(Method = \"HTF\", : Cross-validation not available when there are categorical variables with more than 2 levels!\nTraceback:\n",
      "1. bestglm(Xy = cvdata, IC = \"CV\", CVArgs = list(Method = \"HTF\", \n .     K = 10, REP = 1), family = binomial)",
      "2. stop(\"Cross-validation not available when there are categorical variables with more than 2 levels!\")"
     ]
    }
   ],
   "source": [
    "#k-fold cross validation\n",
    "cvdata.bestset=bestglm(Xy=cvdata, IC=\"CV\", CVArgs=list(Method=\"HTF\", K=10, REP=1), family=binomial)\n",
    "summary(cvdata.best)"
   ]
  },
  {
   "cell_type": "code",
   "execution_count": 71,
   "metadata": {
    "scrolled": true
   },
   "outputs": [
    {
     "name": "stderr",
     "output_type": "stream",
     "text": [
      "Morgan-Tatar search since family is non-gaussian.\n",
      "Note: factors present with more than 2 levels.\n",
      "Warning message in model.response(mf, \"numeric\"):\n",
      "“using type = \"numeric\" with a factor response will be ignored”Warning message in Ops.factor(y, z$residuals):\n",
      "“‘-’ not meaningful for factors”ERROR while rich displaying an object: Error in levels(x)[x]: only 0's may be mixed with negative subscripts\n",
      "\n",
      "Traceback:\n",
      "1. FUN(X[[i]], ...)\n",
      "2. tryCatch(withCallingHandlers({\n",
      " .     rpr <- mime2repr[[mime]](obj)\n",
      " .     if (is.null(rpr)) \n",
      " .         return(NULL)\n",
      " .     prepare_content(is.raw(rpr), rpr)\n",
      " . }, error = error_handler), error = outer_handler)\n",
      "3. tryCatchList(expr, classes, parentenv, handlers)\n",
      "4. tryCatchOne(expr, names, parentenv, handlers[[1L]])\n",
      "5. doTryCatch(return(expr), name, parentenv, handler)\n",
      "6. withCallingHandlers({\n",
      " .     rpr <- mime2repr[[mime]](obj)\n",
      " .     if (is.null(rpr)) \n",
      " .         return(NULL)\n",
      " .     prepare_content(is.raw(rpr), rpr)\n",
      " . }, error = error_handler)\n",
      "7. mime2repr[[mime]](obj)\n",
      "8. repr_text.default(obj)\n",
      "9. paste(capture.output(print(obj)), collapse = \"\\n\")\n",
      "10. capture.output(print(obj))\n",
      "11. evalVis(expr)\n",
      "12. withVisible(eval(expr, pf))\n",
      "13. eval(expr, pf)\n",
      "14. eval(expr, pf)\n",
      "15. print(obj)\n",
      "16. print.bestglm(obj)\n",
      "17. summary(aov(x$BestModel))\n",
      "18. summary.aov(aov(x$BestModel))\n",
      "19. as.matrix(effects)\n",
      "20. as.matrix.default(effects)\n",
      "21. array(x, c(length(x), 1L), if (!is.null(names(x))) list(names(x), \n",
      "  .     NULL) else NULL)\n",
      "22. as.vector(data)\n",
      "23. as.vector(x, mode)\n",
      "24. as.vector.factor(x, mode)\n",
      "25. as.vector(levels(x)[x], mode)\n"
     ]
    },
    {
     "data": {},
     "metadata": {},
     "output_type": "display_data"
    }
   ],
   "source": [
    "#BIC\n",
    "cvdata.bestset=bestglm(Xy=cvdata, IC=\"BIC\", family=binomial)\n",
    "cvdata.bestset"
   ]
  },
  {
   "cell_type": "code",
   "execution_count": 77,
   "metadata": {},
   "outputs": [
    {
     "name": "stderr",
     "output_type": "stream",
     "text": [
      "Morgan-Tatar search since family is non-gaussian.\n"
     ]
    },
    {
     "data": {
      "text/plain": [
       "AIC\n",
       "BICq equivalent for q in (0.594700785079971, 0.832475681670486)\n",
       "Best Model:\n",
       "              Estimate Std. Error   z value    Pr(>|z|)\n",
       "(Intercept) -0.5851859  0.3965529 -1.475682 0.140029355\n",
       "BP1          1.2990331  0.7579427  1.713894 0.086548281\n",
       "HP1          1.7610135  0.6698738  2.628874 0.008566817"
      ]
     },
     "metadata": {},
     "output_type": "display_data"
    }
   ],
   "source": [
    "#etc\n",
    "cvdata.bestset=bestglm(Xy=cvdata.bin, IC=\"AIC\", family=binomial)\n",
    "cvdata.bestset"
   ]
  },
  {
   "cell_type": "code",
   "execution_count": 95,
   "metadata": {},
   "outputs": [
    {
     "data": {
      "image/png": "[encoded data removed]",
      "text/plain": [
       "plot without title"
      ]
     },
     "metadata": {},
     "output_type": "display_data"
    }
   ],
   "source": [
    "# feature selection\n",
    "plot(cvdata[-6])"
   ]
  },
  {
   "cell_type": "code",
   "execution_count": 67,
   "metadata": {},
   "outputs": [
    {
     "data": {
      "text/html": [
       "<table>\n",
       "<thead><tr><th></th><th scope=col>Age</th><th scope=col>DN</th><th scope=col>DT</th><th scope=col>BP</th><th scope=col>HP</th><th scope=col>y</th></tr></thead>\n",
       "<tbody>\n",
       "\t<tr><th scope=row>1</th><td> 6</td><td>1 </td><td>0 </td><td>2 </td><td>0 </td><td>0 </td></tr>\n",
       "\t<tr><th scope=row>3</th><td>10</td><td>2 </td><td>1 </td><td>1 </td><td>0 </td><td>0 </td></tr>\n",
       "\t<tr><th scope=row>6</th><td>10</td><td>1 </td><td>1 </td><td>0 </td><td>0 </td><td>0 </td></tr>\n",
       "\t<tr><th scope=row>7</th><td>11</td><td>2 </td><td>0 </td><td>1 </td><td>0 </td><td>0 </td></tr>\n",
       "\t<tr><th scope=row>9</th><td>12</td><td>2 </td><td>0 </td><td>1 </td><td>0 </td><td>0 </td></tr>\n",
       "\t<tr><th scope=row>10</th><td>11</td><td>1 </td><td>1 </td><td>1 </td><td>0 </td><td>1 </td></tr>\n",
       "</tbody>\n",
       "</table>\n"
      ],
      "text/latex": [
       "\\begin{tabular}{r|llllll}\n",
       "  & Age & DN & DT & BP & HP & y\\\\\n",
       "\\hline\n",
       "\t1 &  6 & 1  & 0  & 2  & 0  & 0 \\\\\n",
       "\t3 & 10 & 2  & 1  & 1  & 0  & 0 \\\\\n",
       "\t6 & 10 & 1  & 1  & 0  & 0  & 0 \\\\\n",
       "\t7 & 11 & 2  & 0  & 1  & 0  & 0 \\\\\n",
       "\t9 & 12 & 2  & 0  & 1  & 0  & 0 \\\\\n",
       "\t10 & 11 & 1  & 1  & 1  & 0  & 1 \\\\\n",
       "\\end{tabular}\n"
      ],
      "text/markdown": [
       "\n",
       "| <!--/--> | Age | DN | DT | BP | HP | y | \n",
       "|---|---|---|---|---|---|\n",
       "| 1 |  6 | 1  | 0  | 2  | 0  | 0  | \n",
       "| 3 | 10 | 2  | 1  | 1  | 0  | 0  | \n",
       "| 6 | 10 | 1  | 1  | 0  | 0  | 0  | \n",
       "| 7 | 11 | 2  | 0  | 1  | 0  | 0  | \n",
       "| 9 | 12 | 2  | 0  | 1  | 0  | 0  | \n",
       "| 10 | 11 | 1  | 1  | 1  | 0  | 1  | \n",
       "\n",
       "\n"
      ],
      "text/plain": [
       "   Age DN DT BP HP y\n",
       "1   6  1  0  2  0  0\n",
       "3  10  2  1  1  0  0\n",
       "6  10  1  1  0  0  0\n",
       "7  11  2  0  1  0  0\n",
       "9  12  2  0  1  0  0\n",
       "10 11  1  1  1  0  1"
      ]
     },
     "metadata": {},
     "output_type": "display_data"
    },
    {
     "data": {
      "text/plain": [
       "\n",
       " 1  2  3  4 \n",
       "26 21  7  2 "
      ]
     },
     "metadata": {},
     "output_type": "display_data"
    },
    {
     "data": {
      "text/plain": [
       "\n",
       " 0  1 \n",
       "26 30 "
      ]
     },
     "metadata": {},
     "output_type": "display_data"
    },
    {
     "data": {
      "text/plain": [
       "\n",
       " 0  1  2 \n",
       "28 15 13 "
      ]
     },
     "metadata": {},
     "output_type": "display_data"
    },
    {
     "data": {
      "text/plain": [
       "\n",
       " 0  1 \n",
       "28 28 "
      ]
     },
     "metadata": {},
     "output_type": "display_data"
    },
    {
     "data": {
      "text/plain": [
       "\n",
       " 0  1  2 \n",
       "12 28 16 "
      ]
     },
     "metadata": {},
     "output_type": "display_data"
    },
    {
     "data": {
      "text/html": [
       "<ol class=list-inline>\n",
       "\t<li>2</li>\n",
       "\t<li>1</li>\n",
       "\t<li>0</li>\n",
       "\t<li>1</li>\n",
       "\t<li>1</li>\n",
       "\t<li>1</li>\n",
       "\t<li>0</li>\n",
       "\t<li>1</li>\n",
       "\t<li>1</li>\n",
       "\t<li>0</li>\n",
       "\t<li>1</li>\n",
       "\t<li>2</li>\n",
       "\t<li>1</li>\n",
       "\t<li>0</li>\n",
       "\t<li>2</li>\n",
       "\t<li>2</li>\n",
       "\t<li>2</li>\n",
       "\t<li>1</li>\n",
       "\t<li>2</li>\n",
       "\t<li>1</li>\n",
       "\t<li>2</li>\n",
       "\t<li>1</li>\n",
       "\t<li>2</li>\n",
       "\t<li>1</li>\n",
       "\t<li>1</li>\n",
       "\t<li>0</li>\n",
       "\t<li>2</li>\n",
       "\t<li>1</li>\n",
       "\t<li>2</li>\n",
       "\t<li>1</li>\n",
       "\t<li>2</li>\n",
       "\t<li>1</li>\n",
       "\t<li>1</li>\n",
       "\t<li>2</li>\n",
       "\t<li>1</li>\n",
       "\t<li>1</li>\n",
       "\t<li>0</li>\n",
       "\t<li>0</li>\n",
       "\t<li>1</li>\n",
       "\t<li>1</li>\n",
       "\t<li>0</li>\n",
       "\t<li>2</li>\n",
       "\t<li>2</li>\n",
       "\t<li>1</li>\n",
       "\t<li>0</li>\n",
       "\t<li>1</li>\n",
       "\t<li>1</li>\n",
       "\t<li>0</li>\n",
       "\t<li>0</li>\n",
       "\t<li>1</li>\n",
       "\t<li>2</li>\n",
       "\t<li>1</li>\n",
       "\t<li>1</li>\n",
       "\t<li>2</li>\n",
       "\t<li>0</li>\n",
       "\t<li>1</li>\n",
       "</ol>\n",
       "\n",
       "<details>\n",
       "\t<summary style=display:list-item;cursor:pointer>\n",
       "\t\t<strong>Levels</strong>:\n",
       "\t</summary>\n",
       "\t<ol class=list-inline>\n",
       "\t\t<li>'0'</li>\n",
       "\t\t<li>'1'</li>\n",
       "\t\t<li>'2'</li>\n",
       "\t</ol>\n",
       "</details>"
      ],
      "text/latex": [
       "\\begin{enumerate*}\n",
       "\\item 2\n",
       "\\item 1\n",
       "\\item 0\n",
       "\\item 1\n",
       "\\item 1\n",
       "\\item 1\n",
       "\\item 0\n",
       "\\item 1\n",
       "\\item 1\n",
       "\\item 0\n",
       "\\item 1\n",
       "\\item 2\n",
       "\\item 1\n",
       "\\item 0\n",
       "\\item 2\n",
       "\\item 2\n",
       "\\item 2\n",
       "\\item 1\n",
       "\\item 2\n",
       "\\item 1\n",
       "\\item 2\n",
       "\\item 1\n",
       "\\item 2\n",
       "\\item 1\n",
       "\\item 1\n",
       "\\item 0\n",
       "\\item 2\n",
       "\\item 1\n",
       "\\item 2\n",
       "\\item 1\n",
       "\\item 2\n",
       "\\item 1\n",
       "\\item 1\n",
       "\\item 2\n",
       "\\item 1\n",
       "\\item 1\n",
       "\\item 0\n",
       "\\item 0\n",
       "\\item 1\n",
       "\\item 1\n",
       "\\item 0\n",
       "\\item 2\n",
       "\\item 2\n",
       "\\item 1\n",
       "\\item 0\n",
       "\\item 1\n",
       "\\item 1\n",
       "\\item 0\n",
       "\\item 0\n",
       "\\item 1\n",
       "\\item 2\n",
       "\\item 1\n",
       "\\item 1\n",
       "\\item 2\n",
       "\\item 0\n",
       "\\item 1\n",
       "\\end{enumerate*}\n",
       "\n",
       "\\emph{Levels}: \\begin{enumerate*}\n",
       "\\item '0'\n",
       "\\item '1'\n",
       "\\item '2'\n",
       "\\end{enumerate*}\n"
      ],
      "text/markdown": [
       "1. 2\n",
       "2. 1\n",
       "3. 0\n",
       "4. 1\n",
       "5. 1\n",
       "6. 1\n",
       "7. 0\n",
       "8. 1\n",
       "9. 1\n",
       "10. 0\n",
       "11. 1\n",
       "12. 2\n",
       "13. 1\n",
       "14. 0\n",
       "15. 2\n",
       "16. 2\n",
       "17. 2\n",
       "18. 1\n",
       "19. 2\n",
       "20. 1\n",
       "21. 2\n",
       "22. 1\n",
       "23. 2\n",
       "24. 1\n",
       "25. 1\n",
       "26. 0\n",
       "27. 2\n",
       "28. 1\n",
       "29. 2\n",
       "30. 1\n",
       "31. 2\n",
       "32. 1\n",
       "33. 1\n",
       "34. 2\n",
       "35. 1\n",
       "36. 1\n",
       "37. 0\n",
       "38. 0\n",
       "39. 1\n",
       "40. 1\n",
       "41. 0\n",
       "42. 2\n",
       "43. 2\n",
       "44. 1\n",
       "45. 0\n",
       "46. 1\n",
       "47. 1\n",
       "48. 0\n",
       "49. 0\n",
       "50. 1\n",
       "51. 2\n",
       "52. 1\n",
       "53. 1\n",
       "54. 2\n",
       "55. 0\n",
       "56. 1\n",
       "\n",
       "\n",
       "\n",
       "**Levels**: 1. '0'\n",
       "2. '1'\n",
       "3. '2'\n",
       "\n",
       "\n"
      ],
      "text/plain": [
       " [1] 2 1 0 1 1 1 0 1 1 0 1 2 1 0 2 2 2 1 2 1 2 1 2 1 1 0 2 1 2 1 2 1 1 2 1 1 0 0\n",
       "[39] 1 1 0 2 2 1 0 1 1 0 0 1 2 1 1 2 0 1\n",
       "Levels: 0 1 2"
      ]
     },
     "metadata": {},
     "output_type": "display_data"
    },
    {
     "data": {
      "text/plain": [
       "\n",
       " 0  1 \n",
       "40 16 "
      ]
     },
     "metadata": {},
     "output_type": "display_data"
    },
    {
     "name": "stdout",
     "output_type": "stream",
     "text": [
      "'data.frame':\t56 obs. of  6 variables:\n",
      " $ Age: num  6 10 10 11 12 11 17 7 4 13 ...\n",
      " $ DN : Factor w/ 2 levels \"0\",\"1\": 1 2 1 2 2 1 1 1 1 1 ...\n",
      " $ DT : Factor w/ 2 levels \"0\",\"1\": 1 2 2 1 1 2 2 2 1 2 ...\n",
      " $ BP : Factor w/ 2 levels \"0\",\"1\": 2 1 1 1 1 1 1 1 1 1 ...\n",
      " $ HP : Factor w/ 2 levels \"0\",\"1\": 1 1 1 1 1 1 1 1 2 2 ...\n",
      " $ y  : Factor w/ 2 levels \"0\",\"1\": 1 1 1 1 1 2 2 1 1 2 ...\n"
     ]
    },
    {
     "data": {
      "text/plain": [
       "\n",
       " 0  1 \n",
       "33 23 "
      ]
     },
     "metadata": {},
     "output_type": "display_data"
    }
   ],
   "source": [
    "#Binarization\n",
    "#from train data\n",
    "cvdata.bin = traindata.num_age[,-7:-8]\n",
    "orgname=colnames(cvdata.bin)\n",
    "orgname[6] = \"y\"\n",
    "colnames(cvdata.bin) = orgname\n",
    "head(cvdata.bin)\n",
    "\n",
    "\n",
    "## change columns with 3 level to 2 level \n",
    "#attribute 'Delivery number' { 1,2,3,4 } \n",
    "# -> DN==1( new 0) or others( new 1)\n",
    "print(\"DN\")\n",
    "table(cvdata.bin$DN)\n",
    "DN = ifelse(cvdata.bin$DN ==4  , 1, 0 ) \n",
    "cvdata.bin$DN = as.factor(DN)\n",
    "table(cvdata.bin$DN)\n",
    "\n",
    "#attribute 'Delivery time' { 0,1,2 } -> {0 = timely , 1 = premature , 2 = latecomer}\n",
    "# -> DT==0(new 0) or others( new 1)\n",
    "print(\"DT\")\n",
    "table(cvdata.bin$DT)\n",
    "DT = ifelse(cvdata.bin$DT ==1  , 0, 1 ) \n",
    "cvdata.bin$DT = as.factor(DT)\n",
    "table(cvdata.bin$DT)\n",
    "\n",
    "#attribute 'Blood of Pressure' { 2,1,0 } -> {0 = low , 1 = normal , 2 = high }\n",
    "# -> DT=0,1 ( new 0) or others ( new 1)\n",
    "print(\"BP\")\n",
    "table(cvdata.bin$BP)\n",
    "cvdata.bin$BP\n",
    "BP = ifelse(cvdata.bin$BP == 2  , 1, 0 ) \n",
    "cvdata.bin$BP = as.factor(BP)\n",
    "table(cvdata.bin$BP)\n",
    "\n",
    "str(cvdata.bin)\n",
    "\n",
    "\n",
    "#HP -> no change\n",
    "print(\"HP\")\n",
    "table(cvdata.bin$HP)\n"
   ]
  },
  {
   "cell_type": "code",
   "execution_count": 79,
   "metadata": {},
   "outputs": [
    {
     "name": "stderr",
     "output_type": "stream",
     "text": [
      "Morgan-Tatar search since family is non-gaussian.\n",
      "Warning message in mean.default(y[!iTest]):\n",
      "“argument is not numeric or logical: returning NA”Warning message in Ops.factor(y[iTest], yHat):\n",
      "“‘-’ not meaningful for factors”Warning message in Ops.factor(y[iTest], yHat):\n",
      "“‘-’ not meaningful for factors”Warning message in mean.default(y[!iTest]):\n",
      "“argument is not numeric or logical: returning NA”Warning message in Ops.factor(y[iTest], yHat):\n",
      "“‘-’ not meaningful for factors”Warning message in Ops.factor(y[iTest], yHat):\n",
      "“‘-’ not meaningful for factors”Warning message in Ops.factor(y[iTest], yHat):\n",
      "“‘-’ not meaningful for factors”Warning message in Ops.factor(y[iTest], yHat):\n",
      "“‘-’ not meaningful for factors”Warning message in Ops.factor(y[iTest], yHat):\n",
      "“‘-’ not meaningful for factors”Warning message in Ops.factor(y[iTest], yHat):\n",
      "“‘-’ not meaningful for factors”Warning message in Ops.factor(y[iTest], yHat):\n",
      "“‘-’ not meaningful for factors”Warning message in Ops.factor(y[iTest], yHat):\n",
      "“‘-’ not meaningful for factors”Warning message in Ops.factor(y[iTest], yHat):\n",
      "“‘-’ not meaningful for factors”Warning message in Ops.factor(y[iTest], yHat):\n",
      "“‘-’ not meaningful for factors”Warning message in Ops.factor(y[iTest], yHat):\n",
      "“‘-’ not meaningful for factors”Warning message in Ops.factor(y[iTest], yHat):\n",
      "“‘-’ not meaningful for factors”Warning message in Ops.factor(y[iTest], yHat):\n",
      "“‘-’ not meaningful for factors”Warning message in Ops.factor(y[iTest], yHat):\n",
      "“‘-’ not meaningful for factors”Warning message in Ops.factor(y[iTest], yHat):\n",
      "“‘-’ not meaningful for factors”Warning message in Ops.factor(y[iTest], yHat):\n",
      "“‘-’ not meaningful for factors”Warning message in Ops.factor(y[iTest], yHat):\n",
      "“‘-’ not meaningful for factors”Warning message in Ops.factor(y[iTest], yHat):\n",
      "“‘-’ not meaningful for factors”Warning message in Ops.factor(y[iTest], yHat):\n",
      "“‘-’ not meaningful for factors”Warning message in Ops.factor(y[iTest], yHat):\n",
      "“‘-’ not meaningful for factors”Warning message in Ops.factor(y[iTest], yHat):\n",
      "“‘-’ not meaningful for factors”Warning message in Ops.factor(y[iTest], yHat):\n",
      "“‘-’ not meaningful for factors”Warning message in min(which(cverrs < cutOff)):\n",
      "“no non-missing arguments to min; returning Inf”Warning message in bestglm(Xy = cvdata.bin, IC = \"CV\", CVArgs = list(Method = \"HTF\", :\n",
      "“NAs introduced by coercion to integer range”"
     ]
    },
    {
     "ename": "ERROR",
     "evalue": "Error in `[.data.frame`(Xy, , c(bestset[-1], FALSE), drop = FALSE): undefined columns selected\n",
     "output_type": "error",
     "traceback": [
      "Error in `[.data.frame`(Xy, , c(bestset[-1], FALSE), drop = FALSE): undefined columns selected\nTraceback:\n",
      "1. bestglm(Xy = cvdata.bin, IC = \"CV\", CVArgs = list(Method = \"HTF\", \n .     K = 2, REP = 1), family = binomial)",
      "2. glm(y ~ ., family = family, data = data.frame(Xy[, c(bestset[-1], \n .     FALSE), drop = FALSE], y = y), ...)",
      "3. eval(mf, parent.frame())",
      "4. eval(mf, parent.frame())",
      "5. stats::model.frame(formula = y ~ ., data = data.frame(Xy[, c(bestset[-1], \n .     FALSE), drop = FALSE], y = y), drop.unused.levels = TRUE)",
      "6. model.frame.default(formula = y ~ ., data = data.frame(Xy[, c(bestset[-1], \n .     FALSE), drop = FALSE], y = y), drop.unused.levels = TRUE)",
      "7. is.data.frame(data)",
      "8. data.frame(Xy[, c(bestset[-1], FALSE), drop = FALSE], y = y)",
      "9. Xy[, c(bestset[-1], FALSE), drop = FALSE]",
      "10. `[.data.frame`(Xy, , c(bestset[-1], FALSE), drop = FALSE)",
      "11. stop(\"undefined columns selected\")"
     ]
    }
   ],
   "source": [
    "#k-fold cross validation for binarization data\n",
    "cvdata.bestset=bestglm(Xy=cvdata.bin, IC=\"CV\", CVArgs=list(Method=\"HTF\", K=2, REP=1), family=binomial)\n",
    "summary(cvdata.best)"
   ]
  },
  {
   "cell_type": "code",
   "execution_count": 96,
   "metadata": {},
   "outputs": [
    {
     "name": "stderr",
     "output_type": "stream",
     "text": [
      "\n",
      "Attaching package: ‘kknn’\n",
      "\n",
      "The following object is masked from ‘package:caret’:\n",
      "\n",
      "    contr.dummy\n",
      "\n",
      "\n",
      "Attaching package: ‘kernlab’\n",
      "\n",
      "The following object is masked from ‘package:ggplot2’:\n",
      "\n",
      "    alpha\n",
      "\n",
      "Type 'citation(\"pROC\")' for a citation.\n",
      "\n",
      "Attaching package: ‘pROC’\n",
      "\n",
      "The following object is masked from ‘package:glmnet’:\n",
      "\n",
      "    auc\n",
      "\n",
      "The following object is masked from ‘package:gmodels’:\n",
      "\n",
      "    ci\n",
      "\n",
      "The following objects are masked from ‘package:stats’:\n",
      "\n",
      "    cov, smooth, var\n",
      "\n"
     ]
    }
   ],
   "source": [
    "## knn\n",
    "library(class) # k-nearest neighbors\n",
    "library(kknn) # weighted k-nearest neighbors\n",
    "library(e1071) # SVM\n",
    "library(caret)\n",
    "library(MASS)\n",
    "library(reshape2)\n",
    "library(ggplot2)\n",
    "library(kernlab)\n",
    "library(pROC)\n"
   ]
  },
  {
   "cell_type": "code",
   "execution_count": 86,
   "metadata": {},
   "outputs": [
    {
     "data": {
      "text/plain": [
       "Subset selection object\n",
       "Call: regsubsets.formula(y ~ ., data = cvdata)\n",
       "9 Variables  (and intercept)\n",
       "    Forced in Forced out\n",
       "Age     FALSE      FALSE\n",
       "DN2     FALSE      FALSE\n",
       "DN3     FALSE      FALSE\n",
       "DN4     FALSE      FALSE\n",
       "DT1     FALSE      FALSE\n",
       "DT2     FALSE      FALSE\n",
       "BP1     FALSE      FALSE\n",
       "BP2     FALSE      FALSE\n",
       "HP1     FALSE      FALSE\n",
       "1 subsets of each size up to 8\n",
       "Selection Algorithm: exhaustive\n",
       "         Age DN2 DN3 DN4 DT1 DT2 BP1 BP2 HP1\n",
       "1  ( 1 ) \" \" \" \" \" \" \" \" \" \" \" \" \" \" \" \" \"*\"\n",
       "2  ( 1 ) \" \" \" \" \" \" \" \" \" \" \" \" \"*\" \" \" \"*\"\n",
       "3  ( 1 ) \" \" \" \" \" \" \"*\" \" \" \" \" \"*\" \" \" \"*\"\n",
       "4  ( 1 ) \" \" \" \" \" \" \" \" \"*\" \"*\" \"*\" \" \" \"*\"\n",
       "5  ( 1 ) \" \" \" \" \" \" \"*\" \"*\" \"*\" \"*\" \" \" \"*\"\n",
       "6  ( 1 ) \"*\" \" \" \" \" \"*\" \"*\" \"*\" \"*\" \" \" \"*\"\n",
       "7  ( 1 ) \"*\" \" \" \" \" \"*\" \"*\" \"*\" \"*\" \"*\" \"*\"\n",
       "8  ( 1 ) \"*\" \" \" \"*\" \"*\" \"*\" \"*\" \"*\" \"*\" \"*\""
      ]
     },
     "metadata": {},
     "output_type": "display_data"
    }
   ],
   "source": [
    "subfit = regsubsets(y ~ ., data=cvdata)\n",
    "summary(subfit)"
   ]
  },
  {
   "cell_type": "code",
   "execution_count": null,
   "metadata": {},
   "outputs": [],
   "source": []
  },
  {
   "cell_type": "code",
   "execution_count": 83,
   "metadata": {},
   "outputs": [
    {
     "ename": "ERROR",
     "evalue": "Error in regsubset(CS ~ ., data = traindata.num_age): could not find function \"regsubset\"\n",
     "output_type": "error",
     "traceback": [
      "Error in regsubset(CS ~ ., data = traindata.num_age): could not find function \"regsubset\"\nTraceback:\n"
     ]
    }
   ],
   "source": [
    "subfit = regsubset(CS ~ ., data=traindata.num_age)\n",
    "subset(CS)"
   ]
  },
  {
   "cell_type": "code",
   "execution_count": null,
   "metadata": {},
   "outputs": [],
   "source": [
    "trainControl\n",
    "train()"
   ]
  }
 ],
 "metadata": {
  "kernelspec": {
   "display_name": "R",
   "language": "R",
   "name": "ir"
  },
  "language_info": {
   "codemirror_mode": "r",
   "file_extension": ".r",
   "mimetype": "text/x-r-source",
   "name": "R",
   "pygments_lexer": "r",
   "version": "3.5.1"
  },
  "varInspector": {
   "cols": {
    "lenName": 16,
    "lenType": 16,
    "lenVar": 40
   },
   "kernels_config": {
    "python": {
     "delete_cmd_postfix": "",
     "delete_cmd_prefix": "del ",
     "library": "var_list.py",
     "varRefreshCmd": "print(var_dic_list())"
    },
    "r": {
     "delete_cmd_postfix": ") ",
     "delete_cmd_prefix": "rm(",
     "library": "var_list.r",
     "varRefreshCmd": "cat(var_dic_list()) "
    }
   },
   "types_to_exclude": [
    "module",
    "function",
    "builtin_function_or_method",
    "instance",
    "_Feature"
   ],
   "window_display": false
  }
 },
 "nbformat": 4,
 "nbformat_minor": 2
}
