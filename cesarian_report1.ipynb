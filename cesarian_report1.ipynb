{
 "cells": [
  {
   "cell_type": "code",
   "execution_count": 1,
   "metadata": {},
   "outputs": [
    {
     "name": "stdout",
     "output_type": "stream",
     "text": [
      "'data.frame':\t80 obs. of  6 variables:\n",
      " $ Age: Factor w/ 22 levels \"17\",\"18\",\"19\",..: 6 10 10 12 6 10 11 16 12 11 ...\n",
      " $ DN : Factor w/ 4 levels \"1\",\"2\",\"3\",\"4\": 1 2 2 1 2 1 2 3 2 1 ...\n",
      " $ DT : Factor w/ 3 levels \"0\",\"1\",\"2\": 1 1 2 1 1 2 1 1 1 2 ...\n",
      " $ BP : Factor w/ 3 levels \"0\",\"1\",\"2\": 3 2 2 3 2 1 2 2 2 2 ...\n",
      " $ HP : Factor w/ 2 levels \"0\",\"1\": 1 1 1 1 1 1 1 1 1 1 ...\n",
      " $ CS : Factor w/ 2 levels \"0\",\"1\": 1 2 1 1 2 1 1 2 1 2 ...\n"
     ]
    }
   ],
   "source": [
    "library(\"foreign\")\n",
    "rawdata=read.arff(\"./caesarian.csv.arff\")\n",
    "colnames(rawdata) = c(\"Age\",\"DN\",\"DT\",\"BP\",\"HP\",\"CS\")\n",
    "str(rawdata)"
   ]
  },
  {
   "cell_type": "code",
   "execution_count": 2,
   "metadata": {},
   "outputs": [
    {
     "name": "stdout",
     "output_type": "stream",
     "text": [
      "[1] \"No rows containging missing value\"\n"
     ]
    }
   ],
   "source": [
    "## check missing value\n",
    "norg=length(rawdata[,1])\n",
    "## remove rows containing missing values  \n",
    "rawdata=na.omit(rawdata)\n",
    "morg=length(rawdata[,1])\n",
    "if( norg == morg ){ print(\"No rows containging missing value\")}\n",
    "if( norg != morg ){ print(\"Number of missing value=\"); print(norg-morg)}"
   ]
  },
  {
   "cell_type": "code",
   "execution_count": 3,
   "metadata": {},
   "outputs": [
    {
     "name": "stderr",
     "output_type": "stream",
     "text": [
      "Warning message:\n",
      "“attributes are not identical across measure variables; they will be dropped”"
     ]
    },
    {
     "data": {
      "text/html": [
       "<table>\n",
       "<thead><tr><th scope=col>CS</th><th scope=col>variable</th><th scope=col>value</th></tr></thead>\n",
       "<tbody>\n",
       "\t<tr><td>0 </td><td>DN</td><td>1 </td></tr>\n",
       "\t<tr><td>1 </td><td>DN</td><td>2 </td></tr>\n",
       "\t<tr><td>0 </td><td>DN</td><td>2 </td></tr>\n",
       "\t<tr><td>0 </td><td>DN</td><td>1 </td></tr>\n",
       "\t<tr><td>1 </td><td>DN</td><td>2 </td></tr>\n",
       "\t<tr><td>0 </td><td>DN</td><td>1 </td></tr>\n",
       "</tbody>\n",
       "</table>\n"
      ],
      "text/latex": [
       "\\begin{tabular}{r|lll}\n",
       " CS & variable & value\\\\\n",
       "\\hline\n",
       "\t 0  & DN & 1 \\\\\n",
       "\t 1  & DN & 2 \\\\\n",
       "\t 0  & DN & 2 \\\\\n",
       "\t 0  & DN & 1 \\\\\n",
       "\t 1  & DN & 2 \\\\\n",
       "\t 0  & DN & 1 \\\\\n",
       "\\end{tabular}\n"
      ],
      "text/markdown": [
       "\n",
       "CS | variable | value | \n",
       "|---|---|---|---|---|---|\n",
       "| 0  | DN | 1  | \n",
       "| 1  | DN | 2  | \n",
       "| 0  | DN | 2  | \n",
       "| 0  | DN | 1  | \n",
       "| 1  | DN | 2  | \n",
       "| 0  | DN | 1  | \n",
       "\n",
       "\n"
      ],
      "text/plain": [
       "  CS variable value\n",
       "1 0  DN       1    \n",
       "2 1  DN       2    \n",
       "3 0  DN       2    \n",
       "4 0  DN       1    \n",
       "5 1  DN       2    \n",
       "6 0  DN       1    "
      ]
     },
     "metadata": {},
     "output_type": "display_data"
    },
    {
     "data": {
      "text/plain": [
       "\n",
       "DN DT BP HP \n",
       "80 80 80 80 "
      ]
     },
     "metadata": {},
     "output_type": "display_data"
    }
   ],
   "source": [
    "## change data from wide type to long type \n",
    "library(reshape2)\n",
    "rawdata.m = melt(rawdata[,-1], id.var=\"CS\")\n",
    "head(rawdata.m)\n",
    "table(rawdata.m$variable)"
   ]
  },
  {
   "cell_type": "code",
   "execution_count": 4,
   "metadata": {},
   "outputs": [
    {
     "data": {},
     "metadata": {},
     "output_type": "display_data"
    },
    {
     "data": {
      "image/png": "[encoded data removed]",
      "text/plain": [
       "plot without title"
      ]
     },
     "metadata": {},
     "output_type": "display_data"
    }
   ],
   "source": [
    "## boxplot\n",
    "library(ggplot2)\n",
    "ggplot(data=rawdata.m, aes(x=CS, y=value)) + geom_boxplot() + facet_wrap(~ variable, ncol=1)\n",
    "\n"
   ]
  },
  {
   "cell_type": "code",
   "execution_count": 5,
   "metadata": {},
   "outputs": [
    {
     "data": {
      "text/html": [
       "<table>\n",
       "<thead><tr><th scope=col>Age</th><th scope=col>DN</th><th scope=col>DT</th><th scope=col>BP</th><th scope=col>HP</th><th scope=col>CS</th></tr></thead>\n",
       "<tbody>\n",
       "\t<tr><td>22</td><td>1 </td><td>0 </td><td>2 </td><td>0 </td><td>0 </td></tr>\n",
       "\t<tr><td>26</td><td>2 </td><td>0 </td><td>1 </td><td>0 </td><td>1 </td></tr>\n",
       "\t<tr><td>26</td><td>2 </td><td>1 </td><td>1 </td><td>0 </td><td>0 </td></tr>\n",
       "\t<tr><td>28</td><td>1 </td><td>0 </td><td>2 </td><td>0 </td><td>0 </td></tr>\n",
       "\t<tr><td>22</td><td>2 </td><td>0 </td><td>1 </td><td>0 </td><td>1 </td></tr>\n",
       "\t<tr><td>26</td><td>1 </td><td>1 </td><td>0 </td><td>0 </td><td>0 </td></tr>\n",
       "</tbody>\n",
       "</table>\n"
      ],
      "text/latex": [
       "\\begin{tabular}{r|llllll}\n",
       " Age & DN & DT & BP & HP & CS\\\\\n",
       "\\hline\n",
       "\t 22 & 1  & 0  & 2  & 0  & 0 \\\\\n",
       "\t 26 & 2  & 0  & 1  & 0  & 1 \\\\\n",
       "\t 26 & 2  & 1  & 1  & 0  & 0 \\\\\n",
       "\t 28 & 1  & 0  & 2  & 0  & 0 \\\\\n",
       "\t 22 & 2  & 0  & 1  & 0  & 1 \\\\\n",
       "\t 26 & 1  & 1  & 0  & 0  & 0 \\\\\n",
       "\\end{tabular}\n"
      ],
      "text/markdown": [
       "\n",
       "Age | DN | DT | BP | HP | CS | \n",
       "|---|---|---|---|---|---|\n",
       "| 22 | 1  | 0  | 2  | 0  | 0  | \n",
       "| 26 | 2  | 0  | 1  | 0  | 1  | \n",
       "| 26 | 2  | 1  | 1  | 0  | 0  | \n",
       "| 28 | 1  | 0  | 2  | 0  | 0  | \n",
       "| 22 | 2  | 0  | 1  | 0  | 1  | \n",
       "| 26 | 1  | 1  | 0  | 0  | 0  | \n",
       "\n",
       "\n"
      ],
      "text/plain": [
       "  Age DN DT BP HP CS\n",
       "1 22  1  0  2  0  0 \n",
       "2 26  2  0  1  0  1 \n",
       "3 26  2  1  1  0  0 \n",
       "4 28  1  0  2  0  0 \n",
       "5 22  2  0  1  0  1 \n",
       "6 26  1  1  0  0  0 "
      ]
     },
     "metadata": {},
     "output_type": "display_data"
    }
   ],
   "source": [
    "head(rawdata)"
   ]
  },
  {
   "cell_type": "code",
   "execution_count": 6,
   "metadata": {},
   "outputs": [
    {
     "name": "stdout",
     "output_type": "stream",
     "text": [
      "\n",
      " \n",
      "   Cell Contents\n",
      "|-------------------------|\n",
      "|                       N |\n",
      "| Chi-square contribution |\n",
      "|           N / Row Total |\n",
      "|           N / Col Total |\n",
      "|         N / Table Total |\n",
      "|-------------------------|\n",
      "\n",
      " \n",
      "Total Observations in Table:  80 \n",
      "\n",
      " \n",
      "             | rawdata$CS \n",
      " rawdata$Age |         0 |         1 | Row Total | \n",
      "-------------|-----------|-----------|-----------|\n",
      "          17 |         0 |         1 |         1 | \n",
      "             |     0.425 |     0.314 |           | \n",
      "             |     0.000 |     1.000 |     0.013 | \n",
      "             |     0.000 |     0.022 |           | \n",
      "             |     0.000 |     0.013 |           | \n",
      "-------------|-----------|-----------|-----------|\n",
      "          18 |         1 |         1 |         2 | \n",
      "             |     0.026 |     0.020 |           | \n",
      "             |     0.500 |     0.500 |     0.025 | \n",
      "             |     0.029 |     0.022 |           | \n",
      "             |     0.013 |     0.013 |           | \n",
      "-------------|-----------|-----------|-----------|\n",
      "          19 |         0 |         2 |         2 | \n",
      "             |     0.850 |     0.628 |           | \n",
      "             |     0.000 |     1.000 |     0.025 | \n",
      "             |     0.000 |     0.043 |           | \n",
      "             |     0.000 |     0.025 |           | \n",
      "-------------|-----------|-----------|-----------|\n",
      "          20 |         1 |         2 |         3 | \n",
      "             |     0.059 |     0.044 |           | \n",
      "             |     0.333 |     0.667 |     0.037 | \n",
      "             |     0.029 |     0.043 |           | \n",
      "             |     0.013 |     0.025 |           | \n",
      "-------------|-----------|-----------|-----------|\n",
      "          21 |         0 |         2 |         2 | \n",
      "             |     0.850 |     0.628 |           | \n",
      "             |     0.000 |     1.000 |     0.025 | \n",
      "             |     0.000 |     0.043 |           | \n",
      "             |     0.000 |     0.025 |           | \n",
      "-------------|-----------|-----------|-----------|\n",
      "          22 |         2 |         2 |         4 | \n",
      "             |     0.053 |     0.039 |           | \n",
      "             |     0.500 |     0.500 |     0.050 | \n",
      "             |     0.059 |     0.043 |           | \n",
      "             |     0.025 |     0.025 |           | \n",
      "-------------|-----------|-----------|-----------|\n",
      "          23 |         1 |         0 |         1 | \n",
      "             |     0.778 |     0.575 |           | \n",
      "             |     1.000 |     0.000 |     0.013 | \n",
      "             |     0.029 |     0.000 |           | \n",
      "             |     0.013 |     0.000 |           | \n",
      "-------------|-----------|-----------|-----------|\n",
      "          24 |         1 |         1 |         2 | \n",
      "             |     0.026 |     0.020 |           | \n",
      "             |     0.500 |     0.500 |     0.025 | \n",
      "             |     0.029 |     0.022 |           | \n",
      "             |     0.013 |     0.013 |           | \n",
      "-------------|-----------|-----------|-----------|\n",
      "          25 |         5 |         2 |         7 | \n",
      "             |     1.378 |     1.019 |           | \n",
      "             |     0.714 |     0.286 |     0.087 | \n",
      "             |     0.147 |     0.043 |           | \n",
      "             |     0.062 |     0.025 |           | \n",
      "-------------|-----------|-----------|-----------|\n",
      "          26 |         6 |         4 |        10 | \n",
      "             |     0.721 |     0.533 |           | \n",
      "             |     0.600 |     0.400 |     0.125 | \n",
      "             |     0.176 |     0.087 |           | \n",
      "             |     0.075 |     0.050 |           | \n",
      "-------------|-----------|-----------|-----------|\n",
      "          27 |         3 |         4 |         7 | \n",
      "             |     0.000 |     0.000 |           | \n",
      "             |     0.429 |     0.571 |     0.087 | \n",
      "             |     0.088 |     0.087 |           | \n",
      "             |     0.037 |     0.050 |           | \n",
      "-------------|-----------|-----------|-----------|\n",
      "          28 |         3 |         3 |         6 | \n",
      "             |     0.079 |     0.059 |           | \n",
      "             |     0.500 |     0.500 |     0.075 | \n",
      "             |     0.088 |     0.065 |           | \n",
      "             |     0.037 |     0.037 |           | \n",
      "-------------|-----------|-----------|-----------|\n",
      "          29 |         1 |         5 |         6 | \n",
      "             |     0.942 |     0.696 |           | \n",
      "             |     0.167 |     0.833 |     0.075 | \n",
      "             |     0.029 |     0.109 |           | \n",
      "             |     0.013 |     0.062 |           | \n",
      "-------------|-----------|-----------|-----------|\n",
      "          30 |         2 |         1 |         3 | \n",
      "             |     0.412 |     0.305 |           | \n",
      "             |     0.667 |     0.333 |     0.037 | \n",
      "             |     0.059 |     0.022 |           | \n",
      "             |     0.025 |     0.013 |           | \n",
      "-------------|-----------|-----------|-----------|\n",
      "          31 |         3 |         0 |         3 | \n",
      "             |     2.334 |     1.725 |           | \n",
      "             |     1.000 |     0.000 |     0.037 | \n",
      "             |     0.088 |     0.000 |           | \n",
      "             |     0.037 |     0.000 |           | \n",
      "-------------|-----------|-----------|-----------|\n",
      "          32 |         1 |         7 |         8 | \n",
      "             |     1.694 |     1.252 |           | \n",
      "             |     0.125 |     0.875 |     0.100 | \n",
      "             |     0.029 |     0.152 |           | \n",
      "             |     0.013 |     0.087 |           | \n",
      "-------------|-----------|-----------|-----------|\n",
      "          33 |         2 |         3 |         5 | \n",
      "             |     0.007 |     0.005 |           | \n",
      "             |     0.400 |     0.600 |     0.062 | \n",
      "             |     0.059 |     0.065 |           | \n",
      "             |     0.025 |     0.037 |           | \n",
      "-------------|-----------|-----------|-----------|\n",
      "          35 |         1 |         1 |         2 | \n",
      "             |     0.026 |     0.020 |           | \n",
      "             |     0.500 |     0.500 |     0.025 | \n",
      "             |     0.029 |     0.022 |           | \n",
      "             |     0.013 |     0.013 |           | \n",
      "-------------|-----------|-----------|-----------|\n",
      "          36 |         1 |         2 |         3 | \n",
      "             |     0.059 |     0.044 |           | \n",
      "             |     0.333 |     0.667 |     0.037 | \n",
      "             |     0.029 |     0.043 |           | \n",
      "             |     0.013 |     0.025 |           | \n",
      "-------------|-----------|-----------|-----------|\n",
      "          37 |         0 |         1 |         1 | \n",
      "             |     0.425 |     0.314 |           | \n",
      "             |     0.000 |     1.000 |     0.013 | \n",
      "             |     0.000 |     0.022 |           | \n",
      "             |     0.000 |     0.013 |           | \n",
      "-------------|-----------|-----------|-----------|\n",
      "          38 |         0 |         1 |         1 | \n",
      "             |     0.425 |     0.314 |           | \n",
      "             |     0.000 |     1.000 |     0.013 | \n",
      "             |     0.000 |     0.022 |           | \n",
      "             |     0.000 |     0.013 |           | \n",
      "-------------|-----------|-----------|-----------|\n",
      "          40 |         0 |         1 |         1 | \n",
      "             |     0.425 |     0.314 |           | \n",
      "             |     0.000 |     1.000 |     0.013 | \n",
      "             |     0.000 |     0.022 |           | \n",
      "             |     0.000 |     0.013 |           | \n",
      "-------------|-----------|-----------|-----------|\n",
      "Column Total |        34 |        46 |        80 | \n",
      "             |     0.425 |     0.575 |           | \n",
      "-------------|-----------|-----------|-----------|\n",
      "\n",
      " \n",
      "\n",
      " \n",
      "   Cell Contents\n",
      "|-------------------------|\n",
      "|                       N |\n",
      "| Chi-square contribution |\n",
      "|           N / Row Total |\n",
      "|           N / Col Total |\n",
      "|         N / Table Total |\n",
      "|-------------------------|\n",
      "\n",
      " \n",
      "Total Observations in Table:  80 \n",
      "\n",
      " \n",
      "             | rawdata$CS \n",
      "  rawdata$DN |         0 |         1 | Row Total | \n",
      "-------------|-----------|-----------|-----------|\n",
      "           1 |        19 |        22 |        41 | \n",
      "             |     0.142 |     0.105 |           | \n",
      "             |     0.463 |     0.537 |     0.512 | \n",
      "             |     0.559 |     0.478 |           | \n",
      "             |     0.237 |     0.275 |           | \n",
      "-------------|-----------|-----------|-----------|\n",
      "           2 |        12 |        15 |        27 | \n",
      "             |     0.024 |     0.018 |           | \n",
      "             |     0.444 |     0.556 |     0.338 | \n",
      "             |     0.353 |     0.326 |           | \n",
      "             |     0.150 |     0.188 |           | \n",
      "-------------|-----------|-----------|-----------|\n",
      "           3 |         3 |         7 |        10 | \n",
      "             |     0.368 |     0.272 |           | \n",
      "             |     0.300 |     0.700 |     0.125 | \n",
      "             |     0.088 |     0.152 |           | \n",
      "             |     0.037 |     0.087 |           | \n",
      "-------------|-----------|-----------|-----------|\n",
      "           4 |         0 |         2 |         2 | \n",
      "             |     0.850 |     0.628 |           | \n",
      "             |     0.000 |     1.000 |     0.025 | \n",
      "             |     0.000 |     0.043 |           | \n",
      "             |     0.000 |     0.025 |           | \n",
      "-------------|-----------|-----------|-----------|\n",
      "Column Total |        34 |        46 |        80 | \n",
      "             |     0.425 |     0.575 |           | \n",
      "-------------|-----------|-----------|-----------|\n",
      "\n",
      " \n"
     ]
    },
    {
     "name": "stdout",
     "output_type": "stream",
     "text": [
      "\n",
      " \n",
      "   Cell Contents\n",
      "|-------------------------|\n",
      "|                       N |\n",
      "| Chi-square contribution |\n",
      "|           N / Row Total |\n",
      "|           N / Col Total |\n",
      "|         N / Table Total |\n",
      "|-------------------------|\n",
      "\n",
      " \n",
      "Total Observations in Table:  80 \n",
      "\n",
      " \n",
      "             | rawdata$CS \n",
      "  rawdata$DT |         0 |         1 | Row Total | \n",
      "-------------|-----------|-----------|-----------|\n",
      "           0 |        16 |        30 |        46 | \n",
      "             |     0.645 |     0.476 |           | \n",
      "             |     0.348 |     0.652 |     0.575 | \n",
      "             |     0.471 |     0.652 |           | \n",
      "             |     0.200 |     0.375 |           | \n",
      "-------------|-----------|-----------|-----------|\n",
      "           1 |         9 |         8 |        17 | \n",
      "             |     0.436 |     0.322 |           | \n",
      "             |     0.529 |     0.471 |     0.212 | \n",
      "             |     0.265 |     0.174 |           | \n",
      "             |     0.113 |     0.100 |           | \n",
      "-------------|-----------|-----------|-----------|\n",
      "           2 |         9 |         8 |        17 | \n",
      "             |     0.436 |     0.322 |           | \n",
      "             |     0.529 |     0.471 |     0.212 | \n",
      "             |     0.265 |     0.174 |           | \n",
      "             |     0.113 |     0.100 |           | \n",
      "-------------|-----------|-----------|-----------|\n",
      "Column Total |        34 |        46 |        80 | \n",
      "             |     0.425 |     0.575 |           | \n",
      "-------------|-----------|-----------|-----------|\n",
      "\n",
      " \n",
      "\n",
      " \n",
      "   Cell Contents\n",
      "|-------------------------|\n",
      "|                       N |\n",
      "| Chi-square contribution |\n",
      "|           N / Row Total |\n",
      "|           N / Col Total |\n",
      "|         N / Table Total |\n",
      "|-------------------------|\n",
      "\n",
      " \n",
      "Total Observations in Table:  80 \n",
      "\n",
      " \n",
      "             | rawdata$CS \n",
      "  rawdata$BP |         0 |         1 | Row Total | \n",
      "-------------|-----------|-----------|-----------|\n",
      "           0 |         5 |        15 |        20 | \n",
      "             |     1.441 |     1.065 |           | \n",
      "             |     0.250 |     0.750 |     0.250 | \n",
      "             |     0.147 |     0.326 |           | \n",
      "             |     0.062 |     0.188 |           | \n",
      "-------------|-----------|-----------|-----------|\n",
      "           1 |        23 |        17 |        40 | \n",
      "             |     2.118 |     1.565 |           | \n",
      "             |     0.575 |     0.425 |     0.500 | \n",
      "             |     0.676 |     0.370 |           | \n",
      "             |     0.287 |     0.212 |           | \n",
      "-------------|-----------|-----------|-----------|\n",
      "           2 |         6 |        14 |        20 | \n",
      "             |     0.735 |     0.543 |           | \n",
      "             |     0.300 |     0.700 |     0.250 | \n",
      "             |     0.176 |     0.304 |           | \n",
      "             |     0.075 |     0.175 |           | \n",
      "-------------|-----------|-----------|-----------|\n",
      "Column Total |        34 |        46 |        80 | \n",
      "             |     0.425 |     0.575 |           | \n",
      "-------------|-----------|-----------|-----------|\n",
      "\n",
      " \n",
      "\n",
      " \n",
      "   Cell Contents\n",
      "|-------------------------|\n",
      "|                       N |\n",
      "| Chi-square contribution |\n",
      "|           N / Row Total |\n",
      "|           N / Col Total |\n",
      "|         N / Table Total |\n",
      "|-------------------------|\n",
      "\n",
      " \n",
      "Total Observations in Table:  80 \n",
      "\n",
      " \n",
      "             | rawdata$CS \n",
      "  rawdata$HP |         0 |         1 | Row Total | \n",
      "-------------|-----------|-----------|-----------|\n",
      "           0 |        28 |        22 |        50 | \n",
      "             |     2.144 |     1.585 |           | \n",
      "             |     0.560 |     0.440 |     0.625 | \n",
      "             |     0.824 |     0.478 |           | \n",
      "             |     0.350 |     0.275 |           | \n",
      "-------------|-----------|-----------|-----------|\n",
      "           1 |         6 |        24 |        30 | \n",
      "             |     3.574 |     2.641 |           | \n",
      "             |     0.200 |     0.800 |     0.375 | \n",
      "             |     0.176 |     0.522 |           | \n",
      "             |     0.075 |     0.300 |           | \n",
      "-------------|-----------|-----------|-----------|\n",
      "Column Total |        34 |        46 |        80 | \n",
      "             |     0.425 |     0.575 |           | \n",
      "-------------|-----------|-----------|-----------|\n",
      "\n",
      " \n"
     ]
    }
   ],
   "source": [
    "## cross-tab\n",
    "#install.packages(\"gmodels\")\n",
    "library(gmodels)\n",
    "#cons = rawdata$CS %in% 1\n",
    "CrossTable(x=rawdata$Age, y=rawdata$CS)\n",
    "CrossTable(x=rawdata$DN, y=rawdata$CS)\n",
    "CrossTable(x=rawdata$DT, y=rawdata$CS)\n",
    "CrossTable(x=rawdata$BP, y=rawdata$CS)\n",
    "CrossTable(x=rawdata$HP, y=rawdata$CS)\n"
   ]
  },
  {
   "cell_type": "code",
   "execution_count": 7,
   "metadata": {},
   "outputs": [
    {
     "name": "stdout",
     "output_type": "stream",
     "text": [
      "\n",
      " \n",
      "   Cell Contents\n",
      "|-------------------------|\n",
      "|                       N |\n",
      "| Chi-square contribution |\n",
      "|           N / Row Total |\n",
      "|           N / Col Total |\n",
      "|         N / Table Total |\n",
      "|-------------------------|\n",
      "\n",
      " \n",
      "Total Observations in Table:  80 \n",
      "\n",
      " \n",
      "             | rawdata$CS \n",
      "  rawdata$HP |         0 |         1 | Row Total | \n",
      "-------------|-----------|-----------|-----------|\n",
      "           0 |        28 |        22 |        50 | \n",
      "             |     2.144 |     1.585 |           | \n",
      "             |     0.560 |     0.440 |     0.625 | \n",
      "             |     0.824 |     0.478 |           | \n",
      "             |     0.350 |     0.275 |           | \n",
      "-------------|-----------|-----------|-----------|\n",
      "           1 |         6 |        24 |        30 | \n",
      "             |     3.574 |     2.641 |           | \n",
      "             |     0.200 |     0.800 |     0.375 | \n",
      "             |     0.176 |     0.522 |           | \n",
      "             |     0.075 |     0.300 |           | \n",
      "-------------|-----------|-----------|-----------|\n",
      "Column Total |        34 |        46 |        80 | \n",
      "             |     0.425 |     0.575 |           | \n",
      "-------------|-----------|-----------|-----------|\n",
      "\n",
      " \n"
     ]
    },
    {
     "data": {
      "text/plain": [
       "$t\n",
       "   y\n",
       "x    0  1\n",
       "  0 28 22\n",
       "  1  6 24\n",
       "\n",
       "$prop.row\n",
       "   y\n",
       "x      0    1\n",
       "  0 0.56 0.44\n",
       "  1 0.20 0.80\n",
       "\n",
       "$prop.col\n",
       "   y\n",
       "x           0         1\n",
       "  0 0.8235294 0.4782609\n",
       "  1 0.1764706 0.5217391\n",
       "\n",
       "$prop.tbl\n",
       "   y\n",
       "x       0     1\n",
       "  0 0.350 0.275\n",
       "  1 0.075 0.300\n"
      ]
     },
     "metadata": {},
     "output_type": "display_data"
    },
    {
     "data": {
      "text/plain": [
       "   y\n",
       "x    0  1\n",
       "  0 28 22\n",
       "  1  6 24"
      ]
     },
     "metadata": {},
     "output_type": "display_data"
    },
    {
     "name": "stdout",
     "output_type": "stream",
     "text": [
      " 'table' int [1:2, 1:2] 28 6 22 24\n",
      " - attr(*, \"dimnames\")=List of 2\n",
      "  ..$ x: chr [1:2] \"0\" \"1\"\n",
      "  ..$ y: chr [1:2] \"0\" \"1\"\n"
     ]
    },
    {
     "data": {
      "text/html": [
       "<dl class=dl-horizontal>\n",
       "\t<dt>0</dt>\n",
       "\t\t<dd>28</dd>\n",
       "\t<dt>1</dt>\n",
       "\t\t<dd>6</dd>\n",
       "</dl>\n"
      ],
      "text/latex": [
       "\\begin{description*}\n",
       "\\item[0] 28\n",
       "\\item[1] 6\n",
       "\\end{description*}\n"
      ],
      "text/markdown": [
       "0\n",
       ":   281\n",
       ":   6\n",
       "\n"
      ],
      "text/plain": [
       " 0  1 \n",
       "28  6 "
      ]
     },
     "metadata": {},
     "output_type": "display_data"
    },
    {
     "data": {
      "text/html": [
       "<table>\n",
       "<thead><tr><th scope=col>x</th><th scope=col>y</th><th scope=col>Freq</th></tr></thead>\n",
       "<tbody>\n",
       "\t<tr><td>0 </td><td>0 </td><td>28</td></tr>\n",
       "\t<tr><td>1 </td><td>0 </td><td> 6</td></tr>\n",
       "\t<tr><td>0 </td><td>1 </td><td>22</td></tr>\n",
       "\t<tr><td>1 </td><td>1 </td><td>24</td></tr>\n",
       "</tbody>\n",
       "</table>\n"
      ],
      "text/latex": [
       "\\begin{tabular}{r|lll}\n",
       " x & y & Freq\\\\\n",
       "\\hline\n",
       "\t 0  & 0  & 28\\\\\n",
       "\t 1  & 0  &  6\\\\\n",
       "\t 0  & 1  & 22\\\\\n",
       "\t 1  & 1  & 24\\\\\n",
       "\\end{tabular}\n"
      ],
      "text/markdown": [
       "\n",
       "x | y | Freq | \n",
       "|---|---|---|---|\n",
       "| 0  | 0  | 28 | \n",
       "| 1  | 0  |  6 | \n",
       "| 0  | 1  | 22 | \n",
       "| 1  | 1  | 24 | \n",
       "\n",
       "\n"
      ],
      "text/plain": [
       "  x y Freq\n",
       "1 0 0 28  \n",
       "2 1 0  6  \n",
       "3 0 1 22  \n",
       "4 1 1 24  "
      ]
     },
     "metadata": {},
     "output_type": "display_data"
    },
    {
     "data": {
      "text/html": [
       "<ol class=list-inline>\n",
       "\t<li>0</li>\n",
       "\t<li>1</li>\n",
       "\t<li>0</li>\n",
       "\t<li>1</li>\n",
       "</ol>\n",
       "\n",
       "<details>\n",
       "\t<summary style=display:list-item;cursor:pointer>\n",
       "\t\t<strong>Levels</strong>:\n",
       "\t</summary>\n",
       "\t<ol class=list-inline>\n",
       "\t\t<li>'0'</li>\n",
       "\t\t<li>'1'</li>\n",
       "\t</ol>\n",
       "</details>"
      ],
      "text/latex": [
       "\\begin{enumerate*}\n",
       "\\item 0\n",
       "\\item 1\n",
       "\\item 0\n",
       "\\item 1\n",
       "\\end{enumerate*}\n",
       "\n",
       "\\emph{Levels}: \\begin{enumerate*}\n",
       "\\item '0'\n",
       "\\item '1'\n",
       "\\end{enumerate*}\n"
      ],
      "text/markdown": [
       "1. 0\n",
       "2. 1\n",
       "3. 0\n",
       "4. 1\n",
       "\n",
       "\n",
       "\n",
       "**Levels**: 1. '0'\n",
       "2. '1'\n",
       "\n",
       "\n"
      ],
      "text/plain": [
       "[1] 0 1 0 1\n",
       "Levels: 0 1"
      ]
     },
     "metadata": {},
     "output_type": "display_data"
    }
   ],
   "source": [
    "a=CrossTable(x=rawdata$HP, y=rawdata$CS)\n",
    "a\n",
    "b=a$t\n",
    "b\n",
    "str(b)\n",
    "b[,1]\n",
    "c=as.data.frame(b)\n",
    "c\n",
    "c[,1]"
   ]
  },
  {
   "cell_type": "code",
   "execution_count": 8,
   "metadata": {},
   "outputs": [
    {
     "name": "stderr",
     "output_type": "stream",
     "text": [
      "corrplot 0.84 loaded\n"
     ]
    },
    {
     "name": "stdout",
     "output_type": "stream",
     "text": [
      "'data.frame':\t80 obs. of  6 variables:\n",
      " $ Age: Factor w/ 22 levels \"17\",\"18\",\"19\",..: 6 10 10 12 6 10 11 16 12 11 ...\n",
      " $ DN : Factor w/ 4 levels \"1\",\"2\",\"3\",\"4\": 1 2 2 1 2 1 2 3 2 1 ...\n",
      " $ DT : Factor w/ 3 levels \"0\",\"1\",\"2\": 1 1 2 1 1 2 1 1 1 2 ...\n",
      " $ BP : Factor w/ 3 levels \"0\",\"1\",\"2\": 3 2 2 3 2 1 2 2 2 2 ...\n",
      " $ HP : Factor w/ 2 levels \"0\",\"1\": 1 1 1 1 1 1 1 1 1 1 ...\n",
      " $ CS : Factor w/ 2 levels \"0\",\"1\": 1 2 1 1 2 1 1 2 1 2 ...\n",
      "'data.frame':\t80 obs. of  6 variables:\n",
      " $ Age: num  6 10 10 12 6 10 11 16 12 11 ...\n",
      " $ DN : num  1 2 2 1 2 1 2 3 2 1 ...\n",
      " $ DT : num  1 1 2 1 1 2 1 1 1 2 ...\n",
      " $ BP : num  3 2 2 3 2 1 2 2 2 2 ...\n",
      " $ HP : num  1 1 1 1 1 1 1 1 1 1 ...\n",
      " $ CS : Factor w/ 2 levels \"0\",\"1\": 1 2 1 1 2 1 1 2 1 2 ...\n"
     ]
    },
    {
     "data": {
      "image/png": "[encoded data removed]",
      "text/plain": [
       "Plot with title “”"
      ]
     },
     "metadata": {},
     "output_type": "display_data"
    }
   ],
   "source": [
    "## check collinearity btw features\n",
    "library(corrplot)\n",
    "str(rawdata)\n",
    "rawdata.num=rawdata\n",
    "for ( i in 1:5)  { rawdata.num[,i] = as.numeric(rawdata[,i]) }\n",
    "str(rawdata.num)\n",
    "\n",
    "rawdata.cor = cor(rawdata.num[,1:5])\n",
    "corrplot.mixed(rawdata.cor)"
   ]
  },
  {
   "cell_type": "code",
   "execution_count": 9,
   "metadata": {},
   "outputs": [
    {
     "name": "stdout",
     "output_type": "stream",
     "text": [
      "'data.frame':\t56 obs. of  6 variables:\n",
      " $ Age: Factor w/ 22 levels \"17\",\"18\",\"19\",..: 6 10 10 11 12 11 17 7 4 13 ...\n",
      " $ DN : Factor w/ 4 levels \"1\",\"2\",\"3\",\"4\": 1 2 1 2 2 1 1 1 1 1 ...\n",
      " $ DT : Factor w/ 3 levels \"0\",\"1\",\"2\": 1 2 2 1 1 2 2 2 1 3 ...\n",
      " $ BP : Factor w/ 3 levels \"0\",\"1\",\"2\": 3 2 1 2 2 2 1 2 2 1 ...\n",
      " $ HP : Factor w/ 2 levels \"0\",\"1\": 1 1 1 1 1 1 1 1 2 2 ...\n",
      " $ CS : Factor w/ 2 levels \"0\",\"1\": 1 1 1 1 1 2 2 1 1 2 ...\n",
      "'data.frame':\t24 obs. of  6 variables:\n",
      " $ Age: Factor w/ 22 levels \"17\",\"18\",\"19\",..: 10 12 6 16 19 9 8 10 11 2 ...\n",
      " $ DN : Factor w/ 4 levels \"1\",\"2\",\"3\",\"4\": 2 1 2 3 1 1 1 1 1 1 ...\n",
      " $ DT : Factor w/ 3 levels \"0\",\"1\",\"2\": 1 1 1 1 1 3 3 2 1 1 ...\n",
      " $ BP : Factor w/ 3 levels \"0\",\"1\",\"2\": 2 3 2 2 2 1 1 2 1 2 ...\n",
      " $ HP : Factor w/ 2 levels \"0\",\"1\": 1 1 1 1 1 1 2 1 2 1 ...\n",
      " $ CS : Factor w/ 2 levels \"0\",\"1\": 2 1 2 2 1 1 2 1 2 1 ...\n"
     ]
    }
   ],
   "source": [
    "##sample from category data\n",
    "\n",
    "## dividing orginal data by ratio for tran, test\n",
    "\n",
    "#fix random seed\n",
    "set.seed(123)\n",
    "\n",
    "# make index vector(row number) for two type(x=2 : train, test) of samples \n",
    "# with probability weight : train:test = 7:3  \n",
    "# in number of sample=nrow(rawdata3)=80 )\n",
    "# replace : If TRUE, same data from orginal can be repeat in new sample\n",
    "ind = sample(2, nrow(rawdata), replace=TRUE, prob=c(0.7,0.3))\n",
    "\n",
    "traindata = rawdata[ind==1,] \n",
    "str(traindata) ## 80datas * 70% = 56datas\n",
    "testdata = rawdata[ind==2,] \n",
    "str(testdata)\n",
    "\n"
   ]
  },
  {
   "cell_type": "code",
   "execution_count": 10,
   "metadata": {},
   "outputs": [
    {
     "name": "stderr",
     "output_type": "stream",
     "text": [
      "Warning message:\n",
      "“glm.fit: fitted probabilities numerically 0 or 1 occurred”"
     ]
    },
    {
     "data": {
      "text/plain": [
       "\n",
       "Call:\n",
       "glm(formula = CS ~ ., family = binomial, data = traindata)\n",
       "\n",
       "Deviance Residuals: \n",
       "     Min        1Q    Median        3Q       Max  \n",
       "-1.59745  -0.63593   0.00008   0.52251   2.16410  \n",
       "\n",
       "Coefficients:\n",
       "              Estimate Std. Error z value Pr(>|z|)\n",
       "(Intercept)    18.1152 10754.0134   0.002    0.999\n",
       "Age19           2.5219 13170.9225   0.000    1.000\n",
       "Age20         -18.5369 10754.0133  -0.002    0.999\n",
       "Age21           1.2923 15208.4713   0.000    1.000\n",
       "Age22         -19.2847 10754.0134  -0.002    0.999\n",
       "Age23         -36.1258 15208.4712  -0.002    0.998\n",
       "Age24         -36.6685 15208.4713  -0.002    0.998\n",
       "Age25         -18.9575 10754.0134  -0.002    0.999\n",
       "Age26         -18.5102 10754.0134  -0.002    0.999\n",
       "Age27         -17.8462 10754.0134  -0.002    0.999\n",
       "Age28         -15.3920 10754.0136  -0.001    0.999\n",
       "Age29           1.1300 11788.4886   0.000    1.000\n",
       "Age30         -17.9533 10754.0134  -0.002    0.999\n",
       "Age31         -36.6389 13169.0009  -0.003    0.998\n",
       "Age32         -15.5089 10754.0135  -0.001    0.999\n",
       "Age33         -16.8293 10754.0134  -0.002    0.999\n",
       "Age35         -16.9856 10754.0135  -0.002    0.999\n",
       "Age36           0.2508 12421.8998   0.000    1.000\n",
       "Age37           3.7536 15208.4714   0.000    1.000\n",
       "Age38           1.3321 15208.4713   0.000    1.000\n",
       "DN2            -0.7036     1.2665  -0.556    0.578\n",
       "DN3            -2.5784     2.2279  -1.157    0.247\n",
       "DN4            18.2553  6217.2982   0.003    0.998\n",
       "DT1            -0.4845     1.2254  -0.395    0.693\n",
       "DT2             0.7618     1.3390   0.569    0.569\n",
       "BP1            -1.0710     1.2678  -0.845    0.398\n",
       "BP2             0.5886     1.5229   0.387    0.699\n",
       "HP1             1.3467     1.1768   1.144    0.252\n",
       "\n",
       "(Dispersion parameter for binomial family taken to be 1)\n",
       "\n",
       "    Null deviance: 75.837  on 55  degrees of freedom\n",
       "Residual deviance: 38.664  on 28  degrees of freedom\n",
       "AIC: 94.664\n",
       "\n",
       "Number of Fisher Scoring iterations: 18\n"
      ]
     },
     "metadata": {},
     "output_type": "display_data"
    }
   ],
   "source": [
    "## logistic reg. for category data\n",
    "full.fit = glm(CS~., family=binomial, data=traindata)\n",
    "summary(full.fit)"
   ]
  },
  {
   "cell_type": "code",
   "execution_count": 11,
   "metadata": {},
   "outputs": [
    {
     "name": "stderr",
     "output_type": "stream",
     "text": [
      "Waiting for profiling to be done...\n",
      "Warning message:\n",
      "“glm.fit: fitted probabilities numerically 0 or 1 occurred”Warning message:\n",
      "“glm.fit: fitted probabilities numerically 0 or 1 occurred”Warning message:\n",
      "“glm.fit: fitted probabilities numerically 0 or 1 occurred”Warning message:\n",
      "“glm.fit: fitted probabilities numerically 0 or 1 occurred”Warning message:\n",
      "“glm.fit: fitted probabilities numerically 0 or 1 occurred”Warning message:\n",
      "“glm.fit: fitted probabilities numerically 0 or 1 occurred”Warning message:\n",
      "“glm.fit: fitted probabilities numerically 0 or 1 occurred”Warning message:\n",
      "“glm.fit: fitted probabilities numerically 0 or 1 occurred”Warning message:\n",
      "“glm.fit: fitted probabilities numerically 0 or 1 occurred”Warning message:\n",
      "“glm.fit: fitted probabilities numerically 0 or 1 occurred”Warning message:\n",
      "“glm.fit: fitted probabilities numerically 0 or 1 occurred”Warning message:\n",
      "“glm.fit: algorithm did not converge”Warning message:\n",
      "“glm.fit: fitted probabilities numerically 0 or 1 occurred”Warning message:\n",
      "“glm.fit: algorithm did not converge”Warning message:\n",
      "“glm.fit: fitted probabilities numerically 0 or 1 occurred”Warning message:\n",
      "“glm.fit: algorithm did not converge”Warning message:\n",
      "“glm.fit: fitted probabilities numerically 0 or 1 occurred”Warning message:\n",
      "“glm.fit: algorithm did not converge”Warning message:\n",
      "“glm.fit: fitted probabilities numerically 0 or 1 occurred”Warning message:\n",
      "“glm.fit: algorithm did not converge”Warning message:\n",
      "“glm.fit: fitted probabilities numerically 0 or 1 occurred”Warning message:\n",
      "“glm.fit: algorithm did not converge”Warning message:\n",
      "“glm.fit: fitted probabilities numerically 0 or 1 occurred”Warning message:\n",
      "“glm.fit: algorithm did not converge”Warning message:\n",
      "“glm.fit: fitted probabilities numerically 0 or 1 occurred”Warning message:\n",
      "“glm.fit: algorithm did not converge”Warning message:\n",
      "“glm.fit: fitted probabilities numerically 0 or 1 occurred”Warning message:\n",
      "“glm.fit: algorithm did not converge”Warning message:\n",
      "“glm.fit: fitted probabilities numerically 0 or 1 occurred”Warning message:\n",
      "“glm.fit: fitted probabilities numerically 0 or 1 occurred”Warning message:\n",
      "“glm.fit: fitted probabilities numerically 0 or 1 occurred”Warning message:\n",
      "“glm.fit: fitted probabilities numerically 0 or 1 occurred”Warning message:\n",
      "“glm.fit: fitted probabilities numerically 0 or 1 occurred”Warning message:\n",
      "“glm.fit: fitted probabilities numerically 0 or 1 occurred”Warning message:\n",
      "“glm.fit: fitted probabilities numerically 0 or 1 occurred”Warning message:\n",
      "“glm.fit: fitted probabilities numerically 0 or 1 occurred”Warning message:\n",
      "“glm.fit: fitted probabilities numerically 0 or 1 occurred”Warning message:\n",
      "“glm.fit: fitted probabilities numerically 0 or 1 occurred”Warning message:\n",
      "“glm.fit: algorithm did not converge”Warning message:\n",
      "“glm.fit: fitted probabilities numerically 0 or 1 occurred”Warning message:\n",
      "“glm.fit: fitted probabilities numerically 0 or 1 occurred”Warning message:\n",
      "“glm.fit: algorithm did not converge”Warning message:\n",
      "“glm.fit: fitted probabilities numerically 0 or 1 occurred”Warning message:\n",
      "“glm.fit: algorithm did not converge”Warning message:\n",
      "“glm.fit: fitted probabilities numerically 0 or 1 occurred”Warning message:\n",
      "“glm.fit: algorithm did not converge”Warning message:\n",
      "“glm.fit: fitted probabilities numerically 0 or 1 occurred”Warning message:\n",
      "“glm.fit: algorithm did not converge”Warning message:\n",
      "“glm.fit: fitted probabilities numerically 0 or 1 occurred”Warning message:\n",
      "“glm.fit: fitted probabilities numerically 0 or 1 occurred”Warning message:\n",
      "“glm.fit: fitted probabilities numerically 0 or 1 occurred”Warning message:\n",
      "“glm.fit: fitted probabilities numerically 0 or 1 occurred”Warning message:\n",
      "“glm.fit: fitted probabilities numerically 0 or 1 occurred”Warning message:\n",
      "“glm.fit: fitted probabilities numerically 0 or 1 occurred”Warning message:\n",
      "“glm.fit: fitted probabilities numerically 0 or 1 occurred”Warning message:\n",
      "“glm.fit: fitted probabilities numerically 0 or 1 occurred”Warning message:\n",
      "“glm.fit: fitted probabilities numerically 0 or 1 occurred”Warning message:\n",
      "“glm.fit: fitted probabilities numerically 0 or 1 occurred”Warning message:\n",
      "“glm.fit: fitted probabilities numerically 0 or 1 occurred”Warning message:\n",
      "“glm.fit: fitted probabilities numerically 0 or 1 occurred”Warning message:\n",
      "“glm.fit: fitted probabilities numerically 0 or 1 occurred”Warning message:\n",
      "“glm.fit: fitted probabilities numerically 0 or 1 occurred”Warning message:\n",
      "“glm.fit: fitted probabilities numerically 0 or 1 occurred”Warning message:\n",
      "“glm.fit: fitted probabilities numerically 0 or 1 occurred”Warning message:\n",
      "“glm.fit: fitted probabilities numerically 0 or 1 occurred”Warning message:\n",
      "“glm.fit: fitted probabilities numerically 0 or 1 occurred”Warning message:\n",
      "“glm.fit: fitted probabilities numerically 0 or 1 occurred”Warning message:\n",
      "“glm.fit: fitted probabilities numerically 0 or 1 occurred”Warning message:\n",
      "“glm.fit: algorithm did not converge”Warning message:\n",
      "“glm.fit: fitted probabilities numerically 0 or 1 occurred”Warning message:\n",
      "“glm.fit: fitted probabilities numerically 0 or 1 occurred”Warning message:\n",
      "“glm.fit: fitted probabilities numerically 0 or 1 occurred”Warning message:\n",
      "“glm.fit: fitted probabilities numerically 0 or 1 occurred”Warning message:\n",
      "“glm.fit: fitted probabilities numerically 0 or 1 occurred”Warning message:\n",
      "“glm.fit: fitted probabilities numerically 0 or 1 occurred”Warning message:\n",
      "“glm.fit: fitted probabilities numerically 0 or 1 occurred”Warning message:\n",
      "“glm.fit: fitted probabilities numerically 0 or 1 occurred”Warning message:\n",
      "“glm.fit: fitted probabilities numerically 0 or 1 occurred”Warning message:\n",
      "“glm.fit: fitted probabilities numerically 0 or 1 occurred”Warning message:\n",
      "“glm.fit: fitted probabilities numerically 0 or 1 occurred”Warning message:\n",
      "“glm.fit: fitted probabilities numerically 0 or 1 occurred”Warning message:\n",
      "“glm.fit: fitted probabilities numerically 0 or 1 occurred”Warning message:\n",
      "“glm.fit: fitted probabilities numerically 0 or 1 occurred”Warning message:\n",
      "“glm.fit: fitted probabilities numerically 0 or 1 occurred”Warning message:\n",
      "“glm.fit: fitted probabilities numerically 0 or 1 occurred”Warning message:\n",
      "“glm.fit: fitted probabilities numerically 0 or 1 occurred”Warning message:\n",
      "“glm.fit: fitted probabilities numerically 0 or 1 occurred”Warning message:\n",
      "“glm.fit: fitted probabilities numerically 0 or 1 occurred”Warning message:\n",
      "“glm.fit: fitted probabilities numerically 0 or 1 occurred”Warning message:\n",
      "“glm.fit: fitted probabilities numerically 0 or 1 occurred”Warning message:\n",
      "“glm.fit: fitted probabilities numerically 0 or 1 occurred”Warning message:\n",
      "“glm.fit: fitted probabilities numerically 0 or 1 occurred”Warning message:\n",
      "“glm.fit: fitted probabilities numerically 0 or 1 occurred”Warning message:\n",
      "“glm.fit: fitted probabilities numerically 0 or 1 occurred”Warning message:\n",
      "“glm.fit: fitted probabilities numerically 0 or 1 occurred”Warning message:\n",
      "“glm.fit: fitted probabilities numerically 0 or 1 occurred”Warning message:\n",
      "“glm.fit: fitted probabilities numerically 0 or 1 occurred”Warning message:\n",
      "“glm.fit: fitted probabilities numerically 0 or 1 occurred”Warning message:\n",
      "“glm.fit: fitted probabilities numerically 0 or 1 occurred”Warning message:\n",
      "“glm.fit: fitted probabilities numerically 0 or 1 occurred”Warning message:\n",
      "“glm.fit: fitted probabilities numerically 0 or 1 occurred”Warning message:\n",
      "“glm.fit: fitted probabilities numerically 0 or 1 occurred”Warning message:\n",
      "“glm.fit: fitted probabilities numerically 0 or 1 occurred”Warning message:\n",
      "“glm.fit: fitted probabilities numerically 0 or 1 occurred”Warning message:\n",
      "“glm.fit: fitted probabilities numerically 0 or 1 occurred”Warning message:\n",
      "“glm.fit: fitted probabilities numerically 0 or 1 occurred”Warning message:\n",
      "“glm.fit: fitted probabilities numerically 0 or 1 occurred”Warning message:\n",
      "“glm.fit: fitted probabilities numerically 0 or 1 occurred”Warning message:\n",
      "“glm.fit: fitted probabilities numerically 0 or 1 occurred”Warning message:\n",
      "“glm.fit: fitted probabilities numerically 0 or 1 occurred”Warning message:\n",
      "“glm.fit: fitted probabilities numerically 0 or 1 occurred”Warning message:\n",
      "“glm.fit: fitted probabilities numerically 0 or 1 occurred”Warning message:\n",
      "“glm.fit: fitted probabilities numerically 0 or 1 occurred”Warning message:\n",
      "“glm.fit: fitted probabilities numerically 0 or 1 occurred”Warning message:\n",
      "“glm.fit: fitted probabilities numerically 0 or 1 occurred”Warning message:\n",
      "“glm.fit: fitted probabilities numerically 0 or 1 occurred”Warning message:\n",
      "“glm.fit: fitted probabilities numerically 0 or 1 occurred”Warning message:\n",
      "“glm.fit: fitted probabilities numerically 0 or 1 occurred”Warning message:\n",
      "“glm.fit: fitted probabilities numerically 0 or 1 occurred”Warning message:\n",
      "“glm.fit: fitted probabilities numerically 0 or 1 occurred”Warning message:\n",
      "“glm.fit: algorithm did not converge”Warning message:\n",
      "“glm.fit: fitted probabilities numerically 0 or 1 occurred”Warning message:\n",
      "“glm.fit: algorithm did not converge”Warning message:\n",
      "“glm.fit: fitted probabilities numerically 0 or 1 occurred”Warning message:\n",
      "“glm.fit: algorithm did not converge”Warning message:\n",
      "“glm.fit: fitted probabilities numerically 0 or 1 occurred”Warning message:\n",
      "“glm.fit: algorithm did not converge”Warning message:\n",
      "“glm.fit: fitted probabilities numerically 0 or 1 occurred”Warning message:\n",
      "“glm.fit: algorithm did not converge”Warning message:\n",
      "“glm.fit: fitted probabilities numerically 0 or 1 occurred”Warning message:\n",
      "“glm.fit: algorithm did not converge”Warning message:\n",
      "“glm.fit: fitted probabilities numerically 0 or 1 occurred”Warning message:\n",
      "“glm.fit: algorithm did not converge”Warning message:\n",
      "“glm.fit: fitted probabilities numerically 0 or 1 occurred”Warning message:\n",
      "“glm.fit: algorithm did not converge”Warning message:\n",
      "“glm.fit: fitted probabilities numerically 0 or 1 occurred”Warning message:\n",
      "“glm.fit: algorithm did not converge”Warning message:\n",
      "“glm.fit: fitted probabilities numerically 0 or 1 occurred”Warning message:\n",
      "“glm.fit: algorithm did not converge”Warning message:\n",
      "“glm.fit: fitted probabilities numerically 0 or 1 occurred”Warning message:\n",
      "“glm.fit: fitted probabilities numerically 0 or 1 occurred”Warning message:\n",
      "“glm.fit: fitted probabilities numerically 0 or 1 occurred”Warning message:\n",
      "“glm.fit: fitted probabilities numerically 0 or 1 occurred”Warning message:\n",
      "“glm.fit: fitted probabilities numerically 0 or 1 occurred”Warning message:\n",
      "“glm.fit: fitted probabilities numerically 0 or 1 occurred”Warning message:\n",
      "“glm.fit: fitted probabilities numerically 0 or 1 occurred”Warning message:\n",
      "“glm.fit: fitted probabilities numerically 0 or 1 occurred”Warning message:\n",
      "“glm.fit: fitted probabilities numerically 0 or 1 occurred”Warning message:\n",
      "“glm.fit: fitted probabilities numerically 0 or 1 occurred”Warning message:\n",
      "“glm.fit: fitted probabilities numerically 0 or 1 occurred”Warning message:\n",
      "“glm.fit: fitted probabilities numerically 0 or 1 occurred”Warning message:\n",
      "“glm.fit: fitted probabilities numerically 0 or 1 occurred”Warning message:\n",
      "“glm.fit: fitted probabilities numerically 0 or 1 occurred”Warning message:\n",
      "“glm.fit: fitted probabilities numerically 0 or 1 occurred”Warning message:\n",
      "“glm.fit: fitted probabilities numerically 0 or 1 occurred”Warning message:\n",
      "“glm.fit: fitted probabilities numerically 0 or 1 occurred”Warning message:\n",
      "“glm.fit: fitted probabilities numerically 0 or 1 occurred”Warning message:\n",
      "“glm.fit: fitted probabilities numerically 0 or 1 occurred”Warning message:\n",
      "“glm.fit: fitted probabilities numerically 0 or 1 occurred”Warning message:\n",
      "“glm.fit: algorithm did not converge”Warning message:\n",
      "“glm.fit: fitted probabilities numerically 0 or 1 occurred”Warning message:\n",
      "“glm.fit: fitted probabilities numerically 0 or 1 occurred”Warning message:\n",
      "“glm.fit: fitted probabilities numerically 0 or 1 occurred”Warning message:\n",
      "“glm.fit: fitted probabilities numerically 0 or 1 occurred”Warning message:\n",
      "“glm.fit: fitted probabilities numerically 0 or 1 occurred”Warning message:\n",
      "“glm.fit: fitted probabilities numerically 0 or 1 occurred”Warning message:\n",
      "“glm.fit: fitted probabilities numerically 0 or 1 occurred”Warning message:\n",
      "“glm.fit: fitted probabilities numerically 0 or 1 occurred”Warning message:\n",
      "“glm.fit: fitted probabilities numerically 0 or 1 occurred”Warning message:\n",
      "“glm.fit: fitted probabilities numerically 0 or 1 occurred”Warning message:\n",
      "“glm.fit: fitted probabilities numerically 0 or 1 occurred”Warning message:\n",
      "“glm.fit: fitted probabilities numerically 0 or 1 occurred”Warning message:\n",
      "“glm.fit: fitted probabilities numerically 0 or 1 occurred”Warning message:\n",
      "“glm.fit: fitted probabilities numerically 0 or 1 occurred”Warning message:\n",
      "“glm.fit: fitted probabilities numerically 0 or 1 occurred”Warning message:\n",
      "“glm.fit: fitted probabilities numerically 0 or 1 occurred”Warning message:\n",
      "“glm.fit: fitted probabilities numerically 0 or 1 occurred”Warning message:\n",
      "“glm.fit: fitted probabilities numerically 0 or 1 occurred”Warning message:\n",
      "“glm.fit: fitted probabilities numerically 0 or 1 occurred”Warning message:\n",
      "“glm.fit: fitted probabilities numerically 0 or 1 occurred”Warning message:\n",
      "“glm.fit: algorithm did not converge”Warning message:\n",
      "“glm.fit: fitted probabilities numerically 0 or 1 occurred”Warning message:\n",
      "“glm.fit: fitted probabilities numerically 0 or 1 occurred”Warning message:\n",
      "“glm.fit: fitted probabilities numerically 0 or 1 occurred”Warning message:\n",
      "“glm.fit: fitted probabilities numerically 0 or 1 occurred”Warning message:\n",
      "“glm.fit: fitted probabilities numerically 0 or 1 occurred”Warning message:\n",
      "“glm.fit: fitted probabilities numerically 0 or 1 occurred”Warning message:\n",
      "“glm.fit: fitted probabilities numerically 0 or 1 occurred”Warning message:\n",
      "“glm.fit: fitted probabilities numerically 0 or 1 occurred”Warning message:\n",
      "“glm.fit: fitted probabilities numerically 0 or 1 occurred”Warning message:\n",
      "“glm.fit: fitted probabilities numerically 0 or 1 occurred”Warning message:\n",
      "“glm.fit: algorithm did not converge”Warning message:\n",
      "“glm.fit: fitted probabilities numerically 0 or 1 occurred”Warning message:\n",
      "“glm.fit: fitted probabilities numerically 0 or 1 occurred”Warning message:\n",
      "“glm.fit: algorithm did not converge”Warning message:\n",
      "“glm.fit: fitted probabilities numerically 0 or 1 occurred”Warning message:\n",
      "“glm.fit: algorithm did not converge”Warning message:\n",
      "“glm.fit: fitted probabilities numerically 0 or 1 occurred”Warning message:\n",
      "“glm.fit: algorithm did not converge”Warning message:\n",
      "“glm.fit: fitted probabilities numerically 0 or 1 occurred”Warning message:\n",
      "“glm.fit: algorithm did not converge”Warning message:\n",
      "“glm.fit: fitted probabilities numerically 0 or 1 occurred”Warning message:\n",
      "“glm.fit: algorithm did not converge”Warning message:\n",
      "“glm.fit: fitted probabilities numerically 0 or 1 occurred”Warning message:\n",
      "“glm.fit: algorithm did not converge”Warning message:\n",
      "“glm.fit: fitted probabilities numerically 0 or 1 occurred”Warning message:\n",
      "“glm.fit: algorithm did not converge”Warning message:\n",
      "“glm.fit: fitted probabilities numerically 0 or 1 occurred”Warning message:\n",
      "“glm.fit: algorithm did not converge”Warning message:\n",
      "“glm.fit: fitted probabilities numerically 0 or 1 occurred”Warning message:\n",
      "“glm.fit: algorithm did not converge”Warning message:\n",
      "“glm.fit: fitted probabilities numerically 0 or 1 occurred”Warning message:\n",
      "“glm.fit: algorithm did not converge”Warning message:\n",
      "“glm.fit: fitted probabilities numerically 0 or 1 occurred”Warning message:\n",
      "“glm.fit: algorithm did not converge”Warning message:\n",
      "“glm.fit: fitted probabilities numerically 0 or 1 occurred”Warning message:\n",
      "“glm.fit: algorithm did not converge”Warning message:\n",
      "“glm.fit: fitted probabilities numerically 0 or 1 occurred”Warning message:\n",
      "“glm.fit: algorithm did not converge”Warning message:\n",
      "“glm.fit: fitted probabilities numerically 0 or 1 occurred”Warning message:\n",
      "“glm.fit: algorithm did not converge”Warning message:\n",
      "“glm.fit: fitted probabilities numerically 0 or 1 occurred”Warning message:\n",
      "“glm.fit: algorithm did not converge”Warning message:\n",
      "“glm.fit: fitted probabilities numerically 0 or 1 occurred”Warning message:\n",
      "“glm.fit: algorithm did not converge”Warning message:\n",
      "“glm.fit: fitted probabilities numerically 0 or 1 occurred”Warning message:\n",
      "“glm.fit: fitted probabilities numerically 0 or 1 occurred”Warning message:\n"
     ]
    },
    {
     "name": "stderr",
     "output_type": "stream",
     "text": [
      "“glm.fit: fitted probabilities numerically 0 or 1 occurred”Warning message:\n",
      "“glm.fit: fitted probabilities numerically 0 or 1 occurred”Warning message:\n",
      "“glm.fit: fitted probabilities numerically 0 or 1 occurred”Warning message:\n",
      "“glm.fit: fitted probabilities numerically 0 or 1 occurred”Warning message:\n",
      "“glm.fit: fitted probabilities numerically 0 or 1 occurred”Warning message:\n",
      "“glm.fit: fitted probabilities numerically 0 or 1 occurred”Warning message:\n",
      "“glm.fit: fitted probabilities numerically 0 or 1 occurred”Warning message:\n",
      "“glm.fit: fitted probabilities numerically 0 or 1 occurred”Warning message:\n",
      "“glm.fit: fitted probabilities numerically 0 or 1 occurred”Warning message:\n",
      "“glm.fit: fitted probabilities numerically 0 or 1 occurred”Warning message:\n",
      "“glm.fit: fitted probabilities numerically 0 or 1 occurred”Warning message:\n",
      "“glm.fit: fitted probabilities numerically 0 or 1 occurred”Warning message:\n",
      "“glm.fit: fitted probabilities numerically 0 or 1 occurred”Warning message:\n",
      "“glm.fit: fitted probabilities numerically 0 or 1 occurred”Warning message:\n",
      "“glm.fit: fitted probabilities numerically 0 or 1 occurred”Warning message:\n",
      "“glm.fit: fitted probabilities numerically 0 or 1 occurred”Warning message:\n",
      "“glm.fit: fitted probabilities numerically 0 or 1 occurred”Warning message:\n",
      "“glm.fit: fitted probabilities numerically 0 or 1 occurred”Warning message:\n",
      "“glm.fit: fitted probabilities numerically 0 or 1 occurred”Warning message:\n",
      "“glm.fit: fitted probabilities numerically 0 or 1 occurred”Warning message:\n",
      "“glm.fit: fitted probabilities numerically 0 or 1 occurred”Warning message:\n",
      "“glm.fit: fitted probabilities numerically 0 or 1 occurred”Warning message:\n",
      "“glm.fit: fitted probabilities numerically 0 or 1 occurred”Warning message:\n",
      "“glm.fit: algorithm did not converge”Warning message:\n",
      "“glm.fit: fitted probabilities numerically 0 or 1 occurred”Warning message:\n",
      "“glm.fit: fitted probabilities numerically 0 or 1 occurred”Warning message:\n",
      "“glm.fit: fitted probabilities numerically 0 or 1 occurred”Warning message:\n",
      "“glm.fit: fitted probabilities numerically 0 or 1 occurred”Warning message:\n",
      "“glm.fit: fitted probabilities numerically 0 or 1 occurred”Warning message:\n",
      "“glm.fit: fitted probabilities numerically 0 or 1 occurred”Warning message:\n",
      "“glm.fit: fitted probabilities numerically 0 or 1 occurred”Warning message:\n",
      "“glm.fit: fitted probabilities numerically 0 or 1 occurred”Warning message:\n",
      "“glm.fit: fitted probabilities numerically 0 or 1 occurred”Warning message:\n",
      "“glm.fit: fitted probabilities numerically 0 or 1 occurred”Warning message:\n",
      "“glm.fit: fitted probabilities numerically 0 or 1 occurred”Warning message:\n",
      "“glm.fit: fitted probabilities numerically 0 or 1 occurred”Warning message:\n",
      "“glm.fit: fitted probabilities numerically 0 or 1 occurred”Warning message:\n",
      "“glm.fit: fitted probabilities numerically 0 or 1 occurred”Warning message:\n",
      "“glm.fit: fitted probabilities numerically 0 or 1 occurred”Warning message:\n",
      "“glm.fit: fitted probabilities numerically 0 or 1 occurred”Warning message:\n",
      "“glm.fit: fitted probabilities numerically 0 or 1 occurred”Warning message:\n",
      "“glm.fit: fitted probabilities numerically 0 or 1 occurred”Warning message:\n",
      "“glm.fit: fitted probabilities numerically 0 or 1 occurred”Warning message:\n",
      "“glm.fit: fitted probabilities numerically 0 or 1 occurred”Warning message:\n",
      "“glm.fit: fitted probabilities numerically 0 or 1 occurred”Warning message:\n",
      "“glm.fit: fitted probabilities numerically 0 or 1 occurred”Warning message:\n",
      "“glm.fit: fitted probabilities numerically 0 or 1 occurred”Warning message:\n",
      "“glm.fit: fitted probabilities numerically 0 or 1 occurred”Warning message:\n",
      "“glm.fit: fitted probabilities numerically 0 or 1 occurred”Warning message:\n",
      "“glm.fit: fitted probabilities numerically 0 or 1 occurred”Warning message:\n",
      "“glm.fit: fitted probabilities numerically 0 or 1 occurred”Warning message:\n",
      "“glm.fit: fitted probabilities numerically 0 or 1 occurred”Warning message:\n",
      "“glm.fit: fitted probabilities numerically 0 or 1 occurred”Warning message:\n",
      "“glm.fit: fitted probabilities numerically 0 or 1 occurred”Warning message:\n",
      "“glm.fit: fitted probabilities numerically 0 or 1 occurred”Warning message:\n",
      "“glm.fit: fitted probabilities numerically 0 or 1 occurred”Warning message:\n",
      "“glm.fit: fitted probabilities numerically 0 or 1 occurred”Warning message:\n",
      "“glm.fit: fitted probabilities numerically 0 or 1 occurred”Warning message:\n",
      "“glm.fit: fitted probabilities numerically 0 or 1 occurred”Warning message:\n",
      "“glm.fit: fitted probabilities numerically 0 or 1 occurred”Warning message:\n",
      "“glm.fit: fitted probabilities numerically 0 or 1 occurred”Warning message:\n",
      "“glm.fit: fitted probabilities numerically 0 or 1 occurred”Warning message:\n",
      "“glm.fit: fitted probabilities numerically 0 or 1 occurred”Warning message:\n",
      "“glm.fit: fitted probabilities numerically 0 or 1 occurred”Warning message:\n",
      "“glm.fit: fitted probabilities numerically 0 or 1 occurred”Warning message:\n",
      "“glm.fit: fitted probabilities numerically 0 or 1 occurred”Warning message:\n",
      "“glm.fit: fitted probabilities numerically 0 or 1 occurred”Warning message:\n",
      "“glm.fit: fitted probabilities numerically 0 or 1 occurred”Warning message:\n",
      "“glm.fit: fitted probabilities numerically 0 or 1 occurred”Warning message:\n",
      "“glm.fit: fitted probabilities numerically 0 or 1 occurred”Warning message:\n",
      "“glm.fit: fitted probabilities numerically 0 or 1 occurred”Warning message:\n",
      "“glm.fit: fitted probabilities numerically 0 or 1 occurred”Warning message:\n",
      "“glm.fit: fitted probabilities numerically 0 or 1 occurred”Warning message:\n",
      "“glm.fit: fitted probabilities numerically 0 or 1 occurred”Warning message:\n",
      "“glm.fit: fitted probabilities numerically 0 or 1 occurred”Warning message:\n",
      "“glm.fit: fitted probabilities numerically 0 or 1 occurred”Warning message:\n",
      "“glm.fit: fitted probabilities numerically 0 or 1 occurred”Warning message:\n",
      "“glm.fit: fitted probabilities numerically 0 or 1 occurred”Warning message:\n",
      "“glm.fit: fitted probabilities numerically 0 or 1 occurred”Warning message:\n",
      "“glm.fit: fitted probabilities numerically 0 or 1 occurred”Warning message:\n",
      "“glm.fit: fitted probabilities numerically 0 or 1 occurred”Warning message:\n",
      "“glm.fit: fitted probabilities numerically 0 or 1 occurred”Warning message:\n",
      "“glm.fit: fitted probabilities numerically 0 or 1 occurred”Warning message:\n",
      "“glm.fit: fitted probabilities numerically 0 or 1 occurred”Warning message:\n",
      "“glm.fit: fitted probabilities numerically 0 or 1 occurred”Warning message:\n",
      "“glm.fit: fitted probabilities numerically 0 or 1 occurred”Warning message:\n",
      "“glm.fit: fitted probabilities numerically 0 or 1 occurred”Warning message:\n",
      "“glm.fit: fitted probabilities numerically 0 or 1 occurred”Warning message:\n",
      "“glm.fit: fitted probabilities numerically 0 or 1 occurred”Warning message:\n",
      "“glm.fit: fitted probabilities numerically 0 or 1 occurred”Warning message:\n",
      "“glm.fit: fitted probabilities numerically 0 or 1 occurred”"
     ]
    },
    {
     "data": {
      "text/html": [
       "<table>\n",
       "<thead><tr><th></th><th scope=col>2.5 %</th><th scope=col>97.5 %</th></tr></thead>\n",
       "<tbody>\n",
       "\t<tr><th scope=row>(Intercept)</th><td>-2.094650e+03</td><td>         NA  </td></tr>\n",
       "\t<tr><th scope=row>Age19</th><td>-9.573072e+02</td><td>         NA  </td></tr>\n",
       "\t<tr><th scope=row>Age20</th><td>           NA</td><td>2149.076458  </td></tr>\n",
       "\t<tr><th scope=row>Age21</th><td>-1.050708e+03</td><td>7136.888690  </td></tr>\n",
       "\t<tr><th scope=row>Age22</th><td>           NA</td><td>2133.847798  </td></tr>\n",
       "\t<tr><th scope=row>Age23</th><td>           NA</td><td>3025.698526  </td></tr>\n",
       "\t<tr><th scope=row>Age24</th><td>           NA</td><td>2154.609943  </td></tr>\n",
       "\t<tr><th scope=row>Age25</th><td>           NA</td><td>2127.019756  </td></tr>\n",
       "\t<tr><th scope=row>Age26</th><td>           NA</td><td>2093.017957  </td></tr>\n",
       "\t<tr><th scope=row>Age27</th><td>           NA</td><td>2022.884439  </td></tr>\n",
       "\t<tr><th scope=row>Age28</th><td>           NA</td><td> 798.342314  </td></tr>\n",
       "\t<tr><th scope=row>Age29</th><td>-2.328225e+03</td><td>         NA  </td></tr>\n",
       "\t<tr><th scope=row>Age30</th><td>           NA</td><td>1636.408477  </td></tr>\n",
       "\t<tr><th scope=row>Age31</th><td>           NA</td><td>1678.801780  </td></tr>\n",
       "\t<tr><th scope=row>Age32</th><td>           NA</td><td> 741.320049  </td></tr>\n",
       "\t<tr><th scope=row>Age33</th><td>           NA</td><td> 713.708954  </td></tr>\n",
       "\t<tr><th scope=row>Age35</th><td>           NA</td><td>1078.977372  </td></tr>\n",
       "\t<tr><th scope=row>Age36</th><td>-8.632155e+02</td><td>         NA  </td></tr>\n",
       "\t<tr><th scope=row>Age37</th><td>-3.429248e+03</td><td>-968.099687  </td></tr>\n",
       "\t<tr><th scope=row>Age38</th><td>-1.196260e+04</td><td>2133.078736  </td></tr>\n",
       "\t<tr><th scope=row>DN2</th><td>-3.425295e+00</td><td>   1.786634  </td></tr>\n",
       "\t<tr><th scope=row>DN3</th><td>-7.673610e+00</td><td>   1.516972  </td></tr>\n",
       "\t<tr><th scope=row>DN4</th><td>-7.938026e+02</td><td>         NA  </td></tr>\n",
       "\t<tr><th scope=row>DT1</th><td>-3.084138e+00</td><td>   1.895982  </td></tr>\n",
       "\t<tr><th scope=row>DT2</th><td>-1.892426e+00</td><td>   3.513395  </td></tr>\n",
       "\t<tr><th scope=row>BP1</th><td>-3.772956e+00</td><td>   1.408784  </td></tr>\n",
       "\t<tr><th scope=row>BP2</th><td>-2.338303e+00</td><td>   3.861252  </td></tr>\n",
       "\t<tr><th scope=row>HP1</th><td>-9.135208e-01</td><td>   3.962845  </td></tr>\n",
       "</tbody>\n",
       "</table>\n"
      ],
      "text/latex": [
       "\\begin{tabular}{r|ll}\n",
       "  & 2.5 \\% & 97.5 \\%\\\\\n",
       "\\hline\n",
       "\t(Intercept) & -2.094650e+03 &          NA  \\\\\n",
       "\tAge19 & -9.573072e+02 &          NA  \\\\\n",
       "\tAge20 &            NA & 2149.076458  \\\\\n",
       "\tAge21 & -1.050708e+03 & 7136.888690  \\\\\n",
       "\tAge22 &            NA & 2133.847798  \\\\\n",
       "\tAge23 &            NA & 3025.698526  \\\\\n",
       "\tAge24 &            NA & 2154.609943  \\\\\n",
       "\tAge25 &            NA & 2127.019756  \\\\\n",
       "\tAge26 &            NA & 2093.017957  \\\\\n",
       "\tAge27 &            NA & 2022.884439  \\\\\n",
       "\tAge28 &            NA &  798.342314  \\\\\n",
       "\tAge29 & -2.328225e+03 &          NA  \\\\\n",
       "\tAge30 &            NA & 1636.408477  \\\\\n",
       "\tAge31 &            NA & 1678.801780  \\\\\n",
       "\tAge32 &            NA &  741.320049  \\\\\n",
       "\tAge33 &            NA &  713.708954  \\\\\n",
       "\tAge35 &            NA & 1078.977372  \\\\\n",
       "\tAge36 & -8.632155e+02 &          NA  \\\\\n",
       "\tAge37 & -3.429248e+03 & -968.099687  \\\\\n",
       "\tAge38 & -1.196260e+04 & 2133.078736  \\\\\n",
       "\tDN2 & -3.425295e+00 &    1.786634  \\\\\n",
       "\tDN3 & -7.673610e+00 &    1.516972  \\\\\n",
       "\tDN4 & -7.938026e+02 &          NA  \\\\\n",
       "\tDT1 & -3.084138e+00 &    1.895982  \\\\\n",
       "\tDT2 & -1.892426e+00 &    3.513395  \\\\\n",
       "\tBP1 & -3.772956e+00 &    1.408784  \\\\\n",
       "\tBP2 & -2.338303e+00 &    3.861252  \\\\\n",
       "\tHP1 & -9.135208e-01 &    3.962845  \\\\\n",
       "\\end{tabular}\n"
      ],
      "text/markdown": [
       "\n",
       "| <!--/--> | 2.5 % | 97.5 % | \n",
       "|---|---|---|---|---|---|---|---|---|---|---|---|---|---|---|---|---|---|---|---|---|---|---|---|---|---|---|---|\n",
       "| (Intercept) | -2.094650e+03 |          NA   | \n",
       "| Age19 | -9.573072e+02 |          NA   | \n",
       "| Age20 |            NA | 2149.076458   | \n",
       "| Age21 | -1.050708e+03 | 7136.888690   | \n",
       "| Age22 |            NA | 2133.847798   | \n",
       "| Age23 |            NA | 3025.698526   | \n",
       "| Age24 |            NA | 2154.609943   | \n",
       "| Age25 |            NA | 2127.019756   | \n",
       "| Age26 |            NA | 2093.017957   | \n",
       "| Age27 |            NA | 2022.884439   | \n",
       "| Age28 |            NA |  798.342314   | \n",
       "| Age29 | -2.328225e+03 |          NA   | \n",
       "| Age30 |            NA | 1636.408477   | \n",
       "| Age31 |            NA | 1678.801780   | \n",
       "| Age32 |            NA |  741.320049   | \n",
       "| Age33 |            NA |  713.708954   | \n",
       "| Age35 |            NA | 1078.977372   | \n",
       "| Age36 | -8.632155e+02 |          NA   | \n",
       "| Age37 | -3.429248e+03 | -968.099687   | \n",
       "| Age38 | -1.196260e+04 | 2133.078736   | \n",
       "| DN2 | -3.425295e+00 |    1.786634   | \n",
       "| DN3 | -7.673610e+00 |    1.516972   | \n",
       "| DN4 | -7.938026e+02 |          NA   | \n",
       "| DT1 | -3.084138e+00 |    1.895982   | \n",
       "| DT2 | -1.892426e+00 |    3.513395   | \n",
       "| BP1 | -3.772956e+00 |    1.408784   | \n",
       "| BP2 | -2.338303e+00 |    3.861252   | \n",
       "| HP1 | -9.135208e-01 |    3.962845   | \n",
       "\n",
       "\n"
      ],
      "text/plain": [
       "            2.5 %         97.5 %     \n",
       "(Intercept) -2.094650e+03          NA\n",
       "Age19       -9.573072e+02          NA\n",
       "Age20                  NA 2149.076458\n",
       "Age21       -1.050708e+03 7136.888690\n",
       "Age22                  NA 2133.847798\n",
       "Age23                  NA 3025.698526\n",
       "Age24                  NA 2154.609943\n",
       "Age25                  NA 2127.019756\n",
       "Age26                  NA 2093.017957\n",
       "Age27                  NA 2022.884439\n",
       "Age28                  NA  798.342314\n",
       "Age29       -2.328225e+03          NA\n",
       "Age30                  NA 1636.408477\n",
       "Age31                  NA 1678.801780\n",
       "Age32                  NA  741.320049\n",
       "Age33                  NA  713.708954\n",
       "Age35                  NA 1078.977372\n",
       "Age36       -8.632155e+02          NA\n",
       "Age37       -3.429248e+03 -968.099687\n",
       "Age38       -1.196260e+04 2133.078736\n",
       "DN2         -3.425295e+00    1.786634\n",
       "DN3         -7.673610e+00    1.516972\n",
       "DN4         -7.938026e+02          NA\n",
       "DT1         -3.084138e+00    1.895982\n",
       "DT2         -1.892426e+00    3.513395\n",
       "BP1         -3.772956e+00    1.408784\n",
       "BP2         -2.338303e+00    3.861252\n",
       "HP1         -9.135208e-01    3.962845"
      ]
     },
     "metadata": {},
     "output_type": "display_data"
    },
    {
     "data": {
      "text/html": [
       "<dl class=dl-horizontal>\n",
       "\t<dt>(Intercept)</dt>\n",
       "\t\t<dd>73676477.7645909</dd>\n",
       "\t<dt>Age19</dt>\n",
       "\t\t<dd>12.4520057700714</dd>\n",
       "\t<dt>Age20</dt>\n",
       "\t\t<dd>8.90300769979074e-09</dd>\n",
       "\t<dt>Age21</dt>\n",
       "\t\t<dd>3.64104048768724</dd>\n",
       "\t<dt>Age22</dt>\n",
       "\t\t<dd>4.21447377505875e-09</dd>\n",
       "\t<dt>Age23</dt>\n",
       "\t\t<dd>2.04534269835895e-16</dd>\n",
       "\t<dt>Age24</dt>\n",
       "\t\t<dd>1.18874265140111e-16</dd>\n",
       "\t<dt>Age25</dt>\n",
       "\t\t<dd>5.84628944710208e-09</dd>\n",
       "\t<dt>Age26</dt>\n",
       "\t\t<dd>9.14413543502887e-09</dd>\n",
       "\t<dt>Age27</dt>\n",
       "\t\t<dd>1.77621537112921e-08</dd>\n",
       "\t<dt>Age28</dt>\n",
       "\t\t<dd>2.0670430065624e-07</dd>\n",
       "\t<dt>Age29</dt>\n",
       "\t\t<dd>3.0956858968133</dd>\n",
       "\t<dt>Age30</dt>\n",
       "\t\t<dd>1.59579324891111e-08</dd>\n",
       "\t<dt>Age31</dt>\n",
       "\t\t<dd>1.2244030242751e-16</dd>\n",
       "\t<dt>Age32</dt>\n",
       "\t\t<dd>1.83891911239e-07</dd>\n",
       "\t<dt>Age33</dt>\n",
       "\t\t<dd>4.91036257483744e-08</dd>\n",
       "\t<dt>Age35</dt>\n",
       "\t\t<dd>4.1998035259231e-08</dd>\n",
       "\t<dt>Age36</dt>\n",
       "\t\t<dd>1.28506922750348</dd>\n",
       "\t<dt>Age37</dt>\n",
       "\t\t<dd>42.673278446684</dd>\n",
       "\t<dt>Age38</dt>\n",
       "\t\t<dd>3.78893899791132</dd>\n",
       "\t<dt>DN2</dt>\n",
       "\t\t<dd>0.494783116480694</dd>\n",
       "\t<dt>DN3</dt>\n",
       "\t\t<dd>0.0758960201736215</dd>\n",
       "\t<dt>DN4</dt>\n",
       "\t\t<dd>84759422.9979446</dd>\n",
       "\t<dt>DT1</dt>\n",
       "\t\t<dd>0.616030267291148</dd>\n",
       "\t<dt>DT2</dt>\n",
       "\t\t<dd>2.14222665385163</dd>\n",
       "\t<dt>BP1</dt>\n",
       "\t\t<dd>0.342663162605291</dd>\n",
       "\t<dt>BP2</dt>\n",
       "\t\t<dd>1.80152542911072</dd>\n",
       "\t<dt>HP1</dt>\n",
       "\t\t<dd>3.84471634569011</dd>\n",
       "</dl>\n"
      ],
      "text/latex": [
       "\\begin{description*}\n",
       "\\item[(Intercept)] 73676477.7645909\n",
       "\\item[Age19] 12.4520057700714\n",
       "\\item[Age20] 8.90300769979074e-09\n",
       "\\item[Age21] 3.64104048768724\n",
       "\\item[Age22] 4.21447377505875e-09\n",
       "\\item[Age23] 2.04534269835895e-16\n",
       "\\item[Age24] 1.18874265140111e-16\n",
       "\\item[Age25] 5.84628944710208e-09\n",
       "\\item[Age26] 9.14413543502887e-09\n",
       "\\item[Age27] 1.77621537112921e-08\n",
       "\\item[Age28] 2.0670430065624e-07\n",
       "\\item[Age29] 3.0956858968133\n",
       "\\item[Age30] 1.59579324891111e-08\n",
       "\\item[Age31] 1.2244030242751e-16\n",
       "\\item[Age32] 1.83891911239e-07\n",
       "\\item[Age33] 4.91036257483744e-08\n",
       "\\item[Age35] 4.1998035259231e-08\n",
       "\\item[Age36] 1.28506922750348\n",
       "\\item[Age37] 42.673278446684\n",
       "\\item[Age38] 3.78893899791132\n",
       "\\item[DN2] 0.494783116480694\n",
       "\\item[DN3] 0.0758960201736215\n",
       "\\item[DN4] 84759422.9979446\n",
       "\\item[DT1] 0.616030267291148\n",
       "\\item[DT2] 2.14222665385163\n",
       "\\item[BP1] 0.342663162605291\n",
       "\\item[BP2] 1.80152542911072\n",
       "\\item[HP1] 3.84471634569011\n",
       "\\end{description*}\n"
      ],
      "text/markdown": [
       "(Intercept)\n",
       ":   73676477.7645909Age19\n",
       ":   12.4520057700714Age20\n",
       ":   8.90300769979074e-09Age21\n",
       ":   3.64104048768724Age22\n",
       ":   4.21447377505875e-09Age23\n",
       ":   2.04534269835895e-16Age24\n",
       ":   1.18874265140111e-16Age25\n",
       ":   5.84628944710208e-09Age26\n",
       ":   9.14413543502887e-09Age27\n",
       ":   1.77621537112921e-08Age28\n",
       ":   2.0670430065624e-07Age29\n",
       ":   3.0956858968133Age30\n",
       ":   1.59579324891111e-08Age31\n",
       ":   1.2244030242751e-16Age32\n",
       ":   1.83891911239e-07Age33\n",
       ":   4.91036257483744e-08Age35\n",
       ":   4.1998035259231e-08Age36\n",
       ":   1.28506922750348Age37\n",
       ":   42.673278446684Age38\n",
       ":   3.78893899791132DN2\n",
       ":   0.494783116480694DN3\n",
       ":   0.0758960201736215DN4\n",
       ":   84759422.9979446DT1\n",
       ":   0.616030267291148DT2\n",
       ":   2.14222665385163BP1\n",
       ":   0.342663162605291BP2\n",
       ":   1.80152542911072HP1\n",
       ":   3.84471634569011\n",
       "\n"
      ],
      "text/plain": [
       " (Intercept)        Age19        Age20        Age21        Age22        Age23 \n",
       "7.367648e+07 1.245201e+01 8.903008e-09 3.641040e+00 4.214474e-09 2.045343e-16 \n",
       "       Age24        Age25        Age26        Age27        Age28        Age29 \n",
       "1.188743e-16 5.846289e-09 9.144135e-09 1.776215e-08 2.067043e-07 3.095686e+00 \n",
       "       Age30        Age31        Age32        Age33        Age35        Age36 \n",
       "1.595793e-08 1.224403e-16 1.838919e-07 4.910363e-08 4.199804e-08 1.285069e+00 \n",
       "       Age37        Age38          DN2          DN3          DN4          DT1 \n",
       "4.267328e+01 3.788939e+00 4.947831e-01 7.589602e-02 8.475942e+07 6.160303e-01 \n",
       "         DT2          BP1          BP2          HP1 \n",
       "2.142227e+00 3.426632e-01 1.801525e+00 3.844716e+00 "
      ]
     },
     "metadata": {},
     "output_type": "display_data"
    }
   ],
   "source": [
    "confint(full.fit)\n",
    "exp(coef(full.fit))"
   ]
  },
  {
   "cell_type": "code",
   "execution_count": 12,
   "metadata": {},
   "outputs": [
    {
     "name": "stderr",
     "output_type": "stream",
     "text": [
      "Loading required package: carData\n"
     ]
    },
    {
     "data": {
      "text/html": [
       "<table>\n",
       "<thead><tr><th></th><th scope=col>GVIF</th><th scope=col>Df</th><th scope=col>GVIF^(1/(2*Df))</th></tr></thead>\n",
       "<tbody>\n",
       "\t<tr><th scope=row>Age</th><td>19.514940</td><td>19       </td><td>1.081327 </td></tr>\n",
       "\t<tr><th scope=row>DN</th><td> 5.815875</td><td> 3       </td><td>1.341022 </td></tr>\n",
       "\t<tr><th scope=row>DT</th><td> 2.678911</td><td> 2       </td><td>1.279351 </td></tr>\n",
       "\t<tr><th scope=row>BP</th><td> 3.088776</td><td> 2       </td><td>1.325704 </td></tr>\n",
       "\t<tr><th scope=row>HP</th><td> 1.989140</td><td> 1       </td><td>1.410369 </td></tr>\n",
       "</tbody>\n",
       "</table>\n"
      ],
      "text/latex": [
       "\\begin{tabular}{r|lll}\n",
       "  & GVIF & Df & GVIF\\textasciicircum{}(1/(2*Df))\\\\\n",
       "\\hline\n",
       "\tAge & 19.514940 & 19        & 1.081327 \\\\\n",
       "\tDN &  5.815875 &  3        & 1.341022 \\\\\n",
       "\tDT &  2.678911 &  2        & 1.279351 \\\\\n",
       "\tBP &  3.088776 &  2        & 1.325704 \\\\\n",
       "\tHP &  1.989140 &  1        & 1.410369 \\\\\n",
       "\\end{tabular}\n"
      ],
      "text/markdown": [
       "\n",
       "| <!--/--> | GVIF | Df | GVIF^(1/(2*Df)) | \n",
       "|---|---|---|---|---|\n",
       "| Age | 19.514940 | 19        | 1.081327  | \n",
       "| DN |  5.815875 |  3        | 1.341022  | \n",
       "| DT |  2.678911 |  2        | 1.279351  | \n",
       "| BP |  3.088776 |  2        | 1.325704  | \n",
       "| HP |  1.989140 |  1        | 1.410369  | \n",
       "\n",
       "\n"
      ],
      "text/plain": [
       "    GVIF      Df GVIF^(1/(2*Df))\n",
       "Age 19.514940 19 1.081327       \n",
       "DN   5.815875  3 1.341022       \n",
       "DT   2.678911  2 1.279351       \n",
       "BP   3.088776  2 1.325704       \n",
       "HP   1.989140  1 1.410369       "
      ]
     },
     "metadata": {},
     "output_type": "display_data"
    }
   ],
   "source": [
    "library(car)\n",
    "vif(full.fit)"
   ]
  },
  {
   "cell_type": "code",
   "execution_count": null,
   "metadata": {},
   "outputs": [],
   "source": []
  },
  {
   "cell_type": "code",
   "execution_count": null,
   "metadata": {},
   "outputs": [],
   "source": []
  },
  {
   "cell_type": "code",
   "execution_count": null,
   "metadata": {},
   "outputs": [],
   "source": []
  },
  {
   "cell_type": "code",
   "execution_count": null,
   "metadata": {},
   "outputs": [],
   "source": []
  },
  {
   "cell_type": "code",
   "execution_count": 13,
   "metadata": {},
   "outputs": [
    {
     "name": "stdout",
     "output_type": "stream",
     "text": [
      "'data.frame':\t56 obs. of  6 variables:\n",
      " $ Age: num  6 10 10 11 12 11 17 7 4 13 ...\n",
      " $ DN : num  1 2 1 2 2 1 1 1 1 1 ...\n",
      " $ DT : num  1 2 2 1 1 2 2 2 1 3 ...\n",
      " $ BP : num  3 2 1 2 2 2 1 2 2 1 ...\n",
      " $ HP : num  1 1 1 1 1 1 1 1 2 2 ...\n",
      " $ CS : Factor w/ 2 levels \"0\",\"1\": 1 1 1 1 1 2 2 1 1 2 ...\n",
      "'data.frame':\t24 obs. of  6 variables:\n",
      " $ Age: num  10 12 6 16 19 9 8 10 11 2 ...\n",
      " $ DN : num  2 1 2 3 1 1 1 1 1 1 ...\n",
      " $ DT : num  1 1 1 1 1 3 3 2 1 1 ...\n",
      " $ BP : num  2 3 2 2 2 1 1 2 1 2 ...\n",
      " $ HP : num  1 1 1 1 1 1 2 1 2 1 ...\n",
      " $ CS : Factor w/ 2 levels \"0\",\"1\": 2 1 2 2 1 1 2 1 2 1 ...\n"
     ]
    }
   ],
   "source": [
    "## log reg from numeric data\n",
    "\n",
    "traindata.num = rawdata.num[ind==1,] \n",
    "str(traindata.num) ## 80datas * 70% = 56datas\n",
    "testdata.num = rawdata.num[ind==2,] \n",
    "str(testdata.num)\n",
    "\n"
   ]
  },
  {
   "cell_type": "code",
   "execution_count": 14,
   "metadata": {},
   "outputs": [
    {
     "data": {
      "text/plain": [
       "\n",
       "Call:\n",
       "glm(formula = CS ~ ., family = binomial, data = traindata.num)\n",
       "\n",
       "Deviance Residuals: \n",
       "    Min       1Q   Median       3Q      Max  \n",
       "-1.9359  -1.0293   0.5149   0.8963   1.5201  \n",
       "\n",
       "Coefficients:\n",
       "            Estimate Std. Error z value Pr(>|z|)   \n",
       "(Intercept) -2.78921    1.76248  -1.583  0.11353   \n",
       "Age          0.05993    0.07465   0.803  0.42208   \n",
       "DN          -0.13158    0.44714  -0.294  0.76856   \n",
       "DT          -0.14475    0.38001  -0.381  0.70327   \n",
       "BP           0.24278    0.45556   0.533  0.59409   \n",
       "HP           1.79571    0.67783   2.649  0.00807 **\n",
       "---\n",
       "Signif. codes:  0 ‘***’ 0.001 ‘**’ 0.01 ‘*’ 0.05 ‘.’ 0.1 ‘ ’ 1\n",
       "\n",
       "(Dispersion parameter for binomial family taken to be 1)\n",
       "\n",
       "    Null deviance: 75.837  on 55  degrees of freedom\n",
       "Residual deviance: 65.160  on 50  degrees of freedom\n",
       "AIC: 77.16\n",
       "\n",
       "Number of Fisher Scoring iterations: 4\n"
      ]
     },
     "metadata": {},
     "output_type": "display_data"
    }
   ],
   "source": [
    "## logistic reg. for category data (numeric type)\n",
    "full.fit_num = glm(CS~., family=binomial, data=traindata.num)\n",
    "summary(full.fit_num)"
   ]
  },
  {
   "cell_type": "code",
   "execution_count": 15,
   "metadata": {},
   "outputs": [
    {
     "name": "stderr",
     "output_type": "stream",
     "text": [
      "Waiting for profiling to be done...\n"
     ]
    },
    {
     "data": {
      "text/html": [
       "<table>\n",
       "<thead><tr><th></th><th scope=col>2.5 %</th><th scope=col>97.5 %</th></tr></thead>\n",
       "<tbody>\n",
       "\t<tr><th scope=row>(Intercept)</th><td>-6.52697337</td><td>0.4877489  </td></tr>\n",
       "\t<tr><th scope=row>Age</th><td>-0.08732483</td><td>0.2112889  </td></tr>\n",
       "\t<tr><th scope=row>DN</th><td>-1.03231225</td><td>0.7578197  </td></tr>\n",
       "\t<tr><th scope=row>DT</th><td>-0.90278716</td><td>0.6074640  </td></tr>\n",
       "\t<tr><th scope=row>BP</th><td>-0.65111496</td><td>1.1662917  </td></tr>\n",
       "\t<tr><th scope=row>HP</th><td> 0.53867485</td><td>3.2457265  </td></tr>\n",
       "</tbody>\n",
       "</table>\n"
      ],
      "text/latex": [
       "\\begin{tabular}{r|ll}\n",
       "  & 2.5 \\% & 97.5 \\%\\\\\n",
       "\\hline\n",
       "\t(Intercept) & -6.52697337 & 0.4877489  \\\\\n",
       "\tAge & -0.08732483 & 0.2112889  \\\\\n",
       "\tDN & -1.03231225 & 0.7578197  \\\\\n",
       "\tDT & -0.90278716 & 0.6074640  \\\\\n",
       "\tBP & -0.65111496 & 1.1662917  \\\\\n",
       "\tHP &  0.53867485 & 3.2457265  \\\\\n",
       "\\end{tabular}\n"
      ],
      "text/markdown": [
       "\n",
       "| <!--/--> | 2.5 % | 97.5 % | \n",
       "|---|---|---|---|---|---|\n",
       "| (Intercept) | -6.52697337 | 0.4877489   | \n",
       "| Age | -0.08732483 | 0.2112889   | \n",
       "| DN | -1.03231225 | 0.7578197   | \n",
       "| DT | -0.90278716 | 0.6074640   | \n",
       "| BP | -0.65111496 | 1.1662917   | \n",
       "| HP |  0.53867485 | 3.2457265   | \n",
       "\n",
       "\n"
      ],
      "text/plain": [
       "            2.5 %       97.5 %   \n",
       "(Intercept) -6.52697337 0.4877489\n",
       "Age         -0.08732483 0.2112889\n",
       "DN          -1.03231225 0.7578197\n",
       "DT          -0.90278716 0.6074640\n",
       "BP          -0.65111496 1.1662917\n",
       "HP           0.53867485 3.2457265"
      ]
     },
     "metadata": {},
     "output_type": "display_data"
    },
    {
     "data": {
      "text/html": [
       "<dl class=dl-horizontal>\n",
       "\t<dt>(Intercept)</dt>\n",
       "\t\t<dd>0.0614699983020103</dd>\n",
       "\t<dt>Age</dt>\n",
       "\t\t<dd>1.06176467162423</dd>\n",
       "\t<dt>DN</dt>\n",
       "\t\t<dd>0.876713446845346</dd>\n",
       "\t<dt>DT</dt>\n",
       "\t\t<dd>0.865241464773045</dd>\n",
       "\t<dt>BP</dt>\n",
       "\t\t<dd>1.27478659375149</dd>\n",
       "\t<dt>HP</dt>\n",
       "\t\t<dd>6.02374908760084</dd>\n",
       "</dl>\n"
      ],
      "text/latex": [
       "\\begin{description*}\n",
       "\\item[(Intercept)] 0.0614699983020103\n",
       "\\item[Age] 1.06176467162423\n",
       "\\item[DN] 0.876713446845346\n",
       "\\item[DT] 0.865241464773045\n",
       "\\item[BP] 1.27478659375149\n",
       "\\item[HP] 6.02374908760084\n",
       "\\end{description*}\n"
      ],
      "text/markdown": [
       "(Intercept)\n",
       ":   0.0614699983020103Age\n",
       ":   1.06176467162423DN\n",
       ":   0.876713446845346DT\n",
       ":   0.865241464773045BP\n",
       ":   1.27478659375149HP\n",
       ":   6.02374908760084\n",
       "\n"
      ],
      "text/plain": [
       "(Intercept)         Age          DN          DT          BP          HP \n",
       "  0.0614700   1.0617647   0.8767134   0.8652415   1.2747866   6.0237491 "
      ]
     },
     "metadata": {},
     "output_type": "display_data"
    }
   ],
   "source": [
    "confint(full.fit_num)\n",
    "exp(coef(full.fit_num))"
   ]
  },
  {
   "cell_type": "code",
   "execution_count": 16,
   "metadata": {},
   "outputs": [
    {
     "data": {
      "text/html": [
       "<table>\n",
       "<thead><tr><th></th><th scope=col>GVIF</th><th scope=col>Df</th><th scope=col>GVIF^(1/(2*Df))</th></tr></thead>\n",
       "<tbody>\n",
       "\t<tr><th scope=row>Age</th><td>19.514940</td><td>19       </td><td>1.081327 </td></tr>\n",
       "\t<tr><th scope=row>DN</th><td> 5.815875</td><td> 3       </td><td>1.341022 </td></tr>\n",
       "\t<tr><th scope=row>DT</th><td> 2.678911</td><td> 2       </td><td>1.279351 </td></tr>\n",
       "\t<tr><th scope=row>BP</th><td> 3.088776</td><td> 2       </td><td>1.325704 </td></tr>\n",
       "\t<tr><th scope=row>HP</th><td> 1.989140</td><td> 1       </td><td>1.410369 </td></tr>\n",
       "</tbody>\n",
       "</table>\n"
      ],
      "text/latex": [
       "\\begin{tabular}{r|lll}\n",
       "  & GVIF & Df & GVIF\\textasciicircum{}(1/(2*Df))\\\\\n",
       "\\hline\n",
       "\tAge & 19.514940 & 19        & 1.081327 \\\\\n",
       "\tDN &  5.815875 &  3        & 1.341022 \\\\\n",
       "\tDT &  2.678911 &  2        & 1.279351 \\\\\n",
       "\tBP &  3.088776 &  2        & 1.325704 \\\\\n",
       "\tHP &  1.989140 &  1        & 1.410369 \\\\\n",
       "\\end{tabular}\n"
      ],
      "text/markdown": [
       "\n",
       "| <!--/--> | GVIF | Df | GVIF^(1/(2*Df)) | \n",
       "|---|---|---|---|---|\n",
       "| Age | 19.514940 | 19        | 1.081327  | \n",
       "| DN |  5.815875 |  3        | 1.341022  | \n",
       "| DT |  2.678911 |  2        | 1.279351  | \n",
       "| BP |  3.088776 |  2        | 1.325704  | \n",
       "| HP |  1.989140 |  1        | 1.410369  | \n",
       "\n",
       "\n"
      ],
      "text/plain": [
       "    GVIF      Df GVIF^(1/(2*Df))\n",
       "Age 19.514940 19 1.081327       \n",
       "DN   5.815875  3 1.341022       \n",
       "DT   2.678911  2 1.279351       \n",
       "BP   3.088776  2 1.325704       \n",
       "HP   1.989140  1 1.410369       "
      ]
     },
     "metadata": {},
     "output_type": "display_data"
    }
   ],
   "source": [
    "vif(full.fit)"
   ]
  },
  {
   "cell_type": "code",
   "execution_count": null,
   "metadata": {},
   "outputs": [],
   "source": []
  },
  {
   "cell_type": "code",
   "execution_count": null,
   "metadata": {},
   "outputs": [],
   "source": []
  },
  {
   "cell_type": "code",
   "execution_count": null,
   "metadata": {},
   "outputs": [],
   "source": []
  },
  {
   "cell_type": "code",
   "execution_count": null,
   "metadata": {},
   "outputs": [],
   "source": []
  },
  {
   "cell_type": "code",
   "execution_count": 17,
   "metadata": {},
   "outputs": [
    {
     "name": "stdout",
     "output_type": "stream",
     "text": [
      "'data.frame':\t56 obs. of  6 variables:\n",
      " $ Age: num  6 10 10 11 12 11 17 7 4 13 ...\n",
      " $ DN : Factor w/ 4 levels \"1\",\"2\",\"3\",\"4\": 1 2 1 2 2 1 1 1 1 1 ...\n",
      " $ DT : Factor w/ 3 levels \"0\",\"1\",\"2\": 1 2 2 1 1 2 2 2 1 3 ...\n",
      " $ BP : Factor w/ 3 levels \"0\",\"1\",\"2\": 3 2 1 2 2 2 1 2 2 1 ...\n",
      " $ HP : Factor w/ 2 levels \"0\",\"1\": 1 1 1 1 1 1 1 1 2 2 ...\n",
      " $ CS : Factor w/ 2 levels \"0\",\"1\": 1 1 1 1 1 2 2 1 1 2 ...\n",
      "'data.frame':\t24 obs. of  6 variables:\n",
      " $ Age: num  10 12 6 16 19 9 8 10 11 2 ...\n",
      " $ DN : Factor w/ 4 levels \"1\",\"2\",\"3\",\"4\": 2 1 2 3 1 1 1 1 1 1 ...\n",
      " $ DT : Factor w/ 3 levels \"0\",\"1\",\"2\": 1 1 1 1 1 3 3 2 1 1 ...\n",
      " $ BP : Factor w/ 3 levels \"0\",\"1\",\"2\": 2 3 2 2 2 1 1 2 1 2 ...\n",
      " $ HP : Factor w/ 2 levels \"0\",\"1\": 1 1 1 1 1 1 2 1 2 1 ...\n",
      " $ CS : Factor w/ 2 levels \"0\",\"1\": 2 1 2 2 1 1 2 1 2 1 ...\n"
     ]
    }
   ],
   "source": [
    "# log reg from only numeric about Age\n",
    "\n",
    "#copy data for pre-processing \n",
    "rawdata.num_age=rawdata\n",
    "\n",
    "#change type for numeric data column=Age,DN(Delivery Number)\n",
    "rawdata.num_age$Age=as.numeric(rawdata$Age)\n",
    "#rawdata2$DN=as.numeric(rawdata$DN)\n",
    "\n",
    "traindata.num_age = rawdata.num_age[ind==1,] \n",
    "str(traindata.num_age) ## 80datas * 70% = 56datas\n",
    "testdata.num_age = rawdata.num_age[ind==2,] \n",
    "str(testdata.num_age)\n",
    "\n"
   ]
  },
  {
   "cell_type": "code",
   "execution_count": 18,
   "metadata": {},
   "outputs": [
    {
     "data": {
      "text/plain": [
       "\n",
       "Call:\n",
       "glm(formula = CS ~ ., family = binomial, data = traindata.num_age)\n",
       "\n",
       "Deviance Residuals: \n",
       "    Min       1Q   Median       3Q      Max  \n",
       "-1.7656  -0.8930   0.2696   0.7518   1.9929  \n",
       "\n",
       "Coefficients:\n",
       "              Estimate Std. Error z value Pr(>|z|)  \n",
       "(Intercept)    0.95446    1.44035   0.663   0.5075  \n",
       "Age            0.03012    0.08426   0.357   0.7208  \n",
       "DN2            0.04250    0.80266   0.053   0.9578  \n",
       "DN3           -0.39535    1.33656  -0.296   0.7674  \n",
       "DN4           16.89548 2150.24360   0.008   0.9937  \n",
       "DT1           -1.12722    0.91685  -1.229   0.2189  \n",
       "DT2           -0.96034    0.93098  -1.032   0.3023  \n",
       "BP1           -1.99671    1.02044  -1.957   0.0504 .\n",
       "BP2            0.18724    1.04530   0.179   0.8578  \n",
       "HP1            1.73123    0.83863   2.064   0.0390 *\n",
       "---\n",
       "Signif. codes:  0 ‘***’ 0.001 ‘**’ 0.01 ‘*’ 0.05 ‘.’ 0.1 ‘ ’ 1\n",
       "\n",
       "(Dispersion parameter for binomial family taken to be 1)\n",
       "\n",
       "    Null deviance: 75.837  on 55  degrees of freedom\n",
       "Residual deviance: 54.993  on 46  degrees of freedom\n",
       "AIC: 74.993\n",
       "\n",
       "Number of Fisher Scoring iterations: 16\n"
      ]
     },
     "metadata": {},
     "output_type": "display_data"
    }
   ],
   "source": [
    "## logistic reg. for category data (numeric type about age only)\n",
    "full.fit_num_age = glm(CS~., family=binomial, data=traindata.num_age)\n",
    "summary(full.fit_num_age)"
   ]
  },
  {
   "cell_type": "code",
   "execution_count": 19,
   "metadata": {
    "scrolled": true
   },
   "outputs": [
    {
     "name": "stderr",
     "output_type": "stream",
     "text": [
      "Waiting for profiling to be done...\n",
      "Warning message:\n",
      "“glm.fit: fitted probabilities numerically 0 or 1 occurred”Warning message:\n",
      "“glm.fit: fitted probabilities numerically 0 or 1 occurred”Warning message:\n",
      "“glm.fit: fitted probabilities numerically 0 or 1 occurred”Warning message:\n",
      "“glm.fit: fitted probabilities numerically 0 or 1 occurred”Warning message:\n",
      "“glm.fit: fitted probabilities numerically 0 or 1 occurred”Warning message:\n",
      "“glm.fit: fitted probabilities numerically 0 or 1 occurred”Warning message:\n",
      "“glm.fit: fitted probabilities numerically 0 or 1 occurred”Warning message:\n",
      "“glm.fit: fitted probabilities numerically 0 or 1 occurred”Warning message:\n",
      "“glm.fit: fitted probabilities numerically 0 or 1 occurred”Warning message:\n",
      "“glm.fit: fitted probabilities numerically 0 or 1 occurred”Warning message:\n",
      "“glm.fit: fitted probabilities numerically 0 or 1 occurred”Warning message:\n",
      "“glm.fit: fitted probabilities numerically 0 or 1 occurred”Warning message:\n",
      "“glm.fit: fitted probabilities numerically 0 or 1 occurred”Warning message:\n",
      "“glm.fit: fitted probabilities numerically 0 or 1 occurred”Warning message:\n",
      "“glm.fit: fitted probabilities numerically 0 or 1 occurred”Warning message:\n",
      "“glm.fit: fitted probabilities numerically 0 or 1 occurred”Warning message:\n",
      "“glm.fit: fitted probabilities numerically 0 or 1 occurred”Warning message:\n",
      "“glm.fit: fitted probabilities numerically 0 or 1 occurred”Warning message:\n",
      "“glm.fit: fitted probabilities numerically 0 or 1 occurred”Warning message:\n",
      "“glm.fit: fitted probabilities numerically 0 or 1 occurred”Warning message:\n",
      "“glm.fit: fitted probabilities numerically 0 or 1 occurred”Warning message:\n",
      "“glm.fit: fitted probabilities numerically 0 or 1 occurred”Warning message:\n",
      "“glm.fit: fitted probabilities numerically 0 or 1 occurred”Warning message:\n",
      "“glm.fit: fitted probabilities numerically 0 or 1 occurred”Warning message:\n",
      "“glm.fit: fitted probabilities numerically 0 or 1 occurred”Warning message:\n",
      "“glm.fit: fitted probabilities numerically 0 or 1 occurred”Warning message:\n",
      "“glm.fit: fitted probabilities numerically 0 or 1 occurred”Warning message:\n",
      "“glm.fit: fitted probabilities numerically 0 or 1 occurred”Warning message:\n",
      "“glm.fit: fitted probabilities numerically 0 or 1 occurred”Warning message:\n",
      "“glm.fit: fitted probabilities numerically 0 or 1 occurred”Warning message:\n",
      "“glm.fit: fitted probabilities numerically 0 or 1 occurred”Warning message:\n",
      "“glm.fit: fitted probabilities numerically 0 or 1 occurred”Warning message:\n",
      "“glm.fit: fitted probabilities numerically 0 or 1 occurred”Warning message:\n",
      "“glm.fit: fitted probabilities numerically 0 or 1 occurred”Warning message:\n",
      "“glm.fit: fitted probabilities numerically 0 or 1 occurred”Warning message:\n",
      "“glm.fit: fitted probabilities numerically 0 or 1 occurred”Warning message:\n",
      "“glm.fit: fitted probabilities numerically 0 or 1 occurred”Warning message:\n",
      "“glm.fit: fitted probabilities numerically 0 or 1 occurred”Warning message:\n",
      "“glm.fit: fitted probabilities numerically 0 or 1 occurred”Warning message:\n",
      "“glm.fit: fitted probabilities numerically 0 or 1 occurred”Warning message:\n",
      "“glm.fit: fitted probabilities numerically 0 or 1 occurred”Warning message:\n",
      "“glm.fit: fitted probabilities numerically 0 or 1 occurred”Warning message:\n",
      "“glm.fit: fitted probabilities numerically 0 or 1 occurred”Warning message:\n",
      "“glm.fit: fitted probabilities numerically 0 or 1 occurred”Warning message:\n",
      "“glm.fit: fitted probabilities numerically 0 or 1 occurred”Warning message:\n",
      "“glm.fit: fitted probabilities numerically 0 or 1 occurred”Warning message:\n",
      "“glm.fit: fitted probabilities numerically 0 or 1 occurred”Warning message:\n",
      "“glm.fit: fitted probabilities numerically 0 or 1 occurred”Warning message:\n",
      "“glm.fit: fitted probabilities numerically 0 or 1 occurred”Warning message:\n",
      "“glm.fit: fitted probabilities numerically 0 or 1 occurred”Warning message:\n",
      "“glm.fit: fitted probabilities numerically 0 or 1 occurred”Warning message:\n",
      "“glm.fit: fitted probabilities numerically 0 or 1 occurred”Warning message:\n",
      "“glm.fit: fitted probabilities numerically 0 or 1 occurred”Warning message:\n",
      "“glm.fit: fitted probabilities numerically 0 or 1 occurred”Warning message:\n",
      "“glm.fit: fitted probabilities numerically 0 or 1 occurred”Warning message:\n",
      "“glm.fit: fitted probabilities numerically 0 or 1 occurred”Warning message:\n",
      "“glm.fit: fitted probabilities numerically 0 or 1 occurred”Warning message:\n",
      "“glm.fit: fitted probabilities numerically 0 or 1 occurred”Warning message:\n",
      "“glm.fit: fitted probabilities numerically 0 or 1 occurred”Warning message:\n",
      "“glm.fit: fitted probabilities numerically 0 or 1 occurred”Warning message:\n",
      "“glm.fit: fitted probabilities numerically 0 or 1 occurred”Warning message:\n",
      "“glm.fit: fitted probabilities numerically 0 or 1 occurred”Warning message:\n",
      "“glm.fit: fitted probabilities numerically 0 or 1 occurred”Warning message:\n",
      "“glm.fit: fitted probabilities numerically 0 or 1 occurred”"
     ]
    },
    {
     "data": {
      "text/html": [
       "<table>\n",
       "<thead><tr><th></th><th scope=col>2.5 %</th><th scope=col>97.5 %</th></tr></thead>\n",
       "<tbody>\n",
       "\t<tr><th scope=row>(Intercept)</th><td>  -1.864947</td><td> 3.8934781 </td></tr>\n",
       "\t<tr><th scope=row>Age</th><td>  -0.138677</td><td> 0.1990255 </td></tr>\n",
       "\t<tr><th scope=row>DN2</th><td>  -1.536625</td><td> 1.6710164 </td></tr>\n",
       "\t<tr><th scope=row>DN3</th><td>  -3.011753</td><td> 2.4101886 </td></tr>\n",
       "\t<tr><th scope=row>DN4</th><td>-312.833520</td><td>        NA </td></tr>\n",
       "\t<tr><th scope=row>DT1</th><td>  -3.095064</td><td> 0.5863972 </td></tr>\n",
       "\t<tr><th scope=row>DT2</th><td>  -2.929587</td><td> 0.8162830 </td></tr>\n",
       "\t<tr><th scope=row>BP1</th><td>  -4.206230</td><td>-0.1195749 </td></tr>\n",
       "\t<tr><th scope=row>BP2</th><td>  -1.908930</td><td> 2.3035984 </td></tr>\n",
       "\t<tr><th scope=row>HP1</th><td>   0.173105</td><td> 3.5623229 </td></tr>\n",
       "</tbody>\n",
       "</table>\n"
      ],
      "text/latex": [
       "\\begin{tabular}{r|ll}\n",
       "  & 2.5 \\% & 97.5 \\%\\\\\n",
       "\\hline\n",
       "\t(Intercept) &   -1.864947 &  3.8934781 \\\\\n",
       "\tAge &   -0.138677 &  0.1990255 \\\\\n",
       "\tDN2 &   -1.536625 &  1.6710164 \\\\\n",
       "\tDN3 &   -3.011753 &  2.4101886 \\\\\n",
       "\tDN4 & -312.833520 &         NA \\\\\n",
       "\tDT1 &   -3.095064 &  0.5863972 \\\\\n",
       "\tDT2 &   -2.929587 &  0.8162830 \\\\\n",
       "\tBP1 &   -4.206230 & -0.1195749 \\\\\n",
       "\tBP2 &   -1.908930 &  2.3035984 \\\\\n",
       "\tHP1 &    0.173105 &  3.5623229 \\\\\n",
       "\\end{tabular}\n"
      ],
      "text/markdown": [
       "\n",
       "| <!--/--> | 2.5 % | 97.5 % | \n",
       "|---|---|---|---|---|---|---|---|---|---|\n",
       "| (Intercept) |   -1.864947 |  3.8934781  | \n",
       "| Age |   -0.138677 |  0.1990255  | \n",
       "| DN2 |   -1.536625 |  1.6710164  | \n",
       "| DN3 |   -3.011753 |  2.4101886  | \n",
       "| DN4 | -312.833520 |         NA  | \n",
       "| DT1 |   -3.095064 |  0.5863972  | \n",
       "| DT2 |   -2.929587 |  0.8162830  | \n",
       "| BP1 |   -4.206230 | -0.1195749  | \n",
       "| BP2 |   -1.908930 |  2.3035984  | \n",
       "| HP1 |    0.173105 |  3.5623229  | \n",
       "\n",
       "\n"
      ],
      "text/plain": [
       "            2.5 %       97.5 %    \n",
       "(Intercept)   -1.864947  3.8934781\n",
       "Age           -0.138677  0.1990255\n",
       "DN2           -1.536625  1.6710164\n",
       "DN3           -3.011753  2.4101886\n",
       "DN4         -312.833520         NA\n",
       "DT1           -3.095064  0.5863972\n",
       "DT2           -2.929587  0.8162830\n",
       "BP1           -4.206230 -0.1195749\n",
       "BP2           -1.908930  2.3035984\n",
       "HP1            0.173105  3.5623229"
      ]
     },
     "metadata": {},
     "output_type": "display_data"
    },
    {
     "data": {
      "text/html": [
       "<dl class=dl-horizontal>\n",
       "\t<dt>(Intercept)</dt>\n",
       "\t\t<dd>2.59727932142367</dd>\n",
       "\t<dt>Age</dt>\n",
       "\t\t<dd>1.03057801610931</dd>\n",
       "\t<dt>DN2</dt>\n",
       "\t\t<dd>1.04341982905049</dd>\n",
       "\t<dt>DN3</dt>\n",
       "\t\t<dd>0.67344505167936</dd>\n",
       "\t<dt>DN4</dt>\n",
       "\t\t<dd>21757735.95799</dd>\n",
       "\t<dt>DT1</dt>\n",
       "\t\t<dd>0.323932875959093</dd>\n",
       "\t<dt>DT2</dt>\n",
       "\t\t<dd>0.382762339351219</dd>\n",
       "\t<dt>BP1</dt>\n",
       "\t\t<dd>0.135781042414399</dd>\n",
       "\t<dt>BP2</dt>\n",
       "\t\t<dd>1.20591971587793</dd>\n",
       "\t<dt>HP1</dt>\n",
       "\t\t<dd>5.64759518640079</dd>\n",
       "</dl>\n"
      ],
      "text/latex": [
       "\\begin{description*}\n",
       "\\item[(Intercept)] 2.59727932142367\n",
       "\\item[Age] 1.03057801610931\n",
       "\\item[DN2] 1.04341982905049\n",
       "\\item[DN3] 0.67344505167936\n",
       "\\item[DN4] 21757735.95799\n",
       "\\item[DT1] 0.323932875959093\n",
       "\\item[DT2] 0.382762339351219\n",
       "\\item[BP1] 0.135781042414399\n",
       "\\item[BP2] 1.20591971587793\n",
       "\\item[HP1] 5.64759518640079\n",
       "\\end{description*}\n"
      ],
      "text/markdown": [
       "(Intercept)\n",
       ":   2.59727932142367Age\n",
       ":   1.03057801610931DN2\n",
       ":   1.04341982905049DN3\n",
       ":   0.67344505167936DN4\n",
       ":   21757735.95799DT1\n",
       ":   0.323932875959093DT2\n",
       ":   0.382762339351219BP1\n",
       ":   0.135781042414399BP2\n",
       ":   1.20591971587793HP1\n",
       ":   5.64759518640079\n",
       "\n"
      ],
      "text/plain": [
       " (Intercept)          Age          DN2          DN3          DN4          DT1 \n",
       "2.597279e+00 1.030578e+00 1.043420e+00 6.734451e-01 2.175774e+07 3.239329e-01 \n",
       "         DT2          BP1          BP2          HP1 \n",
       "3.827623e-01 1.357810e-01 1.205920e+00 5.647595e+00 "
      ]
     },
     "metadata": {},
     "output_type": "display_data"
    }
   ],
   "source": [
    "#confidence interval\n",
    "confint(full.fit_num_age)\n",
    "#odd's ratio\n",
    "exp(coef(full.fit_num_age))"
   ]
  },
  {
   "cell_type": "code",
   "execution_count": 20,
   "metadata": {},
   "outputs": [
    {
     "data": {
      "text/html": [
       "<table>\n",
       "<thead><tr><th></th><th scope=col>GVIF</th><th scope=col>Df</th><th scope=col>GVIF^(1/(2*Df))</th></tr></thead>\n",
       "<tbody>\n",
       "\t<tr><th scope=row>Age</th><td>1.426585</td><td>1       </td><td>1.194397</td></tr>\n",
       "\t<tr><th scope=row>DN</th><td>1.997602</td><td>3       </td><td>1.122238</td></tr>\n",
       "\t<tr><th scope=row>DT</th><td>1.529604</td><td>2       </td><td>1.112102</td></tr>\n",
       "\t<tr><th scope=row>BP</th><td>1.671006</td><td>2       </td><td>1.136958</td></tr>\n",
       "\t<tr><th scope=row>HP</th><td>1.364476</td><td>1       </td><td>1.168108</td></tr>\n",
       "</tbody>\n",
       "</table>\n"
      ],
      "text/latex": [
       "\\begin{tabular}{r|lll}\n",
       "  & GVIF & Df & GVIF\\textasciicircum{}(1/(2*Df))\\\\\n",
       "\\hline\n",
       "\tAge & 1.426585 & 1        & 1.194397\\\\\n",
       "\tDN & 1.997602 & 3        & 1.122238\\\\\n",
       "\tDT & 1.529604 & 2        & 1.112102\\\\\n",
       "\tBP & 1.671006 & 2        & 1.136958\\\\\n",
       "\tHP & 1.364476 & 1        & 1.168108\\\\\n",
       "\\end{tabular}\n"
      ],
      "text/markdown": [
       "\n",
       "| <!--/--> | GVIF | Df | GVIF^(1/(2*Df)) | \n",
       "|---|---|---|---|---|\n",
       "| Age | 1.426585 | 1        | 1.194397 | \n",
       "| DN | 1.997602 | 3        | 1.122238 | \n",
       "| DT | 1.529604 | 2        | 1.112102 | \n",
       "| BP | 1.671006 | 2        | 1.136958 | \n",
       "| HP | 1.364476 | 1        | 1.168108 | \n",
       "\n",
       "\n"
      ],
      "text/plain": [
       "    GVIF     Df GVIF^(1/(2*Df))\n",
       "Age 1.426585 1  1.194397       \n",
       "DN  1.997602 3  1.122238       \n",
       "DT  1.529604 2  1.112102       \n",
       "BP  1.671006 2  1.136958       \n",
       "HP  1.364476 1  1.168108       "
      ]
     },
     "metadata": {},
     "output_type": "display_data"
    }
   ],
   "source": [
    "# variance inflation factor\n",
    "vif(full.fit_num_age)"
   ]
  },
  {
   "cell_type": "code",
   "execution_count": 21,
   "metadata": {},
   "outputs": [
    {
     "data": {
      "text/html": [
       "<ol class=list-inline>\n",
       "\t<li>0.789585040057462</li>\n",
       "\t<li>0.138743641903629</li>\n",
       "\t<li>0.532066871028549</li>\n",
       "\t<li>0.338849488609767</li>\n",
       "\t<li>0.345629645687968</li>\n",
       "</ol>\n"
      ],
      "text/latex": [
       "\\begin{enumerate*}\n",
       "\\item 0.789585040057462\n",
       "\\item 0.138743641903629\n",
       "\\item 0.532066871028549\n",
       "\\item 0.338849488609767\n",
       "\\item 0.345629645687968\n",
       "\\end{enumerate*}\n"
      ],
      "text/markdown": [
       "1. 0.789585040057462\n",
       "2. 0.138743641903629\n",
       "3. 0.532066871028549\n",
       "4. 0.338849488609767\n",
       "5. 0.345629645687968\n",
       "\n",
       "\n"
      ],
      "text/plain": [
       "[1] 0.7895850 0.1387436 0.5320669 0.3388495 0.3456296"
      ]
     },
     "metadata": {},
     "output_type": "display_data"
    },
    {
     "data": {
      "text/html": [
       "<table>\n",
       "<thead><tr><th></th><th scope=col>1</th></tr></thead>\n",
       "<tbody>\n",
       "\t<tr><th scope=row>0</th><td>0</td></tr>\n",
       "\t<tr><th scope=row>1</th><td>1</td></tr>\n",
       "</tbody>\n",
       "</table>\n"
      ],
      "text/latex": [
       "\\begin{tabular}{r|l}\n",
       "  & 1\\\\\n",
       "\\hline\n",
       "\t0 & 0\\\\\n",
       "\t1 & 1\\\\\n",
       "\\end{tabular}\n"
      ],
      "text/markdown": [
       "\n",
       "| <!--/--> | 1 | \n",
       "|---|---|\n",
       "| 0 | 0 | \n",
       "| 1 | 1 | \n",
       "\n",
       "\n"
      ],
      "text/plain": [
       "  1\n",
       "0 0\n",
       "1 1"
      ]
     },
     "metadata": {},
     "output_type": "display_data"
    }
   ],
   "source": [
    "#prediction in the range 0~1 (rseponse)\n",
    "traindata.num_age$prob = predict(full.fit_num_age, type=\"response\")\n",
    "traindata.num_age$prob[1:5]\n",
    "contrasts(traindata$CS)"
   ]
  },
  {
   "cell_type": "code",
   "execution_count": 22,
   "metadata": {},
   "outputs": [
    {
     "data": {
      "text/plain": [
       "   \n",
       "     0  1\n",
       "  0 15  6\n",
       "  1  8 27"
      ]
     },
     "metadata": {},
     "output_type": "display_data"
    }
   ],
   "source": [
    "#confusion matrix\n",
    "traindata.num_age$predict = rep(0, length(traindata.num_age$prob)) # make empty vector as 0 (False)\n",
    "traindata.num_age$predict[traindata.num_age$prob>0.5] = 1 #fill vector if true (prob>0.5)\n",
    "confm=table(traindata.num_age$predict, traindata$CS)\n",
    "confm"
   ]
  },
  {
   "cell_type": "code",
   "execution_count": 23,
   "metadata": {},
   "outputs": [
    {
     "data": {
      "text/html": [
       "0.75"
      ],
      "text/latex": [
       "0.75"
      ],
      "text/markdown": [
       "0.75"
      ],
      "text/plain": [
       "[1] 0.75"
      ]
     },
     "metadata": {},
     "output_type": "display_data"
    }
   ],
   "source": [
    "#accuracy : (TN+TP)/(TN+FP+FN+TP)\n",
    "mean(traindata.num_age$predict == traindata.num_age$CS )\n"
   ]
  },
  {
   "cell_type": "code",
   "execution_count": 24,
   "metadata": {
    "scrolled": true
   },
   "outputs": [
    {
     "name": "stdout",
     "output_type": "stream",
     "text": [
      " 'table' int [1:2, 1:2] 15 8 6 27\n",
      " - attr(*, \"dimnames\")=List of 2\n",
      "  ..$ : chr [1:2] \"0\" \"1\"\n",
      "  ..$ : chr [1:2] \"0\" \"1\"\n",
      "'data.frame':\t4 obs. of  3 variables:\n",
      " $ Var1: Factor w/ 2 levels \"0\",\"1\": 1 2 1 2\n",
      " $ Var2: Factor w/ 2 levels \"0\",\"1\": 1 1 2 2\n",
      " $ Freq: int  15 8 6 27\n"
     ]
    },
    {
     "data": {
      "text/html": [
       "<table>\n",
       "<thead><tr><th scope=col>Var1</th><th scope=col>Var2</th><th scope=col>Freq</th></tr></thead>\n",
       "<tbody>\n",
       "\t<tr><td>0 </td><td>0 </td><td>15</td></tr>\n",
       "\t<tr><td>1 </td><td>0 </td><td> 8</td></tr>\n",
       "\t<tr><td>0 </td><td>1 </td><td> 6</td></tr>\n",
       "\t<tr><td>1 </td><td>1 </td><td>27</td></tr>\n",
       "</tbody>\n",
       "</table>\n"
      ],
      "text/latex": [
       "\\begin{tabular}{r|lll}\n",
       " Var1 & Var2 & Freq\\\\\n",
       "\\hline\n",
       "\t 0  & 0  & 15\\\\\n",
       "\t 1  & 0  &  8\\\\\n",
       "\t 0  & 1  &  6\\\\\n",
       "\t 1  & 1  & 27\\\\\n",
       "\\end{tabular}\n"
      ],
      "text/markdown": [
       "\n",
       "Var1 | Var2 | Freq | \n",
       "|---|---|---|---|\n",
       "| 0  | 0  | 15 | \n",
       "| 1  | 0  |  8 | \n",
       "| 0  | 1  |  6 | \n",
       "| 1  | 1  | 27 | \n",
       "\n",
       "\n"
      ],
      "text/plain": [
       "  Var1 Var2 Freq\n",
       "1 0    0    15  \n",
       "2 1    0     8  \n",
       "3 0    1     6  \n",
       "4 1    1    27  "
      ]
     },
     "metadata": {},
     "output_type": "display_data"
    },
    {
     "name": "stdout",
     "output_type": "stream",
     "text": [
      "numeric(0)\n",
      "numeric(0)\n",
      "numeric(0)\n"
     ]
    }
   ],
   "source": [
    "str(confm)\n",
    "TN=as.integer(confm[1,1])\n",
    "FP=confm[0,1]\n",
    "TP=confm[2,2]\n",
    "FN=confm[1,0]\n",
    "conf = as.data.frame(confm)\n",
    "str(conf)\n",
    "conf\n",
    "#Precision\n",
    "Precision = TP/(TP+FP)\n",
    "Recall = TP/(FN+TP)\n",
    "Accuracy = (TN+TP)/(TN+FP+FN+TP)\n",
    "print(Precision)\n",
    "print(Recall)\n",
    "print(Accuracy)"
   ]
  },
  {
   "cell_type": "code",
   "execution_count": 25,
   "metadata": {},
   "outputs": [
    {
     "name": "stdout",
     "output_type": "stream",
     "text": [
      "\n",
      " \n",
      "   Cell Contents\n",
      "|-------------------------|\n",
      "|                       N |\n",
      "| Chi-square contribution |\n",
      "|           N / Row Total |\n",
      "|           N / Col Total |\n",
      "|         N / Table Total |\n",
      "|-------------------------|\n",
      "\n",
      " \n",
      "Total Observations in Table:  56 \n",
      "\n",
      " \n",
      "                          | traindata$CS \n",
      "traindata.num_age$predict |         0 |         1 | Row Total | \n",
      "--------------------------|-----------|-----------|-----------|\n",
      "                        0 |        15 |         6 |        21 | \n",
      "                          |     4.712 |     3.284 |           | \n",
      "                          |     0.714 |     0.286 |     0.375 | \n",
      "                          |     0.652 |     0.182 |           | \n",
      "                          |     0.268 |     0.107 |           | \n",
      "--------------------------|-----------|-----------|-----------|\n",
      "                        1 |         8 |        27 |        35 | \n",
      "                          |     2.827 |     1.970 |           | \n",
      "                          |     0.229 |     0.771 |     0.625 | \n",
      "                          |     0.348 |     0.818 |           | \n",
      "                          |     0.143 |     0.482 |           | \n",
      "--------------------------|-----------|-----------|-----------|\n",
      "             Column Total |        23 |        33 |        56 | \n",
      "                          |     0.411 |     0.589 |           | \n",
      "--------------------------|-----------|-----------|-----------|\n",
      "\n",
      " \n",
      "List of 4\n",
      " $ t       : 'table' int [1:2, 1:2] 15 8 6 27\n",
      "  ..- attr(*, \"dimnames\")=List of 2\n",
      "  .. ..$ x: chr [1:2] \"0\" \"1\"\n",
      "  .. ..$ y: chr [1:2] \"0\" \"1\"\n",
      " $ prop.row: 'table' num [1:2, 1:2] 0.714 0.229 0.286 0.771\n",
      "  ..- attr(*, \"dimnames\")=List of 2\n",
      "  .. ..$ x: chr [1:2] \"0\" \"1\"\n",
      "  .. ..$ y: chr [1:2] \"0\" \"1\"\n",
      " $ prop.col: 'table' num [1:2, 1:2] 0.652 0.348 0.182 0.818\n",
      "  ..- attr(*, \"dimnames\")=List of 2\n",
      "  .. ..$ x: chr [1:2] \"0\" \"1\"\n",
      "  .. ..$ y: chr [1:2] \"0\" \"1\"\n",
      " $ prop.tbl: 'table' num [1:2, 1:2] 0.268 0.143 0.107 0.482\n",
      "  ..- attr(*, \"dimnames\")=List of 2\n",
      "  .. ..$ x: chr [1:2] \"0\" \"1\"\n",
      "  .. ..$ y: chr [1:2] \"0\" \"1\"\n",
      "[1] 0.8181818\n",
      "[1] 0.7714286\n",
      "[1] 0.75\n"
     ]
    }
   ],
   "source": [
    "library(gmodels)\n",
    "confm=CrossTable(traindata.num_age$predict, traindata$CS)\n",
    "#table(confm)\n",
    "str(confm)\n",
    "Precision=confm$prop.col[2,2]\n",
    "Recall=confm$prop.row[2,2]\n",
    "Accuracy = (confm$t[2,2]+confm$t[1,1])/sum(confm$t)\n",
    "print(Precision)\n",
    "print(Recall)\n",
    "print(Accuracy)"
   ]
  },
  {
   "cell_type": "code",
   "execution_count": 26,
   "metadata": {},
   "outputs": [
    {
     "name": "stderr",
     "output_type": "stream",
     "text": [
      "Loading required package: lattice\n"
     ]
    },
    {
     "data": {
      "text/plain": [
       "Confusion Matrix and Statistics\n",
       "\n",
       "          Reference\n",
       "Prediction  0  1\n",
       "         0 15  6\n",
       "         1  8 27\n",
       "                                          \n",
       "               Accuracy : 0.75            \n",
       "                 95% CI : (0.6163, 0.8561)\n",
       "    No Information Rate : 0.5893          \n",
       "    P-Value [Acc > NIR] : 0.009055        \n",
       "                                          \n",
       "                  Kappa : 0.4766          \n",
       " Mcnemar's Test P-Value : 0.789268        \n",
       "                                          \n",
       "            Sensitivity : 0.8182          \n",
       "            Specificity : 0.6522          \n",
       "         Pos Pred Value : 0.7714          \n",
       "         Neg Pred Value : 0.7143          \n",
       "             Prevalence : 0.5893          \n",
       "         Detection Rate : 0.4821          \n",
       "   Detection Prevalence : 0.6250          \n",
       "      Balanced Accuracy : 0.7352          \n",
       "                                          \n",
       "       'Positive' Class : 1               \n",
       "                                          "
      ]
     },
     "metadata": {},
     "output_type": "display_data"
    },
    {
     "name": "stdout",
     "output_type": "stream",
     "text": [
      "List of 6\n",
      " $ positive: chr \"1\"\n",
      " $ table   : 'table' int [1:2, 1:2] 15 8 6 27\n",
      "  ..- attr(*, \"dimnames\")=List of 2\n",
      "  .. ..$ Prediction: chr [1:2] \"0\" \"1\"\n",
      "  .. ..$ Reference : chr [1:2] \"0\" \"1\"\n",
      " $ overall : Named num [1:7] 0.75 0.477 0.616 0.856 0.589 ...\n",
      "  ..- attr(*, \"names\")= chr [1:7] \"Accuracy\" \"Kappa\" \"AccuracyLower\" \"AccuracyUpper\" ...\n",
      " $ byClass : Named num [1:11] 0.818 0.652 0.771 0.714 0.771 ...\n",
      "  ..- attr(*, \"names\")= chr [1:11] \"Sensitivity\" \"Specificity\" \"Pos Pred Value\" \"Neg Pred Value\" ...\n",
      " $ mode    : chr \"sens_spec\"\n",
      " $ dots    : list()\n",
      " - attr(*, \"class\")= chr \"confusionMatrix\"\n",
      "Sensitivity \n",
      "  0.8181818 \n",
      "Pos Pred Value \n",
      "     0.7714286 \n",
      "Accuracy \n",
      "    0.75 \n"
     ]
    }
   ],
   "source": [
    "library(caret)\n",
    "confm=confusionMatrix(as.factor(traindata.num_age$predict), as.factor(traindata$CS), positive=\"1\")\n",
    "# Sensitivity = Precision\n",
    "# Pos Pred Value = Recall\n",
    "# Accuracy\n",
    "confm\n",
    "str(confm)\n",
    "Precision=confm$byClass[\"Sensitivity\"]\n",
    "Recall=confm$byClass[\"Pos Pred Value\"]\n",
    "Accuracy = confm$overall[\"Accuracy\"]\n",
    "print(Precision)\n",
    "print(Recall)\n",
    "print(Accuracy)"
   ]
  },
  {
   "cell_type": "code",
   "execution_count": 27,
   "metadata": {},
   "outputs": [
    {
     "data": {
      "text/plain": [
       "   \n",
       "    0 1\n",
       "  0 5 4\n",
       "  1 6 9"
      ]
     },
     "metadata": {},
     "output_type": "display_data"
    },
    {
     "data": {
      "text/html": [
       "0.583333333333333"
      ],
      "text/latex": [
       "0.583333333333333"
      ],
      "text/markdown": [
       "0.583333333333333"
      ],
      "text/plain": [
       "[1] 0.5833333"
      ]
     },
     "metadata": {},
     "output_type": "display_data"
    }
   ],
   "source": [
    "testdata.num_age$prob = predict(full.fit_num_age, newdata=testdata.num_age, type=\"response\")\n",
    "testdata.num_age$predict = rep(0, length(testdata.num_age$prob))\n",
    "testdata.num_age$predict[testdata.num_age$prob>0.5] = 1\n",
    "table(testdata.num_age$predict, testdata.num_age$CS)\n",
    "mean(testdata.num_age$predict == testdata.num_age$CS)"
   ]
  },
  {
   "cell_type": "code",
   "execution_count": 28,
   "metadata": {},
   "outputs": [
    {
     "data": {
      "text/plain": [
       "Confusion Matrix and Statistics\n",
       "\n",
       "          Reference\n",
       "Prediction 0 1\n",
       "         0 5 4\n",
       "         1 6 9\n",
       "                                          \n",
       "               Accuracy : 0.5833          \n",
       "                 95% CI : (0.3664, 0.7789)\n",
       "    No Information Rate : 0.5417          \n",
       "    P-Value [Acc > NIR] : 0.4213          \n",
       "                                          \n",
       "                  Kappa : 0.1489          \n",
       " Mcnemar's Test P-Value : 0.7518          \n",
       "                                          \n",
       "            Sensitivity : 0.6923          \n",
       "            Specificity : 0.4545          \n",
       "         Pos Pred Value : 0.6000          \n",
       "         Neg Pred Value : 0.5556          \n",
       "             Prevalence : 0.5417          \n",
       "         Detection Rate : 0.3750          \n",
       "   Detection Prevalence : 0.6250          \n",
       "      Balanced Accuracy : 0.5734          \n",
       "                                          \n",
       "       'Positive' Class : 1               \n",
       "                                          "
      ]
     },
     "metadata": {},
     "output_type": "display_data"
    },
    {
     "name": "stdout",
     "output_type": "stream",
     "text": [
      "List of 6\n",
      " $ positive: chr \"1\"\n",
      " $ table   : 'table' int [1:2, 1:2] 5 6 4 9\n",
      "  ..- attr(*, \"dimnames\")=List of 2\n",
      "  .. ..$ Prediction: chr [1:2] \"0\" \"1\"\n",
      "  .. ..$ Reference : chr [1:2] \"0\" \"1\"\n",
      " $ overall : Named num [1:7] 0.583 0.149 0.366 0.779 0.542 ...\n",
      "  ..- attr(*, \"names\")= chr [1:7] \"Accuracy\" \"Kappa\" \"AccuracyLower\" \"AccuracyUpper\" ...\n",
      " $ byClass : Named num [1:11] 0.692 0.455 0.6 0.556 0.6 ...\n",
      "  ..- attr(*, \"names\")= chr [1:11] \"Sensitivity\" \"Specificity\" \"Pos Pred Value\" \"Neg Pred Value\" ...\n",
      " $ mode    : chr \"sens_spec\"\n",
      " $ dots    : list()\n",
      " - attr(*, \"class\")= chr \"confusionMatrix\"\n",
      "Sensitivity \n",
      "  0.6923077 \n",
      "Pos Pred Value \n",
      "           0.6 \n",
      " Accuracy \n",
      "0.5833333 \n"
     ]
    }
   ],
   "source": [
    "library(caret)\n",
    "confm=confusionMatrix(as.factor(testdata.num_age$predict), as.factor(testdata$CS), positive=\"1\")\n",
    "# Sensitivity = Precision\n",
    "# Pos Pred Value = Recall\n",
    "# Accuracy\n",
    "confm\n",
    "str(confm)\n",
    "Precision=confm$byClass[\"Sensitivity\"]\n",
    "Recall=confm$byClass[\"Pos Pred Value\"]\n",
    "Accuracy = confm$overall[\"Accuracy\"]\n",
    "print(Precision)\n",
    "print(Recall)\n",
    "print(Accuracy)"
   ]
  },
  {
   "cell_type": "code",
   "execution_count": 29,
   "metadata": {},
   "outputs": [
    {
     "name": "stderr",
     "output_type": "stream",
     "text": [
      "Loading required package: leaps\n"
     ]
    },
    {
     "data": {
      "text/html": [
       "<ol class=list-inline>\n",
       "\t<li>'Age'</li>\n",
       "\t<li>'DN'</li>\n",
       "\t<li>'DT'</li>\n",
       "\t<li>'BP'</li>\n",
       "\t<li>'HP'</li>\n",
       "\t<li>'y'</li>\n",
       "</ol>\n"
      ],
      "text/latex": [
       "\\begin{enumerate*}\n",
       "\\item 'Age'\n",
       "\\item 'DN'\n",
       "\\item 'DT'\n",
       "\\item 'BP'\n",
       "\\item 'HP'\n",
       "\\item 'y'\n",
       "\\end{enumerate*}\n"
      ],
      "text/markdown": [
       "1. 'Age'\n",
       "2. 'DN'\n",
       "3. 'DT'\n",
       "4. 'BP'\n",
       "5. 'HP'\n",
       "6. 'y'\n",
       "\n",
       "\n"
      ],
      "text/plain": [
       "[1] \"Age\" \"DN\"  \"DT\"  \"BP\"  \"HP\"  \"y\"  "
      ]
     },
     "metadata": {},
     "output_type": "display_data"
    },
    {
     "data": {
      "text/html": [
       "<table>\n",
       "<thead><tr><th></th><th scope=col>Age</th><th scope=col>DN</th><th scope=col>DT</th><th scope=col>BP</th><th scope=col>HP</th><th scope=col>y</th></tr></thead>\n",
       "<tbody>\n",
       "\t<tr><th scope=row>1</th><td> 6</td><td>1 </td><td>0 </td><td>2 </td><td>0 </td><td>0 </td></tr>\n",
       "\t<tr><th scope=row>3</th><td>10</td><td>2 </td><td>1 </td><td>1 </td><td>0 </td><td>0 </td></tr>\n",
       "\t<tr><th scope=row>6</th><td>10</td><td>1 </td><td>1 </td><td>0 </td><td>0 </td><td>0 </td></tr>\n",
       "\t<tr><th scope=row>7</th><td>11</td><td>2 </td><td>0 </td><td>1 </td><td>0 </td><td>0 </td></tr>\n",
       "\t<tr><th scope=row>9</th><td>12</td><td>2 </td><td>0 </td><td>1 </td><td>0 </td><td>0 </td></tr>\n",
       "\t<tr><th scope=row>10</th><td>11</td><td>1 </td><td>1 </td><td>1 </td><td>0 </td><td>1 </td></tr>\n",
       "</tbody>\n",
       "</table>\n"
      ],
      "text/latex": [
       "\\begin{tabular}{r|llllll}\n",
       "  & Age & DN & DT & BP & HP & y\\\\\n",
       "\\hline\n",
       "\t1 &  6 & 1  & 0  & 2  & 0  & 0 \\\\\n",
       "\t3 & 10 & 2  & 1  & 1  & 0  & 0 \\\\\n",
       "\t6 & 10 & 1  & 1  & 0  & 0  & 0 \\\\\n",
       "\t7 & 11 & 2  & 0  & 1  & 0  & 0 \\\\\n",
       "\t9 & 12 & 2  & 0  & 1  & 0  & 0 \\\\\n",
       "\t10 & 11 & 1  & 1  & 1  & 0  & 1 \\\\\n",
       "\\end{tabular}\n"
      ],
      "text/markdown": [
       "\n",
       "| <!--/--> | Age | DN | DT | BP | HP | y | \n",
       "|---|---|---|---|---|---|\n",
       "| 1 |  6 | 1  | 0  | 2  | 0  | 0  | \n",
       "| 3 | 10 | 2  | 1  | 1  | 0  | 0  | \n",
       "| 6 | 10 | 1  | 1  | 0  | 0  | 0  | \n",
       "| 7 | 11 | 2  | 0  | 1  | 0  | 0  | \n",
       "| 9 | 12 | 2  | 0  | 1  | 0  | 0  | \n",
       "| 10 | 11 | 1  | 1  | 1  | 0  | 1  | \n",
       "\n",
       "\n"
      ],
      "text/plain": [
       "   Age DN DT BP HP y\n",
       "1   6  1  0  2  0  0\n",
       "3  10  2  1  1  0  0\n",
       "6  10  1  1  0  0  0\n",
       "7  11  2  0  1  0  0\n",
       "9  12  2  0  1  0  0\n",
       "10 11  1  1  1  0  1"
      ]
     },
     "metadata": {},
     "output_type": "display_data"
    },
    {
     "name": "stdout",
     "output_type": "stream",
     "text": [
      "'data.frame':\t56 obs. of  6 variables:\n",
      " $ Age: num  6 10 10 11 12 11 17 7 4 13 ...\n",
      " $ DN : Factor w/ 4 levels \"1\",\"2\",\"3\",\"4\": 1 2 1 2 2 1 1 1 1 1 ...\n",
      " $ DT : Factor w/ 3 levels \"0\",\"1\",\"2\": 1 2 2 1 1 2 2 2 1 3 ...\n",
      " $ BP : Factor w/ 3 levels \"0\",\"1\",\"2\": 3 2 1 2 2 2 1 2 2 1 ...\n",
      " $ HP : Factor w/ 2 levels \"0\",\"1\": 1 1 1 1 1 1 1 1 2 2 ...\n",
      " $ y  : Factor w/ 2 levels \"0\",\"1\": 1 1 1 1 1 2 2 1 1 2 ...\n"
     ]
    }
   ],
   "source": [
    "#best subset reg.\n",
    "library(bestglm)\n",
    "cvdata = traindata.num_age[,-7:-8]\n",
    "orgcolname=colnames(rawdata)\n",
    "orgcolname[6]=\"y\"\n",
    "orgcolname\n",
    "colnames(cvdata)=orgcolname\n",
    "head(cvdata)\n",
    "#cvdata$y= as.numeric(traindata$CS)\n",
    "str(cvdata)"
   ]
  },
  {
   "cell_type": "code",
   "execution_count": 30,
   "metadata": {},
   "outputs": [
    {
     "ename": "ERROR",
     "evalue": "Error in bestglm(Xy = cvdata, IC = \"CV\", CVArgs = list(Method = \"HTF\", : Cross-validation not available when there are categorical variables with more than 2 levels!\n",
     "output_type": "error",
     "traceback": [
      "Error in bestglm(Xy = cvdata, IC = \"CV\", CVArgs = list(Method = \"HTF\", : Cross-validation not available when there are categorical variables with more than 2 levels!\nTraceback:\n",
      "1. bestglm(Xy = cvdata, IC = \"CV\", CVArgs = list(Method = \"HTF\", \n .     K + 10, REP = 1), family = binomial)",
      "2. stop(\"Cross-validation not available when there are categorical variables with more than 2 levels!\")"
     ]
    }
   ],
   "source": [
    "#k-fold cross validation\n",
    "cvdata.bestset=bestglm(Xy=cvdata, IC=\"CV\", CVArgs=list(Method=\"HTF\", K+10, REP=1), family=binomial)\n",
    "summary(cvdata.best)"
   ]
  },
  {
   "cell_type": "code",
   "execution_count": null,
   "metadata": {},
   "outputs": [],
   "source": [
    "#BIC\n",
    "cvdata.bestset=bestglm(Xy=cvdata, IC=\"BIC\", family=binomial)\n",
    "cvdata.bestset"
   ]
  },
  {
   "cell_type": "code",
   "execution_count": null,
   "metadata": {},
   "outputs": [],
   "source": []
  },
  {
   "cell_type": "code",
   "execution_count": null,
   "metadata": {},
   "outputs": [],
   "source": []
  },
  {
   "cell_type": "code",
   "execution_count": null,
   "metadata": {},
   "outputs": [],
   "source": []
  },
  {
   "cell_type": "code",
   "execution_count": null,
   "metadata": {},
   "outputs": [],
   "source": [
    "?rep"
   ]
  },
  {
   "cell_type": "markdown",
   "metadata": {},
   "source": [
    "#attribute 'Age' { 22,26,28,27,32,36,33,23,20,29,25,37,24,18,30,40,31,19,21,35,17,38 }\n",
    "#attribute 'Delivery number' { 1,2,3,4 }\n",
    "#attribute 'Delivery time' { 0,1,2 } -> {0 = timely , 1 = premature , 2 = latecomer}\n",
    "#attribute 'Blood of Pressure' { 2,1,0 } -> {0 = low , 1 = normal , 2 = high }\n",
    "#attribute 'Heart Problem' { 1,0 } -> {0 = apt, 1 = inept }\n",
    "#attribute Caesarian { 0,1 } -> {0 = No, 1 = Yes }"
   ]
  },
  {
   "cell_type": "code",
   "execution_count": null,
   "metadata": {},
   "outputs": [],
   "source": [
    "mkcat=function(x,val) {\n",
    "    y=c()\n",
    "    y.length=length(x)\n",
    "    count=1\n",
    "    for(i in x){\n",
    "        #print(i)\n",
    "        #print(count)\n",
    "        if( i == val) { y[count] = 1}\n",
    "        else{ y[count] = 0}\n",
    "        count=count+1\n",
    "    }\n",
    "    return (y)\n",
    "}"
   ]
  },
  {
   "cell_type": "code",
   "execution_count": null,
   "metadata": {},
   "outputs": [],
   "source": [
    "#copy data for pre-processing \n",
    "rawdata2=rawdata\n",
    "\n",
    "#change type for numeric data column=Age,DN(Delivery Number)\n",
    "rawdata2$Age=as.numeric(rawdata$Age)\n",
    "rawdata2$DN=as.numeric(rawdata$DN)\n",
    "\n",
    "#add cols for cateogry data\n",
    "# DT(delivery time) ->  DT0(timly=0), DT1(premature=1), 2(latecomer)\n",
    "rawdata2$DT0=mkcat(rawdata$DT, 0)\n",
    "rawdata2$DT1=mkcat(rawdata$DT, 1)\n",
    "rawdata2$DT2=mkcat(rawdata$DT, 2)\n",
    "\n",
    "#BP(Blood pressure) -> BP0(low=0), BP1(normal=1), 2(high)\n",
    "rawdata2$BP0=mkcat(rawdata$BP, 0)\n",
    "rawdata2$BP1=mkcat(rawdata$BP, 1)\n",
    "rawdata2$BP2=mkcat(rawdata$BP, 2)\n",
    "\n",
    "#HP(Heart Problem) -> HP0(apt=0), HP1(inept=1)\n",
    "rawdata2$HP0=mkcat(rawdata$HP, 0)\n",
    "rawdata2$HP1=mkcat(rawdata$HP, 1)\n",
    "\n",
    "#remove old data column\n",
    "str(rawdata2)\n",
    "rawdata3=rawdata2[-3:-5]\n",
    "str(rawdata3)"
   ]
  },
  {
   "cell_type": "code",
   "execution_count": null,
   "metadata": {},
   "outputs": [],
   "source": [
    "## data"
   ]
  },
  {
   "cell_type": "code",
   "execution_count": null,
   "metadata": {},
   "outputs": [],
   "source": [
    "## make samples from data\n",
    "## dividing orginal data by ratio for tran, test\n",
    "\n",
    "#fix random seed\n",
    "set.seed(123)\n",
    "\n",
    "# make index vector(row number) for two type(x=2 : train, test) of samples \n",
    "# with probability weight : train:test = 7:3  \n",
    "# in number of sample=nrow(rawdata3)=80 )\n",
    "# replace : If TRUE, same data from orginal can be repeat in new sample\n",
    "ind = sample(2, nrow(rawdata3), replace=TRUE, prob=c(0.7,0.3))\n",
    "\n",
    "traindata.raw3 = rawdata3[ind==1,] \n",
    "str(traindata.raw3) ## 80datas * 70% = 56datas\n",
    "testdata.raw3 = rawdata3[ind==2,] \n",
    "str(testdata.raw3)\n"
   ]
  },
  {
   "cell_type": "code",
   "execution_count": null,
   "metadata": {},
   "outputs": [],
   "source": [
    "## check the conservation of original data\n",
    "## check number of case CS=0 or 1\n",
    "table(rawdata3$CS)\n",
    "table(traindata$CS)\n",
    "table(testdata$CS)\n"
   ]
  },
  {
   "cell_type": "code",
   "execution_count": null,
   "metadata": {},
   "outputs": [],
   "source": [
    "## change data from wide type to long type \n",
    "library(reshape2)\n",
    "rawdata.m2 = melt(rawdata3[,-1], id.var=\"CS\")\n",
    "head(rawdata.m2)\n",
    "table(rawdata.m2$variable)\n",
    "## boxplot\n",
    "library(ggplot2)\n",
    "ggplot(data=rawdata.m2, aes(x=CS, y=value)) + geom_boxplot() + facet_wrap(~ variable, ncol=1)\n",
    "\n",
    "\n"
   ]
  },
  {
   "cell_type": "code",
   "execution_count": null,
   "metadata": {},
   "outputs": [],
   "source": [
    "#best subset reg.\n",
    "library(bestglm)\n",
    "cvdata = traindata.raw3\n",
    "orgcolname=colnames(rawdata3)\n",
    "orgcolname[3]=\"y\"\n",
    "orgcolname\n",
    "colnames(cvdata)=orgcolname\n",
    "head(cvdata)\n",
    "cvdata$y= as.factor(traindata.raw3$DT0)\n",
    "#cvdata$y= as.numeric(traindata.raw3$CS)\n",
    "str(cvdata)"
   ]
  },
  {
   "cell_type": "code",
   "execution_count": null,
   "metadata": {},
   "outputs": [],
   "source": [
    "#k-fold cross validation for best subset log reg\n",
    "cvdata.bestset=bestglm(Xy=cvdata, IC=\"CV\", CVArgs=list(Method=\"HTF\", K=3, REP=1), family=binomial)\n",
    "summary(cvdata.best)"
   ]
  },
  {
   "cell_type": "code",
   "execution_count": null,
   "metadata": {},
   "outputs": [],
   "source": [
    "#BIC\n",
    "cvdata.bestset=bestglm(Xy=cvdata, IC=\"BIC\", family=binomial)\n",
    "cvdata.bestset"
   ]
  },
  {
   "cell_type": "code",
   "execution_count": null,
   "metadata": {},
   "outputs": [],
   "source": [
    "#ROCs\n",
    "cvdata.bestset=bestglm(Xy=cvdata, IC=\"ROCs\", family=binomial)\n",
    "cvdata.bestset"
   ]
  },
  {
   "cell_type": "code",
   "execution_count": null,
   "metadata": {},
   "outputs": [],
   "source": [
    "#"
   ]
  },
  {
   "cell_type": "code",
   "execution_count": null,
   "metadata": {},
   "outputs": [],
   "source": []
  }
 ],
 "metadata": {
  "kernelspec": {
   "display_name": "R",
   "language": "R",
   "name": "ir"
  },
  "language_info": {
   "codemirror_mode": "r",
   "file_extension": ".r",
   "mimetype": "text/x-r-source",
   "name": "R",
   "pygments_lexer": "r",
   "version": "3.6.0"
  },
  "varInspector": {
   "cols": {
    "lenName": 16,
    "lenType": 16,
    "lenVar": 40
   },
   "kernels_config": {
    "python": {
     "delete_cmd_postfix": "",
     "delete_cmd_prefix": "del ",
     "library": "var_list.py",
     "varRefreshCmd": "print(var_dic_list())"
    },
    "r": {
     "delete_cmd_postfix": ") ",
     "delete_cmd_prefix": "rm(",
     "library": "var_list.r",
     "varRefreshCmd": "cat(var_dic_list()) "
    }
   },
   "types_to_exclude": [
    "module",
    "function",
    "builtin_function_or_method",
    "instance",
    "_Feature"
   ],
   "window_display": false
  }
 },
 "nbformat": 4,
 "nbformat_minor": 2
}
